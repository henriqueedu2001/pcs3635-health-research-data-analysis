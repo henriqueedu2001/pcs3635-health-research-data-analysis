{
 "cells": [
  {
   "cell_type": "markdown",
   "metadata": {},
   "source": [
    "# [PCS3635] Análise de Dados"
   ]
  },
  {
   "cell_type": "code",
   "execution_count": 138,
   "metadata": {},
   "outputs": [],
   "source": [
    "import pandas as pd\n",
    "import numpy as np\n",
    "from matplotlib import pyplot as plt\n",
    "from scipy.stats import gaussian_kde\n",
    "import seaborn as sns\n",
    "from matplotlib.ticker import MaxNLocator\n",
    "from scipy.stats import chi2_contingency\n",
    "from scipy import stats\n",
    "from scipy.stats import lognorm\n",
    "import statsmodels.api as sm\n",
    "from plotnine import (\n",
    "    ggplot,\n",
    "    aes,\n",
    "    after_stat,\n",
    "    geom_histogram,\n",
    "    geom_qq,\n",
    "    geom_vline,\n",
    "    geom_qq_line,\n",
    "    geom_density,\n",
    "    facet_wrap,\n",
    "    facet_grid,\n",
    "    coord_flip,\n",
    "    scale_y_continuous,\n",
    "    scale_y_sqrt,\n",
    "    scale_y_log10,\n",
    "    scale_x_log10,\n",
    "    scale_fill_manual,\n",
    "    theme_bw,\n",
    "    theme_xkcd,\n",
    ")"
   ]
  },
  {
   "cell_type": "markdown",
   "metadata": {},
   "source": [
    "## Estatística"
   ]
  },
  {
   "cell_type": "code",
   "execution_count": 139,
   "metadata": {},
   "outputs": [],
   "source": [
    "critic_p_value = 0.05"
   ]
  },
  {
   "cell_type": "code",
   "execution_count": 140,
   "metadata": {},
   "outputs": [],
   "source": [
    "linkert_categories = [1, 2, 3, 4, 5]"
   ]
  },
  {
   "cell_type": "code",
   "execution_count": 141,
   "metadata": {},
   "outputs": [],
   "source": [
    "def get_percentage_str(fraction: float) -> str:\n",
    "    \"\"\"Converts an fraction in to a percentage\n",
    "\n",
    "    Args:\n",
    "        fraction (float): _description_\n",
    "\n",
    "    Returns:\n",
    "        str: _description_\n",
    "    \n",
    "    Examples:\n",
    "        >>> get_percentage_str(0.01537)\n",
    "        54.23 %\n",
    "        \n",
    "        >>> get_percentage_str(0.5672434)\n",
    "        56.72 %\n",
    "    \"\"\"\n",
    "    percentage_str = 100*fraction\n",
    "    percentage_str = f'{percentage_str:.2f}%'\n",
    "    \n",
    "    return percentage_str"
   ]
  },
  {
   "cell_type": "code",
   "execution_count": 142,
   "metadata": {},
   "outputs": [],
   "source": [
    "def count_linkert(data: np.array) -> np.array:\n",
    "    \"\"\"Counts the number of ocurrencies of every category of the linkert scale\n",
    "\n",
    "    Args:\n",
    "        data (np.array): the input data\n",
    "\n",
    "    Returns:\n",
    "        np.array: the counting vector, with the number of occurrences \n",
    "    \n",
    "    Examples:\n",
    "        >>> input_data = np.array([4, 1, 2, 2, 1, 4, 4, 1, 4])\n",
    "        >>> count_linkert(input_data)\n",
    "        array([3., 2., 0., 4., 0.])\n",
    "    \"\"\"\n",
    "    linkert_counting = np.zeros(5)\n",
    "    \n",
    "    for i, category in enumerate(linkert_categories):\n",
    "        linkert_counting[i] += data[data == category].size\n",
    "    \n",
    "    return linkert_counting"
   ]
  },
  {
   "cell_type": "markdown",
   "metadata": {},
   "source": [
    "## Leitura do CSV"
   ]
  },
  {
   "cell_type": "code",
   "execution_count": 143,
   "metadata": {},
   "outputs": [],
   "source": [
    "df = pd.read_csv('encoded_data.csv')"
   ]
  },
  {
   "cell_type": "markdown",
   "metadata": {},
   "source": [
    "## Descrição Básica do Dataframe "
   ]
  },
  {
   "cell_type": "code",
   "execution_count": 144,
   "metadata": {},
   "outputs": [
    {
     "data": {
      "text/html": [
       "<div>\n",
       "<style scoped>\n",
       "    .dataframe tbody tr th:only-of-type {\n",
       "        vertical-align: middle;\n",
       "    }\n",
       "\n",
       "    .dataframe tbody tr th {\n",
       "        vertical-align: top;\n",
       "    }\n",
       "\n",
       "    .dataframe thead th {\n",
       "        text-align: right;\n",
       "    }\n",
       "</style>\n",
       "<table border=\"1\" class=\"dataframe\">\n",
       "  <thead>\n",
       "    <tr style=\"text-align: right;\">\n",
       "      <th></th>\n",
       "      <th>date</th>\n",
       "      <th>PA_1</th>\n",
       "      <th>PA_2</th>\n",
       "      <th>PA_3</th>\n",
       "      <th>PA_4</th>\n",
       "      <th>PA_5</th>\n",
       "      <th>PA_6</th>\n",
       "      <th>PA_7</th>\n",
       "      <th>PA_8</th>\n",
       "      <th>PA_8_1</th>\n",
       "      <th>...</th>\n",
       "      <th>PS_4_2</th>\n",
       "      <th>PS_4_3</th>\n",
       "      <th>PS_4_4</th>\n",
       "      <th>PS_4_5</th>\n",
       "      <th>PS_5</th>\n",
       "      <th>PS_6</th>\n",
       "      <th>PS_7_1</th>\n",
       "      <th>PS_7_2</th>\n",
       "      <th>PS_7_3</th>\n",
       "      <th>PS_8</th>\n",
       "    </tr>\n",
       "  </thead>\n",
       "  <tbody>\n",
       "    <tr>\n",
       "      <th>0</th>\n",
       "      <td>22/04/2024 15:22:50</td>\n",
       "      <td>1</td>\n",
       "      <td>4</td>\n",
       "      <td>8.0</td>\n",
       "      <td>12.0</td>\n",
       "      <td>4</td>\n",
       "      <td>3</td>\n",
       "      <td>5</td>\n",
       "      <td>Se atrasar com o conteúdo outras disciplinas, ...</td>\n",
       "      <td>1</td>\n",
       "      <td>...</td>\n",
       "      <td>2.0</td>\n",
       "      <td>2.0</td>\n",
       "      <td>1.0</td>\n",
       "      <td>1.0</td>\n",
       "      <td>-5.0</td>\n",
       "      <td>1.0</td>\n",
       "      <td>2.0</td>\n",
       "      <td>1.0</td>\n",
       "      <td>0.0</td>\n",
       "      <td>NaN</td>\n",
       "    </tr>\n",
       "    <tr>\n",
       "      <th>1</th>\n",
       "      <td>22/04/2024 15:23:42</td>\n",
       "      <td>1</td>\n",
       "      <td>1</td>\n",
       "      <td>12.0</td>\n",
       "      <td>40.0</td>\n",
       "      <td>4</td>\n",
       "      <td>1</td>\n",
       "      <td>5</td>\n",
       "      <td>Se atrasar com o conteúdo outras disciplinas, ...</td>\n",
       "      <td>1</td>\n",
       "      <td>...</td>\n",
       "      <td>3.0</td>\n",
       "      <td>2.0</td>\n",
       "      <td>2.0</td>\n",
       "      <td>2.0</td>\n",
       "      <td>5.0</td>\n",
       "      <td>1.0</td>\n",
       "      <td>0.0</td>\n",
       "      <td>2.0</td>\n",
       "      <td>1.0</td>\n",
       "      <td>O fato de LabDig exigir mais tempo que o norma...</td>\n",
       "    </tr>\n",
       "    <tr>\n",
       "      <th>2</th>\n",
       "      <td>22/04/2024 15:24:48</td>\n",
       "      <td>2</td>\n",
       "      <td>4</td>\n",
       "      <td>8.0</td>\n",
       "      <td>9.0</td>\n",
       "      <td>2</td>\n",
       "      <td>1</td>\n",
       "      <td>2</td>\n",
       "      <td>Falta de tempo para o EP de [PCS3616] Sistemas...</td>\n",
       "      <td>0</td>\n",
       "      <td>...</td>\n",
       "      <td>3.0</td>\n",
       "      <td>3.0</td>\n",
       "      <td>4.0</td>\n",
       "      <td>3.0</td>\n",
       "      <td>5.0</td>\n",
       "      <td>0.0</td>\n",
       "      <td>0.0</td>\n",
       "      <td>0.0</td>\n",
       "      <td>0.0</td>\n",
       "      <td>NaN</td>\n",
       "    </tr>\n",
       "    <tr>\n",
       "      <th>3</th>\n",
       "      <td>22/04/2024 15:29:14</td>\n",
       "      <td>2</td>\n",
       "      <td>4</td>\n",
       "      <td>6.0</td>\n",
       "      <td>30.0</td>\n",
       "      <td>4</td>\n",
       "      <td>3</td>\n",
       "      <td>4</td>\n",
       "      <td>Se atrasar com o conteúdo outras disciplinas, ...</td>\n",
       "      <td>1</td>\n",
       "      <td>...</td>\n",
       "      <td>4.0</td>\n",
       "      <td>4.0</td>\n",
       "      <td>4.0</td>\n",
       "      <td>4.0</td>\n",
       "      <td>5.0</td>\n",
       "      <td>1.0</td>\n",
       "      <td>0.0</td>\n",
       "      <td>0.0</td>\n",
       "      <td>0.0</td>\n",
       "      <td>A matéria em si foi exigente, foi puxada, p...</td>\n",
       "    </tr>\n",
       "    <tr>\n",
       "      <th>4</th>\n",
       "      <td>22/04/2024 15:43:26</td>\n",
       "      <td>1</td>\n",
       "      <td>5</td>\n",
       "      <td>1.0</td>\n",
       "      <td>10.0</td>\n",
       "      <td>1</td>\n",
       "      <td>1</td>\n",
       "      <td>1</td>\n",
       "      <td>NaN</td>\n",
       "      <td>0</td>\n",
       "      <td>...</td>\n",
       "      <td>5.0</td>\n",
       "      <td>5.0</td>\n",
       "      <td>5.0</td>\n",
       "      <td>5.0</td>\n",
       "      <td>15.0</td>\n",
       "      <td>0.0</td>\n",
       "      <td>0.0</td>\n",
       "      <td>0.0</td>\n",
       "      <td>0.0</td>\n",
       "      <td>NaN</td>\n",
       "    </tr>\n",
       "  </tbody>\n",
       "</table>\n",
       "<p>5 rows × 53 columns</p>\n",
       "</div>"
      ],
      "text/plain": [
       "                  date  PA_1  PA_2  PA_3  PA_4  PA_5  PA_6  PA_7  \\\n",
       "0  22/04/2024 15:22:50     1     4   8.0  12.0     4     3     5   \n",
       "1  22/04/2024 15:23:42     1     1  12.0  40.0     4     1     5   \n",
       "2  22/04/2024 15:24:48     2     4   8.0   9.0     2     1     2   \n",
       "3  22/04/2024 15:29:14     2     4   6.0  30.0     4     3     4   \n",
       "4  22/04/2024 15:43:26     1     5   1.0  10.0     1     1     1   \n",
       "\n",
       "                                                PA_8  PA_8_1  ...  PS_4_2  \\\n",
       "0  Se atrasar com o conteúdo outras disciplinas, ...       1  ...     2.0   \n",
       "1  Se atrasar com o conteúdo outras disciplinas, ...       1  ...     3.0   \n",
       "2  Falta de tempo para o EP de [PCS3616] Sistemas...       0  ...     3.0   \n",
       "3  Se atrasar com o conteúdo outras disciplinas, ...       1  ...     4.0   \n",
       "4                                                NaN       0  ...     5.0   \n",
       "\n",
       "   PS_4_3  PS_4_4  PS_4_5  PS_5  PS_6  PS_7_1  PS_7_2  PS_7_3  \\\n",
       "0     2.0     1.0     1.0  -5.0   1.0     2.0     1.0     0.0   \n",
       "1     2.0     2.0     2.0   5.0   1.0     0.0     2.0     1.0   \n",
       "2     3.0     4.0     3.0   5.0   0.0     0.0     0.0     0.0   \n",
       "3     4.0     4.0     4.0   5.0   1.0     0.0     0.0     0.0   \n",
       "4     5.0     5.0     5.0  15.0   0.0     0.0     0.0     0.0   \n",
       "\n",
       "                                                PS_8  \n",
       "0                                                NaN  \n",
       "1  O fato de LabDig exigir mais tempo que o norma...  \n",
       "2                                                NaN  \n",
       "3     A matéria em si foi exigente, foi puxada, p...  \n",
       "4                                                NaN  \n",
       "\n",
       "[5 rows x 53 columns]"
      ]
     },
     "execution_count": 144,
     "metadata": {},
     "output_type": "execute_result"
    }
   ],
   "source": [
    "df.head()"
   ]
  },
  {
   "cell_type": "code",
   "execution_count": 145,
   "metadata": {},
   "outputs": [
    {
     "name": "stdout",
     "output_type": "stream",
     "text": [
      "<class 'pandas.core.frame.DataFrame'>\n",
      "RangeIndex: 31 entries, 0 to 30\n",
      "Data columns (total 53 columns):\n",
      " #   Column   Non-Null Count  Dtype  \n",
      "---  ------   --------------  -----  \n",
      " 0   date     31 non-null     object \n",
      " 1   PA_1     31 non-null     int64  \n",
      " 2   PA_2     31 non-null     int64  \n",
      " 3   PA_3     29 non-null     float64\n",
      " 4   PA_4     28 non-null     float64\n",
      " 5   PA_5     31 non-null     int64  \n",
      " 6   PA_6     31 non-null     int64  \n",
      " 7   PA_7     31 non-null     int64  \n",
      " 8   PA_8     29 non-null     object \n",
      " 9   PA_8_1   31 non-null     int64  \n",
      " 10  PA_8_2   31 non-null     int64  \n",
      " 11  PA_8_3   31 non-null     int64  \n",
      " 12  PA_8_4   31 non-null     int64  \n",
      " 13  PA_8_5   31 non-null     int64  \n",
      " 14  PA_8_6   31 non-null     int64  \n",
      " 15  PA_8_7   31 non-null     int64  \n",
      " 16  PA_8_8   31 non-null     int64  \n",
      " 17  PA_8_9   31 non-null     int64  \n",
      " 18  PA_9     28 non-null     float64\n",
      " 19  PA_10    31 non-null     int64  \n",
      " 20  PA_11_1  29 non-null     float64\n",
      " 21  PA_11_2  29 non-null     float64\n",
      " 22  PA_11_3  29 non-null     float64\n",
      " 23  PA_11_4  29 non-null     float64\n",
      " 24  PA_11_5  29 non-null     float64\n",
      " 25  PA_11_6  29 non-null     float64\n",
      " 26  PA_12_1  31 non-null     int64  \n",
      " 27  PA_12_2  31 non-null     int64  \n",
      " 28  PA_12_3  31 non-null     int64  \n",
      " 29  PA_12_4  31 non-null     int64  \n",
      " 30  PA_12_5  31 non-null     int64  \n",
      " 31  PA_12_6  31 non-null     int64  \n",
      " 32  PA_12_7  31 non-null     int64  \n",
      " 33  PA_12_8  31 non-null     int64  \n",
      " 34  PA_12_9  31 non-null     int64  \n",
      " 35  PS_1     31 non-null     int64  \n",
      " 36  PS_2     31 non-null     int64  \n",
      " 37  PS_3_1   30 non-null     float64\n",
      " 38  PS_3_2   29 non-null     float64\n",
      " 39  PS_3_3   30 non-null     float64\n",
      " 40  PS_3_4   30 non-null     float64\n",
      " 41  PS_3_5   30 non-null     float64\n",
      " 42  PS_4_1   30 non-null     float64\n",
      " 43  PS_4_2   30 non-null     float64\n",
      " 44  PS_4_3   30 non-null     float64\n",
      " 45  PS_4_4   30 non-null     float64\n",
      " 46  PS_4_5   30 non-null     float64\n",
      " 47  PS_5     29 non-null     float64\n",
      " 48  PS_6     27 non-null     float64\n",
      " 49  PS_7_1   29 non-null     float64\n",
      " 50  PS_7_2   29 non-null     float64\n",
      " 51  PS_7_3   29 non-null     float64\n",
      " 52  PS_8     11 non-null     object \n",
      "dtypes: float64(24), int64(26), object(3)\n",
      "memory usage: 13.0+ KB\n"
     ]
    }
   ],
   "source": [
    "df.info()"
   ]
  },
  {
   "cell_type": "code",
   "execution_count": 146,
   "metadata": {},
   "outputs": [
    {
     "data": {
      "text/plain": [
       "(31, 53)"
      ]
     },
     "execution_count": 146,
     "metadata": {},
     "output_type": "execute_result"
    }
   ],
   "source": [
    "df.shape"
   ]
  },
  {
   "cell_type": "markdown",
   "metadata": {},
   "source": [
    "## Configuração das Figuras"
   ]
  },
  {
   "cell_type": "code",
   "execution_count": 147,
   "metadata": {},
   "outputs": [],
   "source": [
    "# if this variable is True, when the notebook is fully executed, all the figures will be replaced\n",
    "# by the new figures of this notebook\n",
    "save_all_figures = True"
   ]
  },
  {
   "cell_type": "code",
   "execution_count": 148,
   "metadata": {},
   "outputs": [],
   "source": [
    "fig_default_size = (8, 6)\n",
    "fig_default_color = 'darkblue'\n",
    "top_bar_text_offset = 0.5\n",
    "right_bar_text_offset = 2.0\n",
    "\n",
    "fig_2_subplots_default_size = (6, 4)"
   ]
  },
  {
   "cell_type": "markdown",
   "metadata": {},
   "source": [
    "## Pesquisa Acadêmica"
   ]
  },
  {
   "cell_type": "markdown",
   "metadata": {},
   "source": [
    "### PA_1\n",
    "De qual turma você faz parte?<br>\n",
    "- (a) Segunda-Feira<br>\n",
    "- (b) Quarta-Feira"
   ]
  },
  {
   "cell_type": "code",
   "execution_count": 149,
   "metadata": {},
   "outputs": [
    {
     "data": {
      "text/plain": [
       "((31,), (11, 53), (20, 53))"
      ]
     },
     "execution_count": 149,
     "metadata": {},
     "output_type": "execute_result"
    }
   ],
   "source": [
    "PA_1 = df['PA_1']\n",
    "\n",
    "# separation by groups\n",
    "monday_df = df[df['PA_1'] == 1]\n",
    "wednesday_df = df[df['PA_1'] == 2]\n",
    "\n",
    "PA_1.shape, monday_df.shape, wednesday_df.shape"
   ]
  },
  {
   "cell_type": "code",
   "execution_count": 150,
   "metadata": {},
   "outputs": [
    {
     "data": {
      "text/plain": [
       "{'monday_total_n': 38,\n",
       " 'wednesday_total_n': 27,\n",
       " 'monday_total_n_answered': 11,\n",
       " 'wednesday_total_n_answered': 20,\n",
       " 'monday_fraction_answered': 0.2894736842105263,\n",
       " 'wednesday_fraction_answered': 0.7407407407407407,\n",
       " 'monday_fraction_answered_percentage': 28.947368421052634,\n",
       " 'wednesday_fraction_answered_percentage': 74.07407407407408}"
      ]
     },
     "execution_count": 150,
     "metadata": {},
     "output_type": "execute_result"
    }
   ],
   "source": [
    "# total number of students per group\n",
    "monday_total_n = 38\n",
    "wednesday_total_n = 27\n",
    "\n",
    "# total number of students that answered the research per group\n",
    "monday_total_n_answered = monday_df.shape[0]\n",
    "wednesday_total_n_answered = wednesday_df.shape[0]\n",
    "\n",
    "# n answers / n students per group\n",
    "monday_fraction_answered = monday_total_n_answered/monday_total_n\n",
    "wednesday_fraction_answered = wednesday_total_n_answered/wednesday_total_n\n",
    "\n",
    "# n answers / n students per group in percentage\n",
    "monday_fraction_answered_percentage = 100*monday_fraction_answered\n",
    "wednesday_fraction_answered_percentage = 100*wednesday_fraction_answered\n",
    "\n",
    "groups = {\n",
    "    'monday_total_n': monday_total_n,\n",
    "    'wednesday_total_n': wednesday_total_n,\n",
    "    'monday_total_n_answered': monday_total_n_answered,\n",
    "    'wednesday_total_n_answered': wednesday_total_n_answered,\n",
    "    'monday_fraction_answered': monday_fraction_answered,\n",
    "    'wednesday_fraction_answered': wednesday_fraction_answered,\n",
    "    'monday_fraction_answered_percentage': monday_fraction_answered_percentage,\n",
    "    'wednesday_fraction_answered_percentage': wednesday_fraction_answered_percentage\n",
    "}\n",
    "\n",
    "groups"
   ]
  },
  {
   "cell_type": "code",
   "execution_count": 151,
   "metadata": {},
   "outputs": [
    {
     "data": {
      "text/html": [
       "<div>\n",
       "<style scoped>\n",
       "    .dataframe tbody tr th:only-of-type {\n",
       "        vertical-align: middle;\n",
       "    }\n",
       "\n",
       "    .dataframe tbody tr th {\n",
       "        vertical-align: top;\n",
       "    }\n",
       "\n",
       "    .dataframe thead th {\n",
       "        text-align: right;\n",
       "    }\n",
       "</style>\n",
       "<table border=\"1\" class=\"dataframe\">\n",
       "  <thead>\n",
       "    <tr style=\"text-align: right;\">\n",
       "      <th></th>\n",
       "      <th>turma</th>\n",
       "      <th>total de alunos</th>\n",
       "      <th>quantidade de respostas</th>\n",
       "      <th>quantidade de respostas (%)</th>\n",
       "    </tr>\n",
       "  </thead>\n",
       "  <tbody>\n",
       "    <tr>\n",
       "      <th>0</th>\n",
       "      <td>segunda</td>\n",
       "      <td>38</td>\n",
       "      <td>11</td>\n",
       "      <td>28.947368</td>\n",
       "    </tr>\n",
       "    <tr>\n",
       "      <th>1</th>\n",
       "      <td>quarta</td>\n",
       "      <td>27</td>\n",
       "      <td>20</td>\n",
       "      <td>74.074074</td>\n",
       "    </tr>\n",
       "  </tbody>\n",
       "</table>\n",
       "</div>"
      ],
      "text/plain": [
       "     turma  total de alunos  quantidade de respostas  \\\n",
       "0  segunda               38                       11   \n",
       "1   quarta               27                       20   \n",
       "\n",
       "   quantidade de respostas (%)  \n",
       "0                    28.947368  \n",
       "1                    74.074074  "
      ]
     },
     "execution_count": 151,
     "metadata": {},
     "output_type": "execute_result"
    }
   ],
   "source": [
    "# resume\n",
    "PA_1_resume = {\n",
    "    'turma': ['segunda', 'quarta'],\n",
    "    'total de alunos': [groups['monday_total_n'], groups['wednesday_total_n']],\n",
    "    'quantidade de respostas': [groups['monday_total_n_answered'], groups['wednesday_total_n_answered']],\n",
    "    'quantidade de respostas (%)': [groups['monday_fraction_answered_percentage'], groups['wednesday_fraction_answered_percentage']]\n",
    "}\n",
    "\n",
    "PA_1_resume_table = pd.DataFrame(PA_1_resume)\n",
    "\n",
    "PA_1_resume_table"
   ]
  },
  {
   "cell_type": "markdown",
   "metadata": {},
   "source": [
    "Contingency test"
   ]
  },
  {
   "cell_type": "code",
   "execution_count": 152,
   "metadata": {},
   "outputs": [
    {
     "data": {
      "text/plain": [
       "array([[11, 27],\n",
       "       [20,  7]])"
      ]
     },
     "execution_count": 152,
     "metadata": {},
     "output_type": "execute_result"
    }
   ],
   "source": [
    "PA_1_np_contingency_table = np.array([\n",
    "    [groups['monday_total_n_answered'], groups['monday_total_n'] - groups['monday_total_n_answered']],\n",
    "    [groups['wednesday_total_n_answered'], groups['wednesday_total_n'] - groups['wednesday_total_n_answered']]])\n",
    "\n",
    "PA_1_np_contingency_table"
   ]
  },
  {
   "cell_type": "code",
   "execution_count": 153,
   "metadata": {},
   "outputs": [
    {
     "name": "stdout",
     "output_type": "stream",
     "text": [
      "chi-squared: 11.139653866640034\n",
      "p-value: 0.0008450165780109888\n",
      "degrees of freedom: 1\n",
      "\n",
      "expected frequencies:\n",
      "[[18.12307692 19.87692308]\n",
      " [12.87692308 14.12307692]]\n",
      "obtained frequencies:\n",
      "[[11 27]\n",
      " [20  7]]\n",
      "\n",
      "significant difference: True\n"
     ]
    }
   ],
   "source": [
    "chi2, p, dof, expected = chi2_contingency(PA_1_np_contingency_table)\n",
    "\n",
    "significant_difference = p < critic_p_value\n",
    "\n",
    "\n",
    "print(f'chi-squared: {chi2}')\n",
    "print(f'p-value: {p}')\n",
    "print(f'degrees of freedom: {dof}\\n')\n",
    "print(f'expected frequencies:\\n{expected}')\n",
    "print(f'obtained frequencies:\\n{PA_1_np_contingency_table}\\n')\n",
    "print(f'significant difference: {significant_difference}')"
   ]
  },
  {
   "cell_type": "markdown",
   "metadata": {},
   "source": [
    "### PA_2\n",
    "A disciplina possuiu dois créditos de trabalho (3h20/semana). O tempo gasto por você com a disciplina, em período fora de sala de aula, ficou dentro desse limite?\n",
    "- (a) Foi muito abaixo desse limite\n",
    "- (b) Foi abaixo do limite\n",
    "- (c) Foi adequado\n",
    "- (d) Foi acima desse limite\n",
    "- (e) Foi muito acima do limite"
   ]
  },
  {
   "cell_type": "code",
   "execution_count": 154,
   "metadata": {},
   "outputs": [
    {
     "data": {
      "text/plain": [
       "((31,), (11,), (20,))"
      ]
     },
     "execution_count": 154,
     "metadata": {},
     "output_type": "execute_result"
    }
   ],
   "source": [
    "PA_2 = df['PA_2']\n",
    "PA_2_monday = monday_df['PA_2']\n",
    "PA_2_wednesday = wednesday_df['PA_2']\n",
    "\n",
    "PA_2.shape, PA_2_monday.shape, PA_2_wednesday.shape"
   ]
  },
  {
   "cell_type": "code",
   "execution_count": 155,
   "metadata": {},
   "outputs": [
    {
     "name": "stdout",
     "output_type": "stream",
     "text": [
      "PA_2_counting\n",
      "n_answers: 31\n",
      "array: [ 1  0  0 13 17]\n",
      "\n",
      "PA_2_monday_counting\n",
      "n_answers: 11\n",
      "array: [1 0 0 5 5]\n",
      "\n",
      "PA_2_wednesday_counting\n",
      "n_answers: 20\n",
      "array: [ 0  0  0  8 12]\n",
      "\n"
     ]
    }
   ],
   "source": [
    "PA_2_classes = [1, 2, 3, 4, 5]\n",
    "\n",
    "# index mapping\n",
    "PA_2_categories_mapping = {\n",
    "    1: 'muito abaixo',\n",
    "    2: 'abaixo',\n",
    "    3: 'adequado', \n",
    "    4: 'acima',\n",
    "    5: 'muito acima'\n",
    "}\n",
    "\n",
    "# categories\n",
    "PA_2_categories = [PA_2_categories_mapping[PA_2_class] for PA_2_class in PA_2_classes]\n",
    "\n",
    "# counting categories\n",
    "PA_2_counting = PA_2.value_counts()\n",
    "PA_2_monday_counting = PA_2_monday.value_counts()\n",
    "PA_2_wednesday_counting = PA_2_wednesday.value_counts()\n",
    "\n",
    "# n = quantity of answers per dataframe\n",
    "PA_2_n_answers = PA_2.shape[0]\n",
    "PA_2_monday_n_answers = PA_2_monday.shape[0]\n",
    "PA_2_wednesday_n_answers = PA_2_wednesday.shape[0]\n",
    "\n",
    "# filling with 0 non observed categories\n",
    "PA_2_counting = PA_2_counting.reindex(PA_2_classes, fill_value=0)\n",
    "PA_2_monday_counting = PA_2_monday_counting.reindex(PA_2_classes, fill_value=0)\n",
    "PA_2_wednesday_counting = PA_2_wednesday_counting.reindex(PA_2_classes, fill_value=0)\n",
    "\n",
    "# casting in numpy arrays\n",
    "PA_2_counting = np.array(PA_2_counting)\n",
    "PA_2_monday_counting = np.array(PA_2_monday_counting)\n",
    "PA_2_wednesday_counting = np.array(PA_2_wednesday_counting)\n",
    "\n",
    "# resume\n",
    "print(f'PA_2_counting\\nn_answers: {PA_2_n_answers}\\narray: {PA_2_counting}\\n')\n",
    "print(f'PA_2_monday_counting\\nn_answers: {PA_2_monday_n_answers}\\narray: {PA_2_monday_counting}\\n')\n",
    "print(f'PA_2_wednesday_counting\\nn_answers: {PA_2_wednesday_n_answers}\\narray: {PA_2_wednesday_counting}\\n')"
   ]
  },
  {
   "cell_type": "code",
   "execution_count": 156,
   "metadata": {},
   "outputs": [
    {
     "name": "stdout",
     "output_type": "stream",
     "text": [
      "general: [0.03225806 0.         0.         0.41935484 0.5483871 ]\n",
      "monday: [0.09090909 0.         0.         0.45454545 0.45454545]\n",
      "wednesday: [0.  0.  0.  0.4 0.6]\n"
     ]
    }
   ],
   "source": [
    "# frequencies calculation\n",
    "PA_2_frequency = PA_2_counting/sum(PA_2_counting)\n",
    "PA_2_monday_frequency = PA_2_monday_counting/sum(PA_2_monday_counting)\n",
    "PA_2_wednesday_frequency = PA_2_wednesday_counting/sum(PA_2_wednesday_counting)\n",
    "\n",
    "print(f'general: {PA_2_frequency}\\nmonday: {PA_2_monday_frequency}\\nwednesday: {PA_2_wednesday_frequency}')"
   ]
  },
  {
   "cell_type": "code",
   "execution_count": 157,
   "metadata": {},
   "outputs": [
    {
     "data": {
      "image/png": "[encoded data removed]",
      "text/plain": [
       "<Figure size 800x600 with 1 Axes>"
      ]
     },
     "metadata": {},
     "output_type": "display_data"
    }
   ],
   "source": [
    "# plotting PA_2 for general counting (monday + wednesday)\n",
    "fig, axs = plt.subplots(figsize=fig_default_size)\n",
    "\n",
    "axs.bar(PA_2_categories, PA_2_counting, color=fig_default_color)\n",
    "\n",
    "# axs setting\n",
    "axs.yaxis.set_major_locator(MaxNLocator(integer=True)) # restricts the y axis in to integer values\n",
    "axs.set_ylim(0, 20)\n",
    "axs.set_xlabel('Avaliações')\n",
    "axs.set_ylabel('Contagem')\n",
    "\n",
    "# text in the top of the bars\n",
    "for i in range(5):\n",
    "    x = i\n",
    "    y = PA_2_counting[i] + top_bar_text_offset\n",
    "    percentage_str = get_percentage_str(fraction=PA_2_frequency[i])\n",
    "    \n",
    "    fig.text(x, y, percentage_str, ha='center', transform=plt.gca().transData)\n",
    "\n",
    "# save the figure in png format\n",
    "if save_all_figures:\n",
    "    plt.savefig('academic_imgs/PA_2_general_classes')\n",
    "    \n",
    "# showing the figure\n",
    "plt.show()"
   ]
  },
  {
   "cell_type": "code",
   "execution_count": 158,
   "metadata": {},
   "outputs": [
    {
     "data": {
      "image/png": "[encoded data removed]",
      "text/plain": [
       "<Figure size 800x600 with 1 Axes>"
      ]
     },
     "metadata": {},
     "output_type": "display_data"
    }
   ],
   "source": [
    "# plotting PA_2 for general counting in monday\n",
    "fig, axs = plt.subplots(figsize=fig_default_size)\n",
    "\n",
    "axs.bar(PA_2_categories, PA_2_monday_counting, color=fig_default_color)\n",
    "\n",
    "# axs setting\n",
    "axs.yaxis.set_major_locator(MaxNLocator(integer=True)) # restricts the y axis in to integer values\n",
    "axs.set_ylim(0, 6)\n",
    "axs.set_xlabel('Avaliações')\n",
    "axs.set_ylabel('Contagem')\n",
    "\n",
    "# text in the top of the bars\n",
    "for i in range(5):\n",
    "    x = i\n",
    "    y = PA_2_monday_counting[i] + 0.3*top_bar_text_offset\n",
    "    percentage_str = get_percentage_str(fraction=PA_2_monday_frequency[i])\n",
    "    \n",
    "    fig.text(x, y, percentage_str, ha='center', transform=plt.gca().transData)\n",
    "\n",
    "# save the figure in png format\n",
    "if save_all_figures:\n",
    "    plt.savefig('academic_imgs/PA_2_monday_classes')\n",
    "    \n",
    "# showing the figure\n",
    "plt.show()"
   ]
  },
  {
   "cell_type": "code",
   "execution_count": 159,
   "metadata": {},
   "outputs": [
    {
     "data": {
      "image/png": "[encoded data removed]",
      "text/plain": [
       "<Figure size 800x600 with 1 Axes>"
      ]
     },
     "metadata": {},
     "output_type": "display_data"
    }
   ],
   "source": [
    "# plotting PA_2 for general counting in wednesday\n",
    "fig, axs = plt.subplots(figsize=fig_default_size)\n",
    "\n",
    "axs.bar(PA_2_categories, PA_2_wednesday_counting, color=fig_default_color)\n",
    "\n",
    "# axs setting\n",
    "axs.yaxis.set_major_locator(MaxNLocator(integer=True)) # restricts the y axis in to integer values\n",
    "axs.set_ylim(0, 14)\n",
    "axs.set_xlabel('Avaliações')\n",
    "axs.set_ylabel('Contagem')\n",
    "\n",
    "# text in the top of the bars\n",
    "for i in range(5):\n",
    "    x = i\n",
    "    y = PA_2_wednesday_counting[i] + 0.3*top_bar_text_offset\n",
    "    percentage_str = get_percentage_str(fraction=PA_2_wednesday_frequency[i])\n",
    "    \n",
    "    fig.text(x, y, percentage_str, ha='center', transform=plt.gca().transData)\n",
    "\n",
    "# save the figure in png format\n",
    "if save_all_figures:\n",
    "    plt.savefig('academic_imgs/PA_2_wednesday_classes')\n",
    "    \n",
    "# showing the figure\n",
    "plt.show()"
   ]
  },
  {
   "cell_type": "markdown",
   "metadata": {},
   "source": [
    "Binarização dos dados"
   ]
  },
  {
   "cell_type": "code",
   "execution_count": 160,
   "metadata": {},
   "outputs": [
    {
     "data": {
      "text/plain": [
       "(array([ 1, 30]), array([ 1, 10]), array([ 0, 20]))"
      ]
     },
     "execution_count": 160,
     "metadata": {},
     "output_type": "execute_result"
    }
   ],
   "source": [
    "# binarization of the data\n",
    "\n",
    "# general\n",
    "PA_2_bin_counting_under = sum(PA_2_counting[0:2])\n",
    "PA_2_bin_counting_over = sum(PA_2_counting[3:5])\n",
    "PA_2_bin_counting = np.array([PA_2_bin_counting_under, PA_2_bin_counting_over])\n",
    "\n",
    "# monday\n",
    "PA_2_monday_bin_counting_under = sum(PA_2_monday_counting[0:2])\n",
    "PA_2_monday_bin_counting_over = sum(PA_2_monday_counting[3:5])\n",
    "PA_2_monday_bin_counting = np.array([PA_2_monday_bin_counting_under, PA_2_monday_bin_counting_over])\n",
    "\n",
    "# wednesday\n",
    "PA_2_wednesday_bin_counting_under = sum(PA_2_wednesday_counting[0:2])\n",
    "PA_2_wednesday_bin_counting_over = sum(PA_2_wednesday_counting[3:5])\n",
    "PA_2_wednesday_bin_counting = np.array([PA_2_wednesday_bin_counting_under, PA_2_wednesday_bin_counting_over])\n",
    "\n",
    "PA_2_bin_counting, PA_2_monday_bin_counting, PA_2_wednesday_bin_counting"
   ]
  },
  {
   "cell_type": "code",
   "execution_count": 161,
   "metadata": {},
   "outputs": [
    {
     "data": {
      "text/plain": [
       "(array([0.03225806, 0.96774194]),\n",
       " array([0.09090909, 0.90909091]),\n",
       " array([0., 1.]))"
      ]
     },
     "execution_count": 161,
     "metadata": {},
     "output_type": "execute_result"
    }
   ],
   "source": [
    "# frequency counting for the binary data\n",
    "PA_2_bin_frequency = PA_2_bin_counting/sum(PA_2_bin_counting)\n",
    "PA_2_monday_bin_frequency = PA_2_monday_bin_counting/sum(PA_2_monday_bin_counting)\n",
    "PA_2_wednesday_bin_frequency = PA_2_wednesday_bin_counting/sum(PA_2_wednesday_bin_counting)\n",
    "\n",
    "PA_2_bin_frequency, PA_2_monday_bin_frequency, PA_2_wednesday_bin_frequency"
   ]
  },
  {
   "cell_type": "code",
   "execution_count": 162,
   "metadata": {},
   "outputs": [
    {
     "data": {
      "text/html": [
       "<div>\n",
       "<style scoped>\n",
       "    .dataframe tbody tr th:only-of-type {\n",
       "        vertical-align: middle;\n",
       "    }\n",
       "\n",
       "    .dataframe tbody tr th {\n",
       "        vertical-align: top;\n",
       "    }\n",
       "\n",
       "    .dataframe thead th {\n",
       "        text-align: right;\n",
       "    }\n",
       "</style>\n",
       "<table border=\"1\" class=\"dataframe\">\n",
       "  <thead>\n",
       "    <tr style=\"text-align: right;\">\n",
       "      <th></th>\n",
       "      <th>sim (contagem)</th>\n",
       "      <th>não (contagem)</th>\n",
       "      <th>sim (frequência)</th>\n",
       "      <th>não (frequência)</th>\n",
       "    </tr>\n",
       "  </thead>\n",
       "  <tbody>\n",
       "    <tr>\n",
       "      <th>geral</th>\n",
       "      <td>30</td>\n",
       "      <td>1</td>\n",
       "      <td>0.967742</td>\n",
       "      <td>0.967742</td>\n",
       "    </tr>\n",
       "    <tr>\n",
       "      <th>segunda</th>\n",
       "      <td>10</td>\n",
       "      <td>1</td>\n",
       "      <td>0.909091</td>\n",
       "      <td>0.090909</td>\n",
       "    </tr>\n",
       "    <tr>\n",
       "      <th>quarta</th>\n",
       "      <td>20</td>\n",
       "      <td>0</td>\n",
       "      <td>1.000000</td>\n",
       "      <td>0.000000</td>\n",
       "    </tr>\n",
       "  </tbody>\n",
       "</table>\n",
       "</div>"
      ],
      "text/plain": [
       "         sim (contagem)  não (contagem)  sim (frequência)  não (frequência)\n",
       "geral                30               1          0.967742          0.967742\n",
       "segunda              10               1          0.909091          0.090909\n",
       "quarta               20               0          1.000000          0.000000"
      ]
     },
     "execution_count": 162,
     "metadata": {},
     "output_type": "execute_result"
    }
   ],
   "source": [
    "# resume\n",
    "\n",
    "# PA_2_resume = {\n",
    "#     'geral (contagem)': PA_2_bin_counting,\n",
    "#     'segunda (contagem)': PA_2_monday_bin_counting,\n",
    "#     'quarta (contagem)': PA_2_wednesday_bin_counting,\n",
    "#     'geral (frequência)': PA_2_bin_frequency, \n",
    "#     'segunda (frequência)': PA_2_monday_bin_frequency, \n",
    "#     'quarta (frequência)': PA_2_wednesday_bin_frequency\n",
    "# }\n",
    "\n",
    "PA_2_resume = [\n",
    "    {'sim (contagem)': PA_2_bin_counting[1], 'não (contagem)': PA_2_bin_counting[0], \n",
    "     'sim (frequência)': PA_2_bin_frequency[1], 'não (frequência)': PA_2_bin_frequency[1]},\n",
    "    \n",
    "    {'sim (contagem)': PA_2_monday_bin_counting[1], 'não (contagem)': PA_2_monday_bin_counting[0], \n",
    "     'sim (frequência)': PA_2_monday_bin_frequency[1], 'não (frequência)': PA_2_monday_bin_frequency[0]},\n",
    "    \n",
    "    {'sim (contagem)': PA_2_wednesday_bin_counting[1], 'não (contagem)': PA_2_wednesday_bin_counting[0], \n",
    "     'sim (frequência)': PA_2_wednesday_bin_frequency[1], 'não (frequência)': PA_2_wednesday_bin_frequency[0]}\n",
    "]\n",
    "\n",
    "PA_2_indexes = ['geral', 'segunda', 'quarta']\n",
    "\n",
    "PA_2_resume_table = pd.DataFrame(PA_2_resume, index=PA_2_indexes)\n",
    "\n",
    "PA_2_resume_table"
   ]
  },
  {
   "cell_type": "code",
   "execution_count": 163,
   "metadata": {},
   "outputs": [
    {
     "name": "stdout",
     "output_type": "stream",
     "text": [
      "PA_2 confidence intervals for bin data:\n",
      "general:   (0.838058948352751, 0.9942827784745831)\n",
      "monday:    (0.6226415635484044, 0.9837678271141153)\n",
      "wednesday: (0.8388748419471804, 0.9999999999999999)\n"
     ]
    }
   ],
   "source": [
    "# confidence intervals\n",
    "PA_2_ci_low, PA_2_ci_high = sm.stats.proportion_confint(\n",
    "    PA_2_bin_counting[1],\n",
    "    PA_2_bin_counting[1] + PA_2_bin_counting[0],\n",
    "    alpha=0.05,\n",
    "    method='wilson'\n",
    "    )\n",
    "\n",
    "PA_2_monday_ci_low, PA_2_monday_ci_high = sm.stats.proportion_confint(\n",
    "    PA_2_monday_bin_counting[1],\n",
    "    PA_2_monday_bin_counting[1] + PA_2_monday_bin_counting[0],\n",
    "    alpha=0.05,\n",
    "    method='wilson'\n",
    "    )\n",
    "\n",
    "PA_2_wednesday_ci_low, PA_2_wednesday_ci_high = sm.stats.proportion_confint(\n",
    "    PA_2_wednesday_bin_counting[1],\n",
    "    PA_2_wednesday_bin_counting[1] + PA_2_wednesday_bin_counting[0],\n",
    "    alpha=0.05,\n",
    "    method='wilson'\n",
    "    )\n",
    "\n",
    "print(f'PA_2 confidence intervals for bin data:')\n",
    "print(f'general:   ({PA_2_ci_low}, {PA_2_ci_high})')\n",
    "print(f'monday:    ({PA_2_monday_ci_low}, {PA_2_monday_ci_high})')\n",
    "print(f'wednesday: ({PA_2_wednesday_ci_low}, {PA_2_wednesday_ci_high})')"
   ]
  },
  {
   "cell_type": "markdown",
   "metadata": {},
   "source": [
    "### PA_3\n",
    "Durante as semanas de projeto, você participou do openlab com que frequência? Favor, indicar quantas vezes você foi e por quanto tempo costumava ficar nele."
   ]
  },
  {
   "cell_type": "code",
   "execution_count": 164,
   "metadata": {},
   "outputs": [
    {
     "data": {
      "text/plain": [
       "((29,), (11,), (18,))"
      ]
     },
     "execution_count": 164,
     "metadata": {},
     "output_type": "execute_result"
    }
   ],
   "source": [
    "PA_3 = df['PA_3']\n",
    "PA_3_monday = monday_df['PA_3']\n",
    "PA_3_wednesday = wednesday_df['PA_3']\n",
    "\n",
    "PA_3 = PA_3.dropna()\n",
    "PA_3_monday = PA_3_monday.dropna()\n",
    "PA_3_wednesday = PA_3_wednesday.dropna()\n",
    "\n",
    "PA_3.shape, PA_3_monday.shape, PA_3_wednesday.shape"
   ]
  },
  {
   "cell_type": "code",
   "execution_count": 165,
   "metadata": {},
   "outputs": [
    {
     "name": "stdout",
     "output_type": "stream",
     "text": [
      "n histogram classes = 6\n"
     ]
    }
   ],
   "source": [
    "PA_3_n_sturges_rule = int(np.round(1 + np.log2(PA_3.size)))\n",
    "\n",
    "\n",
    "print(f'n histogram classes = {PA_3_n_sturges_rule}')"
   ]
  },
  {
   "cell_type": "code",
   "execution_count": 166,
   "metadata": {},
   "outputs": [
    {
     "data": {
      "text/plain": [
       "array([ 0,  2,  4,  6,  8, 10, 12])"
      ]
     },
     "execution_count": 166,
     "metadata": {},
     "output_type": "execute_result"
    }
   ],
   "source": [
    "PA_3_bins = np.arange(0, 2*(PA_3_n_sturges_rule + 1), 2)\n",
    "PA_3_bins"
   ]
  },
  {
   "cell_type": "code",
   "execution_count": 167,
   "metadata": {},
   "outputs": [
    {
     "data": {
      "image/png": "[encoded data removed]",
      "text/plain": [
       "<Figure size 800x600 with 1 Axes>"
      ]
     },
     "metadata": {},
     "output_type": "display_data"
    }
   ],
   "source": [
    "# plotting PA_3 histogram for general counting (monday + wednesday)\n",
    "fig, axs = plt.subplots(figsize=fig_default_size)\n",
    "\n",
    "# axs setting\n",
    "axs.hist(PA_3, bins=PA_3_bins, color=fig_default_color, align='left', edgecolor='black')\n",
    "plt.gca().yaxis.set_major_locator(MaxNLocator(integer=True)) # fix the ticks in to integer values\n",
    "axs.set_xlabel('Quantidade de visitas por aluno')\n",
    "axs.set_ylabel('Contagem')\n",
    "\n",
    "# save the figure in png format\n",
    "if save_all_figures:\n",
    "    plt.savefig('academic_imgs/PA_3_histogram')\n",
    "    \n",
    "# showing the figure\n",
    "plt.show()"
   ]
  },
  {
   "cell_type": "code",
   "execution_count": 168,
   "metadata": {},
   "outputs": [
    {
     "data": {
      "image/png": "[encoded data removed]",
      "text/plain": [
       "<Figure size 800x600 with 1 Axes>"
      ]
     },
     "metadata": {},
     "output_type": "display_data"
    }
   ],
   "source": [
    "# plotting PA_3 histogram for monday\n",
    "fig, axs = plt.subplots(figsize=fig_default_size)\n",
    "\n",
    "# axs setting\n",
    "axs.hist(PA_3_monday, bins=PA_3_bins, color=fig_default_color, align='left', edgecolor='black')\n",
    "plt.gca().yaxis.set_major_locator(MaxNLocator(integer=True)) # fix the ticks in to integer values\n",
    "axs.set_xlabel('Quantidade de visitas por aluno')\n",
    "axs.set_ylabel('Contagem')\n",
    "\n",
    "# save the figure in png format\n",
    "if save_all_figures:\n",
    "    plt.savefig('academic_imgs/PA_3_monday_histogram')\n",
    "    \n",
    "# showing the figure\n",
    "plt.show()"
   ]
  },
  {
   "cell_type": "code",
   "execution_count": 169,
   "metadata": {},
   "outputs": [
    {
     "data": {
      "image/png": "[encoded data removed]",
      "text/plain": [
       "<Figure size 800x600 with 1 Axes>"
      ]
     },
     "metadata": {},
     "output_type": "display_data"
    }
   ],
   "source": [
    "\n",
    "# plotting PA_3 histogram for wednesday\n",
    "fig, axs = plt.subplots(figsize=fig_default_size)\n",
    "\n",
    "# axs setting\n",
    "axs.hist(PA_3_wednesday, bins=PA_3_bins, color=fig_default_color, align='left', edgecolor='black')\n",
    "plt.gca().yaxis.set_major_locator(MaxNLocator(integer=True)) # fix the ticks in to integer values\n",
    "axs.set_xlabel('Quantidade de visitas por aluno')\n",
    "axs.set_ylabel('Contagem')\n",
    "\n",
    "# save the figure in png format\n",
    "if save_all_figures:\n",
    "    plt.savefig('academic_imgs/PA_3_wednesday_histogram')\n",
    "    \n",
    "# showing the figure\n",
    "plt.show()"
   ]
  },
  {
   "cell_type": "code",
   "execution_count": 170,
   "metadata": {},
   "outputs": [],
   "source": [
    "PA_3_data = [PA_3, PA_3_monday, PA_3_wednesday]"
   ]
  },
  {
   "cell_type": "code",
   "execution_count": 171,
   "metadata": {},
   "outputs": [
    {
     "data": {
      "image/png": "[encoded data removed]",
      "text/plain": [
       "<Figure size 800x600 with 1 Axes>"
      ]
     },
     "metadata": {},
     "output_type": "display_data"
    }
   ],
   "source": [
    "# plotting PA_3 box plot for the general, monday and wednesday groups \n",
    "fig, axs = plt.subplots(figsize=fig_default_size)\n",
    "\n",
    "# considering 4 weeks of hands-on project development, with 50% (4 + 2 = 6) margin\n",
    "PA_3_expected_visits = 6\n",
    "\n",
    "# plotting the box plot\n",
    "plt.boxplot(PA_3_data)\n",
    "plt.xticks([1, 2, 3], ['geral', 'segunda-feira', 'quarta-feira'])\n",
    "plt.axhline(y=PA_3_expected_visits, color='red', linestyle='dashed', label='quantidade esperada')\n",
    "\n",
    "# axs setting\n",
    "axs.set_xlabel('Turmas')\n",
    "axs.set_ylabel('Quantidade de visitas')\n",
    "axs.legend()\n",
    "\n",
    "# save the figure in png format\n",
    "if save_all_figures:\n",
    "    plt.savefig('academic_imgs/PA_3_boxplot')\n",
    "    \n",
    "# showing the figure\n",
    "plt.show()"
   ]
  },
  {
   "cell_type": "code",
   "execution_count": 172,
   "metadata": {},
   "outputs": [
    {
     "data": {
      "image/png": "[encoded data removed]",
      "text/plain": [
       "<Figure size 800x600 with 1 Axes>"
      ]
     },
     "metadata": {},
     "output_type": "display_data"
    }
   ],
   "source": [
    "# plotting PA_3 violin plot for the general, monday and wednesday groups \n",
    "fig, axs = plt.subplots(figsize=fig_default_size)\n",
    "\n",
    "# plotting the violinplot\n",
    "axs.violinplot(PA_3_data)\n",
    "plt.xticks([1, 2, 3], ['geral', 'segunda-feira', 'quarta-feira'])\n",
    "plt.axhline(y=PA_3_expected_visits, color='red', linestyle='dashed', label='quantidade esperada')\n",
    "\n",
    "# axs setting\n",
    "axs.set_xlabel('Turmas')\n",
    "axs.set_ylabel('Quantidade de visitas')\n",
    "axs.legend()\n",
    "\n",
    "# jitter points\n",
    "for i, data_point in enumerate(PA_3_data):\n",
    "    y = data_point\n",
    "    x = np.random.normal(loc=i + 1, scale=0.05, size=len(data_point))\n",
    "    plt.scatter(x, y, alpha=0.2, color='blue', label='pontos')\n",
    "\n",
    "# save the figure in png format\n",
    "if save_all_figures:\n",
    "    plt.savefig('academic_imgs/PA_3_violinplot')\n",
    "    \n",
    "# showing the figure\n",
    "plt.show()"
   ]
  },
  {
   "cell_type": "code",
   "execution_count": 173,
   "metadata": {},
   "outputs": [
    {
     "data": {
      "text/html": [
       "<div>\n",
       "<style scoped>\n",
       "    .dataframe tbody tr th:only-of-type {\n",
       "        vertical-align: middle;\n",
       "    }\n",
       "\n",
       "    .dataframe tbody tr th {\n",
       "        vertical-align: top;\n",
       "    }\n",
       "\n",
       "    .dataframe thead th {\n",
       "        text-align: right;\n",
       "    }\n",
       "</style>\n",
       "<table border=\"1\" class=\"dataframe\">\n",
       "  <thead>\n",
       "    <tr style=\"text-align: right;\">\n",
       "      <th></th>\n",
       "      <th>mínimo</th>\n",
       "      <th>máximo</th>\n",
       "      <th>média</th>\n",
       "      <th>mediana</th>\n",
       "      <th>1º quartil</th>\n",
       "      <th>3º quartil</th>\n",
       "      <th>excedidos</th>\n",
       "      <th>excedidos (%)</th>\n",
       "    </tr>\n",
       "  </thead>\n",
       "  <tbody>\n",
       "    <tr>\n",
       "      <th>geral</th>\n",
       "      <td>1.0</td>\n",
       "      <td>14.0</td>\n",
       "      <td>7.310345</td>\n",
       "      <td>7.0</td>\n",
       "      <td>4.0</td>\n",
       "      <td>10.0</td>\n",
       "      <td>15</td>\n",
       "      <td>51.724138</td>\n",
       "    </tr>\n",
       "    <tr>\n",
       "      <th>segunda</th>\n",
       "      <td>1.0</td>\n",
       "      <td>12.0</td>\n",
       "      <td>7.000000</td>\n",
       "      <td>5.0</td>\n",
       "      <td>4.0</td>\n",
       "      <td>11.0</td>\n",
       "      <td>5</td>\n",
       "      <td>45.454545</td>\n",
       "    </tr>\n",
       "    <tr>\n",
       "      <th>quarta</th>\n",
       "      <td>3.0</td>\n",
       "      <td>14.0</td>\n",
       "      <td>7.500000</td>\n",
       "      <td>7.5</td>\n",
       "      <td>5.0</td>\n",
       "      <td>10.0</td>\n",
       "      <td>10</td>\n",
       "      <td>55.555556</td>\n",
       "    </tr>\n",
       "  </tbody>\n",
       "</table>\n",
       "</div>"
      ],
      "text/plain": [
       "         mínimo  máximo     média  mediana  1º quartil  3º quartil  excedidos  \\\n",
       "geral       1.0    14.0  7.310345      7.0         4.0        10.0         15   \n",
       "segunda     1.0    12.0  7.000000      5.0         4.0        11.0          5   \n",
       "quarta      3.0    14.0  7.500000      7.5         5.0        10.0         10   \n",
       "\n",
       "         excedidos (%)  \n",
       "geral        51.724138  \n",
       "segunda      45.454545  \n",
       "quarta       55.555556  "
      ]
     },
     "execution_count": 173,
     "metadata": {},
     "output_type": "execute_result"
    }
   ],
   "source": [
    "# PA_3 resume\n",
    "# PA_3_expected_visits\n",
    "\n",
    "PA_3_exceded = PA_3[PA_3 > PA_3_expected_visits]\n",
    "PA_3_monday_exceded = PA_3_monday[PA_3_monday > PA_3_expected_visits]\n",
    "PA_3_wednesday_exceded = PA_3_wednesday[PA_3_wednesday > PA_3_expected_visits]\n",
    "\n",
    "PA_3_exceded_fraction = PA_3_exceded.size/PA_3.size\n",
    "PA_3_monday_exceded_fraction = PA_3_monday_exceded.size/PA_3_monday.size\n",
    "PA_3_wednesday_exceded_fraction = PA_3_wednesday_exceded.size/PA_3_wednesday.size\n",
    "\n",
    "PA_3_general_resume = [np.min(PA_3), np.max(PA_3), np.mean(PA_3), np.median(PA_3), \n",
    "                       np.percentile(PA_3, 25), np.percentile(PA_3, 75), \n",
    "                       PA_3_exceded.size, 100*PA_3_exceded_fraction]\n",
    "\n",
    "PA_3_monday_resume = [np.min(PA_3_monday), np.max(PA_3_monday), np.mean(PA_3_monday), np.median(PA_3_monday), \n",
    "                       np.percentile(PA_3_monday, 25), np.percentile(PA_3_monday, 75), \n",
    "                       PA_3_monday_exceded.size, 100*PA_3_monday_exceded_fraction]\n",
    "\n",
    "PA_3_wednesday_resume = [np.min(PA_3_wednesday), np.max(PA_3_wednesday), np.mean(PA_3_wednesday), np.median(PA_3_wednesday), \n",
    "                       np.percentile(PA_3_wednesday, 25), np.percentile(PA_3_wednesday, 75), \n",
    "                       PA_3_wednesday_exceded.size, 100*PA_3_wednesday_exceded_fraction]\n",
    "\n",
    "PA_3_resume_indexes = ['geral', 'segunda', 'quarta']\n",
    "PA_3_resume_columns = ['mínimo', 'máximo', 'média', 'mediana', '1º quartil', '3º quartil', 'excedidos', 'excedidos (%)']\n",
    "\n",
    "PA_3_resume_table = pd.DataFrame([PA_3_general_resume, PA_3_monday_resume, PA_3_wednesday_resume], columns=PA_3_resume_columns, index=PA_3_resume_indexes)\n",
    "\n",
    "PA_3_resume_table"
   ]
  },
  {
   "cell_type": "code",
   "execution_count": 174,
   "metadata": {},
   "outputs": [
    {
     "name": "stdout",
     "output_type": "stream",
     "text": [
      "PA_3 confidence intervals for bin data:\n",
      "general:   (0.33537151551979943, 0.6991112431008903)\n",
      "monday:    (0.16029327346391603, 0.748797635626993)\n",
      "wednesday: (0.32600183988719944, 0.7851092712239117)\n"
     ]
    }
   ],
   "source": [
    "# confidence intervals\n",
    "PA_3_ci_low, PA_3_ci_high = sm.stats.proportion_confint(\n",
    "    PA_3_exceded.size,\n",
    "    PA_3.size,\n",
    "    alpha=0.05,\n",
    "    method='normal'\n",
    "    )\n",
    "\n",
    "PA_3_monday_ci_low, PA_3_monday_ci_high = sm.stats.proportion_confint(\n",
    "    PA_3_monday_exceded.size,\n",
    "    PA_3_monday.size,\n",
    "    alpha=0.05,\n",
    "    method='normal'\n",
    "    )\n",
    "\n",
    "PA_3_wednesday_ci_low, PA_3_wednesday_ci_high = sm.stats.proportion_confint(\n",
    "    PA_3_wednesday_exceded.size,\n",
    "    PA_3_wednesday.size,\n",
    "    alpha=0.05,\n",
    "    method='normal'\n",
    "    )\n",
    "\n",
    "print(f'PA_3 confidence intervals for bin data:')\n",
    "print(f'general:   ({PA_3_ci_low}, {PA_3_ci_high})')\n",
    "print(f'monday:    ({PA_3_monday_ci_low}, {PA_3_monday_ci_high})')\n",
    "print(f'wednesday: ({PA_3_wednesday_ci_low}, {PA_3_wednesday_ci_high})')"
   ]
  },
  {
   "cell_type": "markdown",
   "metadata": {},
   "source": [
    "### PA_4\n",
    "Quantas horas aproximadamente, você investiu no projeto, somente de tempo fora de sala de aula por semana? (openlab + tempo na poli ou em casa, desenvolvendo o projeto)"
   ]
  },
  {
   "cell_type": "code",
   "execution_count": 175,
   "metadata": {},
   "outputs": [
    {
     "data": {
      "text/plain": [
       "((28,), (11,), (17,))"
      ]
     },
     "execution_count": 175,
     "metadata": {},
     "output_type": "execute_result"
    }
   ],
   "source": [
    "PA_4 = df['PA_4']\n",
    "PA_4_monday = monday_df['PA_4']\n",
    "PA_4_wednesday = wednesday_df['PA_4']\n",
    "\n",
    "PA_4 = PA_4.dropna()\n",
    "PA_4_monday = PA_4_monday.dropna()\n",
    "PA_4_wednesday = PA_4_wednesday.dropna()\n",
    "\n",
    "PA_4.shape, PA_4_monday.shape, PA_4_wednesday.shape"
   ]
  },
  {
   "cell_type": "code",
   "execution_count": 176,
   "metadata": {},
   "outputs": [],
   "source": [
    "# considering 3h20 per week in 6 weeks\n",
    "PA_4_expected_hours = 20\n",
    "PA_4_expected_hours_safety_margin = 10"
   ]
  },
  {
   "cell_type": "code",
   "execution_count": 177,
   "metadata": {},
   "outputs": [
    {
     "data": {
      "image/png": "[encoded data removed]",
      "text/plain": [
       "<Figure size 800x600 with 1 Axes>"
      ]
     },
     "metadata": {},
     "output_type": "display_data"
    }
   ],
   "source": [
    "# plotting PA_4 box plot for the general, monday and wednesday groups \n",
    "fig, axs = plt.subplots(figsize=fig_default_size)\n",
    "\n",
    "PA_4_data = [PA_4, PA_4_monday, PA_4_wednesday]\n",
    "\n",
    "# plotting the box plot\n",
    "plt.boxplot(PA_4_data)\n",
    "plt.xticks([1, 2, 3], ['geral', 'segunda-feira', 'quarta-feira'])\n",
    "plt.axhline(y=PA_4_expected_hours, color='red', linestyle='solid', label='esperado')\n",
    "plt.axhline(y=PA_4_expected_hours + PA_4_expected_hours_safety_margin, color='red', linestyle='dashed', label='margem de segurança')\n",
    "\n",
    "# axs setting\n",
    "axs.set_xlabel('Turmas')\n",
    "axs.set_ylabel('Tempo gasto por aluno [h]')\n",
    "axs.legend()\n",
    "\n",
    "# save the figure in png format\n",
    "if save_all_figures:\n",
    "    plt.savefig('academic_imgs/PA_4_boxplot')\n",
    "    \n",
    "# showing the figure\n",
    "plt.show()"
   ]
  },
  {
   "cell_type": "code",
   "execution_count": 247,
   "metadata": {},
   "outputs": [
    {
     "data": {
      "image/png": "[encoded data removed]",
      "text/plain": [
       "<Figure size 1000x800 with 1 Axes>"
      ]
     },
     "metadata": {},
     "output_type": "display_data"
    }
   ],
   "source": [
    "# plotting PA_4 violin plot for the general, monday and wednesday groups \n",
    "fig, axs = plt.subplots(figsize=(10,8))\n",
    "\n",
    "# plotting the violinplot\n",
    "axs.violinplot(PA_4_data)\n",
    "plt.xticks([1, 2, 3], ['geral', 'segunda-feira', 'quarta-feira'])\n",
    "plt.axhline(y=PA_4_expected_hours, color='red', linestyle='solid', label='esperado')\n",
    "plt.axhline(y=PA_4_expected_hours + PA_4_expected_hours_safety_margin, color='red', linestyle='dashed', label='margem de segurança')\n",
    "\n",
    "# axs setting\n",
    "axs.set_xlabel('Turmas')\n",
    "axs.set_ylabel('Tempo gasto por aluno [h]')\n",
    "axs.legend()\n",
    "\n",
    "# jitter points\n",
    "for i, data_point in enumerate(PA_4_data):\n",
    "    y = data_point\n",
    "    x = np.random.normal(loc=i + 1, scale=0.05, size=len(data_point))\n",
    "    plt.scatter(x, y, alpha=0.2, color='blue', label='pontos')\n",
    "\n",
    "# save the figure in png format\n",
    "if save_all_figures:\n",
    "    plt.savefig('academic_imgs/PA_4_violinplot')\n",
    "    \n",
    "# showing the figure\n",
    "plt.show()"
   ]
  },
  {
   "cell_type": "code",
   "execution_count": 243,
   "metadata": {},
   "outputs": [
    {
     "name": "stdout",
     "output_type": "stream",
     "text": [
      "n histogram classes = 6\n"
     ]
    }
   ],
   "source": [
    "PA_4_n_sturges_rule = int(np.round(1 + np.log2(PA_4.size)))\n",
    "\n",
    "print(f'n histogram classes = {PA_4_n_sturges_rule}')"
   ]
  },
  {
   "cell_type": "code",
   "execution_count": 179,
   "metadata": {},
   "outputs": [
    {
     "data": {
      "text/plain": [
       "array([  0,  20,  40,  60,  80, 100, 120])"
      ]
     },
     "execution_count": 179,
     "metadata": {},
     "output_type": "execute_result"
    }
   ],
   "source": [
    "PA_4_bins = np.arange(0, 20*(PA_4_n_sturges_rule + 1), 20)\n",
    "PA_4_bins"
   ]
  },
  {
   "cell_type": "code",
   "execution_count": 180,
   "metadata": {},
   "outputs": [
    {
     "data": {
      "image/png": "[encoded data removed]",
      "text/plain": [
       "<Figure size 800x600 with 1 Axes>"
      ]
     },
     "metadata": {},
     "output_type": "display_data"
    }
   ],
   "source": [
    "# plotting PA_4 histogram for general counting (monday + wednesday)\n",
    "fig, axs = plt.subplots(figsize=fig_default_size)\n",
    "\n",
    "# axs setting\n",
    "axs.hist(PA_4, bins=PA_4_bins, color=fig_default_color, edgecolor='black')\n",
    "plt.gca().yaxis.set_major_locator(MaxNLocator(integer=True)) # fix the ticks in to integer values\n",
    "axs.set_ylim(0, 10)\n",
    "\n",
    "# vertical lines of the expected\n",
    "axs.vlines(PA_4_expected_hours, 0, 10, linestyles='solid', color='r', label='esperado')\n",
    "axs.vlines(PA_4_expected_hours + PA_4_expected_hours_safety_margin, 0, 10, linestyles='dashed', color='r', label='margem de segurança')\n",
    "\n",
    "axs.set_xlabel('Tempo gasto por aluno [h]')\n",
    "axs.set_ylabel('Contagem')\n",
    "axs.legend()\n",
    "\n",
    "# save the figure in png format\n",
    "if save_all_figures:\n",
    "    plt.savefig('academic_imgs/PA_4_histogram')\n",
    "    \n",
    "# showing the figure\n",
    "plt.show()"
   ]
  },
  {
   "cell_type": "code",
   "execution_count": 181,
   "metadata": {},
   "outputs": [
    {
     "data": {
      "image/png": "[encoded data removed]",
      "text/plain": [
       "<Figure size 800x600 with 1 Axes>"
      ]
     },
     "metadata": {},
     "output_type": "display_data"
    }
   ],
   "source": [
    "# plotting PA_4 histogram for monday\n",
    "fig, axs = plt.subplots(figsize=fig_default_size)\n",
    "\n",
    "# axs setting\n",
    "axs.hist(PA_4_monday, bins=PA_4_bins, color=fig_default_color, edgecolor='black')\n",
    "plt.gca().yaxis.set_major_locator(MaxNLocator(integer=True)) # fix the ticks in to integer values\n",
    "axs.set_ylim(0, 7)\n",
    "\n",
    "# vertical lines of the expected\n",
    "axs.vlines(PA_4_expected_hours, 0, 7, linestyles='solid', color='r', label='esperado')\n",
    "axs.vlines(PA_4_expected_hours + PA_4_expected_hours_safety_margin, 0, 7, linestyles='dashed', color='r', label='esperado')\n",
    "\n",
    "axs.set_xlabel('Tempo gasto por aluno [h]')\n",
    "axs.set_ylabel('Contagem')\n",
    "\n",
    "# save the figure in png format\n",
    "if save_all_figures:\n",
    "    plt.savefig('academic_imgs/PA_4_monday_histogram')\n",
    "    \n",
    "# showing the figure\n",
    "plt.show()"
   ]
  },
  {
   "cell_type": "code",
   "execution_count": 182,
   "metadata": {},
   "outputs": [
    {
     "data": {
      "image/png": "[encoded data removed]",
      "text/plain": [
       "<Figure size 800x600 with 1 Axes>"
      ]
     },
     "metadata": {},
     "output_type": "display_data"
    }
   ],
   "source": [
    "# plotting PA_4 histogram for wednesday\n",
    "fig, axs = plt.subplots(figsize=fig_default_size)\n",
    "\n",
    "# axs setting\n",
    "axs.hist(PA_4_monday, bins=PA_4_bins, color=fig_default_color, edgecolor='black')\n",
    "plt.gca().yaxis.set_major_locator(MaxNLocator(integer=True)) # fix the ticks in to integer values\n",
    "axs.set_ylim(0, 6)\n",
    "\n",
    "# vertical lines of the expected\n",
    "axs.vlines(PA_4_expected_hours, 0, 6, linestyles='solid', color='r', label='esperado')\n",
    "axs.vlines(PA_4_expected_hours + PA_4_expected_hours_safety_margin, 0, 6, linestyles='dashed', color='r', label='esperado')\n",
    "\n",
    "axs.set_xlabel('Tempo gasto por aluno [h]')\n",
    "axs.set_ylabel('Contagem')\n",
    "\n",
    "# save the figure in png format\n",
    "if save_all_figures:\n",
    "    plt.savefig('academic_imgs/PA_4_wednesday_histogram')\n",
    "    \n",
    "# showing the figure\n",
    "plt.show()"
   ]
  },
  {
   "cell_type": "code",
   "execution_count": 183,
   "metadata": {},
   "outputs": [
    {
     "data": {
      "text/html": [
       "<div>\n",
       "<style scoped>\n",
       "    .dataframe tbody tr th:only-of-type {\n",
       "        vertical-align: middle;\n",
       "    }\n",
       "\n",
       "    .dataframe tbody tr th {\n",
       "        vertical-align: top;\n",
       "    }\n",
       "\n",
       "    .dataframe thead th {\n",
       "        text-align: right;\n",
       "    }\n",
       "</style>\n",
       "<table border=\"1\" class=\"dataframe\">\n",
       "  <thead>\n",
       "    <tr style=\"text-align: right;\">\n",
       "      <th></th>\n",
       "      <th>total</th>\n",
       "      <th>soft_exceeded</th>\n",
       "      <th>soft_exceeded_proportion</th>\n",
       "      <th>hard_exceeded</th>\n",
       "      <th>hard_exceeded_proportion</th>\n",
       "    </tr>\n",
       "  </thead>\n",
       "  <tbody>\n",
       "    <tr>\n",
       "      <th>general</th>\n",
       "      <td>28</td>\n",
       "      <td>16</td>\n",
       "      <td>0.571429</td>\n",
       "      <td>12</td>\n",
       "      <td>0.428571</td>\n",
       "    </tr>\n",
       "    <tr>\n",
       "      <th>monday</th>\n",
       "      <td>11</td>\n",
       "      <td>5</td>\n",
       "      <td>0.454545</td>\n",
       "      <td>3</td>\n",
       "      <td>0.272727</td>\n",
       "    </tr>\n",
       "    <tr>\n",
       "      <th>wednesday</th>\n",
       "      <td>17</td>\n",
       "      <td>11</td>\n",
       "      <td>0.647059</td>\n",
       "      <td>9</td>\n",
       "      <td>0.529412</td>\n",
       "    </tr>\n",
       "  </tbody>\n",
       "</table>\n",
       "</div>"
      ],
      "text/plain": [
       "           total  soft_exceeded  soft_exceeded_proportion  hard_exceeded  \\\n",
       "general       28             16                  0.571429             12   \n",
       "monday        11              5                  0.454545              3   \n",
       "wednesday     17             11                  0.647059              9   \n",
       "\n",
       "           hard_exceeded_proportion  \n",
       "general                    0.428571  \n",
       "monday                     0.272727  \n",
       "wednesday                  0.529412  "
      ]
     },
     "execution_count": 183,
     "metadata": {},
     "output_type": "execute_result"
    }
   ],
   "source": [
    "PA_4_soft_exceeded = PA_4[PA_4 > PA_4_expected_hours].size\n",
    "PA_4_hard_exceeded = PA_4[PA_4 > PA_4_expected_hours + PA_4_expected_hours_safety_margin].size\n",
    "\n",
    "PA_4_monday_soft_exceeded = PA_4_monday[PA_4_monday > PA_4_expected_hours].size\n",
    "PA_4_monday_hard_exceeded = PA_4_monday[PA_4_monday > PA_4_expected_hours + PA_4_expected_hours_safety_margin].size\n",
    "\n",
    "PA_4_wednesday_soft_exceeded = PA_4_wednesday[PA_4_wednesday > PA_4_expected_hours].size\n",
    "PA_4_wednesday_hard_exceeded = PA_4_wednesday[PA_4_wednesday > PA_4_expected_hours + PA_4_expected_hours_safety_margin].size\n",
    "\n",
    "PA_4_indexes = ['general', 'monday', 'wednesday']\n",
    "\n",
    "PA_4_resume_data = [\n",
    "    {\n",
    "        'total': PA_4.size,\n",
    "        'soft_exceeded': PA_4_soft_exceeded,\n",
    "        'soft_exceeded_proportion': PA_4_soft_exceeded/PA_4.size,\n",
    "        'hard_exceeded': PA_4_hard_exceeded,\n",
    "        'hard_exceeded_proportion': PA_4_hard_exceeded/PA_4.size\n",
    "    },\n",
    "    {\n",
    "        'total': PA_4_monday.size,\n",
    "        'soft_exceeded': PA_4_monday_soft_exceeded,\n",
    "        'soft_exceeded_proportion': PA_4_monday_soft_exceeded/PA_4_monday.size,\n",
    "        'hard_exceeded': PA_4_monday_hard_exceeded,\n",
    "        'hard_exceeded_proportion': PA_4_monday_hard_exceeded/PA_4_monday.size\n",
    "    },\n",
    "    {\n",
    "        'total': PA_4_wednesday.size,\n",
    "        'soft_exceeded': PA_4_wednesday_soft_exceeded,\n",
    "        'soft_exceeded_proportion': PA_4_wednesday_soft_exceeded/PA_4_wednesday.size,\n",
    "        'hard_exceeded': PA_4_wednesday_hard_exceeded,\n",
    "        'hard_exceeded_proportion': PA_4_wednesday_hard_exceeded/PA_4_wednesday.size\n",
    "    },\n",
    "]\n",
    "\n",
    "\n",
    "PA_4_resume_data_table = pd.DataFrame(PA_4_resume_data, index=PA_4_indexes)\n",
    "PA_4_resume_data_table"
   ]
  },
  {
   "cell_type": "code",
   "execution_count": 184,
   "metadata": {},
   "outputs": [
    {
     "name": "stdout",
     "output_type": "stream",
     "text": [
      "PA_2 confidence intervals (soft)\n",
      "general (soft):     (0.38812891186648857, 0.7547282309906542)\n",
      "monday (soft):      (0.036711425739059056, 0.3204314314037981)\n",
      "wednesday (soft):   (0.21195994179548827, 0.5737543439187974)\n",
      "\n",
      "PA_2 confidence intervals (hard)\n",
      "general (hard):     (0.24527176900934575, 0.6118710881335113)\n",
      "monday (hard):      (0.14844331121166918, 0.4944138316454737)\n",
      "wednesday (hard):   (0.14844331121166918, 0.4944138316454737)\n"
     ]
    }
   ],
   "source": [
    "# confidence intervals\n",
    "\n",
    "# general\n",
    "PA_4_soft_ci_low, PA_4_soft_ci_high = sm.stats.proportion_confint(\n",
    "    PA_4_soft_exceeded,\n",
    "    PA_4.size,\n",
    "    alpha=0.05,\n",
    "    method='normal'\n",
    "    )\n",
    "\n",
    "PA_4_hard_ci_low, PA_4_hard_ci_high = sm.stats.proportion_confint(\n",
    "    PA_4_hard_exceeded,\n",
    "    PA_4.size,\n",
    "    alpha=0.05,\n",
    "    method='normal'\n",
    "    )\n",
    "\n",
    "# monday\n",
    "PA_4_monday_soft_ci_low, PA_4_monday_soft_ci_high = sm.stats.proportion_confint(\n",
    "    PA_4_monday_soft_exceeded,\n",
    "    PA_4.size,\n",
    "    alpha=0.05,\n",
    "    method='normal'\n",
    "    )\n",
    "\n",
    "PA_4_monday_hard_ci_low, PA_4_monday_hard_ci_high = sm.stats.proportion_confint(\n",
    "    PA_4_monday_hard_exceeded,\n",
    "    PA_4.size,\n",
    "    alpha=0.05,\n",
    "    method='normal'\n",
    "    )\n",
    "\n",
    "# wednesday\n",
    "PA_4_wednesday_soft_ci_low, PA_4_wednesday_soft_ci_high = sm.stats.proportion_confint(\n",
    "    PA_4_wednesday_soft_exceeded,\n",
    "    PA_4.size,\n",
    "    alpha=0.05,\n",
    "    method='normal'\n",
    "    )\n",
    "\n",
    "PA_4_monday_hard_ci_low, PA_4_monday_hard_ci_high = sm.stats.proportion_confint(\n",
    "    PA_4_wednesday_hard_exceeded,\n",
    "    PA_4.size,\n",
    "    alpha=0.05,\n",
    "    method='normal'\n",
    "    )\n",
    "\n",
    "\n",
    "print(f'PA_2 confidence intervals (soft)')\n",
    "print(f'general (soft):     ({PA_4_soft_ci_low}, {PA_4_soft_ci_high})')\n",
    "print(f'monday (soft):      ({PA_4_monday_soft_ci_low}, {PA_4_monday_soft_ci_high})')\n",
    "print(f'wednesday (soft):   ({PA_4_wednesday_soft_ci_low}, {PA_4_wednesday_soft_ci_high})\\n')\n",
    "print(f'PA_2 confidence intervals (hard)')\n",
    "print(f'general (hard):     ({PA_4_hard_ci_low}, {PA_4_hard_ci_high})')\n",
    "print(f'monday (hard):      ({PA_4_monday_hard_ci_low}, {PA_4_monday_hard_ci_high})')\n",
    "print(f'wednesday (hard):   ({PA_4_monday_hard_ci_low}, {PA_4_monday_hard_ci_high})')"
   ]
  },
  {
   "cell_type": "markdown",
   "metadata": {},
   "source": []
  },
  {
   "cell_type": "code",
   "execution_count": 185,
   "metadata": {},
   "outputs": [
    {
     "data": {
      "image/png": "[encoded data removed]",
      "text/plain": [
       "<Figure size 800x600 with 1 Axes>"
      ]
     },
     "metadata": {},
     "output_type": "display_data"
    }
   ],
   "source": [
    "PA_4_x = np.linspace(0, 100, 200)\n",
    "\n",
    "# general\n",
    "density = gaussian_kde(PA_4)\n",
    "PA_4_y = density(PA_4_x)\n",
    "\n",
    "# monday\n",
    "density = gaussian_kde(PA_4_monday)\n",
    "PA_4_monday_y = density(PA_4_x)\n",
    "\n",
    "# wednesday\n",
    "density = gaussian_kde(PA_4_wednesday)\n",
    "PA_4_wednesday_y = density(PA_4_x)\n",
    "\n",
    "# top of the graph, for plotting purposes\n",
    "PA_4_y_max = np.max([\n",
    "    np.max(PA_4_y),\n",
    "    np.max(PA_4_monday_y),\n",
    "    np.max(PA_4_wednesday_y)\n",
    "    ])\n",
    "PA_4_graph_top = PA_4_y_max + 0.001\n",
    "\n",
    "# Set the figure size\n",
    "plt.figure(figsize=fig_default_size)\n",
    "\n",
    "plt.vlines(PA_4_expected_hours, 0, PA_4_graph_top, linestyles='solid', color='r', label='esperado')\n",
    "plt.vlines(PA_4_expected_hours + PA_4_expected_hours_safety_margin, 0, PA_4_graph_top, linestyles='dashed', color='r', label='esperado')\n",
    "\n",
    "plt.plot(PA_4_x, PA_4_y, label='geral', linestyle='-')\n",
    "plt.plot(PA_4_x, PA_4_monday_y, label='segunda-feira', linestyle='-.')\n",
    "plt.plot(PA_4_x, PA_4_wednesday_y, label='quarta-feira', linestyle=':')\n",
    "plt.xlabel(\"Tempo gasto por aluno [h]\")\n",
    "plt.ylabel(\"Densidade\")\n",
    "plt.legend()\n",
    "\n",
    "# save the figure in png format\n",
    "if save_all_figures:\n",
    "    plt.savefig('academic_imgs/PA_4_density_kernels')\n",
    "    \n",
    "# showing the figure\n",
    "plt.show()"
   ]
  },
  {
   "cell_type": "code",
   "execution_count": 186,
   "metadata": {},
   "outputs": [
    {
     "data": {
      "text/html": [
       "<div>\n",
       "<style scoped>\n",
       "    .dataframe tbody tr th:only-of-type {\n",
       "        vertical-align: middle;\n",
       "    }\n",
       "\n",
       "    .dataframe tbody tr th {\n",
       "        vertical-align: top;\n",
       "    }\n",
       "\n",
       "    .dataframe thead th {\n",
       "        text-align: right;\n",
       "    }\n",
       "</style>\n",
       "<table border=\"1\" class=\"dataframe\">\n",
       "  <thead>\n",
       "    <tr style=\"text-align: right;\">\n",
       "      <th></th>\n",
       "      <th>soft</th>\n",
       "      <th>hard</th>\n",
       "    </tr>\n",
       "  </thead>\n",
       "  <tbody>\n",
       "    <tr>\n",
       "      <th>general</th>\n",
       "      <td>0.671519</td>\n",
       "      <td>0.492866</td>\n",
       "    </tr>\n",
       "    <tr>\n",
       "      <th>monday</th>\n",
       "      <td>0.614612</td>\n",
       "      <td>0.382888</td>\n",
       "    </tr>\n",
       "    <tr>\n",
       "      <th>wednesday</th>\n",
       "      <td>0.703111</td>\n",
       "      <td>0.562504</td>\n",
       "    </tr>\n",
       "  </tbody>\n",
       "</table>\n",
       "</div>"
      ],
      "text/plain": [
       "               soft      hard\n",
       "general    0.671519  0.492866\n",
       "monday     0.614612  0.382888\n",
       "wednesday  0.703111  0.562504"
      ]
     },
     "execution_count": 186,
     "metadata": {},
     "output_type": "execute_result"
    }
   ],
   "source": [
    "# integrals\n",
    "PA_4_step_size = PA_4_x[1] - PA_4_x[0]\n",
    "\n",
    "# general\n",
    "PA_4_kernel_integral_soft_exceeded = np.sum(PA_4_y[PA_4_x > PA_4_expected_hours])*PA_4_step_size\n",
    "PA_4_kernel_integral_hard_exceeded = np.sum(PA_4_y[PA_4_x > PA_4_expected_hours + PA_4_expected_hours_safety_margin])*PA_4_step_size\n",
    "\n",
    "# monday\n",
    "PA_4_monday_kernel_integral_soft_exceeded = np.sum(PA_4_monday_y[PA_4_x > PA_4_expected_hours])*PA_4_step_size\n",
    "PA_4_monday_kernel_integral_hard_exceeded = np.sum(PA_4_monday_y[PA_4_x > PA_4_expected_hours + PA_4_expected_hours_safety_margin])*PA_4_step_size\n",
    "\n",
    "# wednesday\n",
    "PA_4_wednesday_kernel_integral_soft_exceeded = np.sum(PA_4_wednesday_y[PA_4_x > PA_4_expected_hours])*PA_4_step_size\n",
    "PA_4_wednesday_kernel_integral_hard_exceeded = np.sum(PA_4_wednesday_y[PA_4_x > PA_4_expected_hours + PA_4_expected_hours_safety_margin])*PA_4_step_size\n",
    "\n",
    "PA_4_exceeded_resume = [\n",
    "    {\n",
    "        'soft': PA_4_kernel_integral_soft_exceeded,\n",
    "        'hard': PA_4_kernel_integral_hard_exceeded\n",
    "    },\n",
    "    {\n",
    "        'soft': PA_4_monday_kernel_integral_soft_exceeded,\n",
    "        'hard': PA_4_monday_kernel_integral_hard_exceeded\n",
    "    },\n",
    "    {\n",
    "        'soft': PA_4_wednesday_kernel_integral_soft_exceeded,\n",
    "        'hard': PA_4_wednesday_kernel_integral_hard_exceeded\n",
    "    }\n",
    "]\n",
    "\n",
    "PA_4_exceeded_resume_table = pd.DataFrame(PA_4_exceeded_resume, index=PA_4_indexes)\n",
    "PA_4_exceeded_resume_table\n"
   ]
  },
  {
   "cell_type": "code",
   "execution_count": 187,
   "metadata": {},
   "outputs": [
    {
     "data": {
      "image/png": "[encoded data removed]",
      "text/plain": [
       "<Figure size 800x400 with 2 Axes>"
      ]
     },
     "metadata": {},
     "output_type": "display_data"
    }
   ],
   "source": [
    "PA_4_log = np.log(PA_4)\n",
    "\n",
    "plt.figure(figsize=(8, 4))\n",
    "\n",
    "plt.subplot(1, 2, 1)\n",
    "stats.probplot(PA_4, dist=\"norm\", plot=plt)\n",
    "plt.title(\"QQ Plot dos dados originais\")\n",
    "plt.xlabel(\"Quantis Teóricos\")\n",
    "plt.ylabel(\"Quantis Amostrais\")\n",
    "\n",
    "# Criar Q-Q plot para os dados transformados (log)\n",
    "plt.subplot(1, 2, 2)\n",
    "stats.probplot(PA_4_log, dist=\"norm\", plot=plt)\n",
    "plt.title(\"QQ Plot dos dados transformados (log)\")\n",
    "plt.xlabel(\"Quantis Teóricos\")\n",
    "plt.ylabel(\"Quantis Amostrais\")\n",
    "\n",
    "# save the figure in png format\n",
    "if save_all_figures:\n",
    "    plt.savefig('academic_imgs/PA_4_qq_plots')\n",
    "    \n",
    "# showing the figure\n",
    "plt.show()"
   ]
  },
  {
   "cell_type": "code",
   "execution_count": 188,
   "metadata": {},
   "outputs": [
    {
     "name": "stdout",
     "output_type": "stream",
     "text": [
      "original distribution\n",
      "p-value: 0.013220934197306633\n",
      "significant: False\n",
      "\n",
      "log distribution\n",
      "p-value: 0.013220934197306633\n",
      "significant: True\n"
     ]
    }
   ],
   "source": [
    "PA_4_shapiro_test = stats.shapiro(PA_4)\n",
    "PA_4_shapiro_test_log = stats.shapiro(PA_4_log)\n",
    "\n",
    "PA_4_shapiro_test_p_value = PA_4_shapiro_test[1]\n",
    "PA_4_shapiro_test_log_p_value = PA_4_shapiro_test_log[1]\n",
    "\n",
    "PA_4_shapiro_test_result = PA_4_shapiro_test_p_value > critic_p_value\n",
    "PA_4_shapiro_test_log_result = PA_4_shapiro_test_log_p_value > critic_p_value\n",
    "\n",
    "print(f'original distribution\\np-value: {PA_4_shapiro_test_p_value}\\nsignificant: {PA_4_shapiro_test_result}\\n')\n",
    "print(f'log distribution\\np-value: {PA_4_shapiro_test_p_value}\\nsignificant: {PA_4_shapiro_test_log_result}')"
   ]
  },
  {
   "cell_type": "code",
   "execution_count": 189,
   "metadata": {},
   "outputs": [
    {
     "data": {
      "image/png": "[encoded data removed]",
      "text/plain": [
       "<Figure size 800x600 with 1 Axes>"
      ]
     },
     "metadata": {},
     "output_type": "display_data"
    }
   ],
   "source": [
    "shape, loc, scale = lognorm.fit(PA_4, floc=0)\n",
    "\n",
    "# lognormal fitting\n",
    "PA_4_lognormal_y = lognorm.pdf(PA_4_x, shape, loc, scale)\n",
    "\n",
    "PA_4_log_bins = np.arange(0, 140, 20)\n",
    "\n",
    "PA_4_log_graph_top = np.max(PA_4_lognormal_y) + 0.001\n",
    "\n",
    "# Plotar o histograma dos dados e a PDF ajustada\n",
    "plt.figure(figsize=fig_default_size)\n",
    "plt.plot(PA_4_x, PA_4_lognormal_y, lw=2, linestyle='-.', label='ajuste lognormal')\n",
    "\n",
    "plt.vlines(PA_4_expected_hours, 0, PA_4_log_graph_top, linestyles='solid', color='r', label='esperado')\n",
    "plt.vlines(PA_4_expected_hours + PA_4_expected_hours_safety_margin, 0, PA_4_log_graph_top, linestyles='dashed', color='r', label='esperado')\n",
    "\n",
    "plt.xlabel(\"Tempo gasto por aluno [h]\")\n",
    "plt.ylabel(\"Densidade\")\n",
    "plt.legend()\n",
    "\n",
    "# save the figure in png format\n",
    "if save_all_figures:\n",
    "    plt.savefig('academic_imgs/PA_4_lognormal_fit')\n",
    "    \n",
    "# showing the figure\n",
    "plt.show()"
   ]
  },
  {
   "cell_type": "code",
   "execution_count": 190,
   "metadata": {},
   "outputs": [
    {
     "name": "stdout",
     "output_type": "stream",
     "text": [
      "lognormal exceeded (soft): 0.6322223496494489\n",
      "lognormal exceeded (hard): 0.4061170826203918\n"
     ]
    }
   ],
   "source": [
    "PA_4_lognormal_soft_exceeded_integral = np.sum(PA_4_lognormal_y[PA_4_x > PA_4_expected_hours])*PA_4_step_size\n",
    "PA_4_lognormal_hard_exceeded_integral = np.sum(PA_4_lognormal_y[PA_4_x > PA_4_expected_hours + PA_4_expected_hours_safety_margin])*PA_4_step_size\n",
    "\n",
    "print(f'lognormal exceeded (soft): {PA_4_lognormal_soft_exceeded_integral}')\n",
    "print(f'lognormal exceeded (hard): {PA_4_lognormal_hard_exceeded_integral}')"
   ]
  },
  {
   "cell_type": "markdown",
   "metadata": {},
   "source": [
    "### PA_5\n",
    "De forma geral, você sofreu algum prejuízo acadêmico nas outras disciplinas do quadrimestre?\n",
    "- (a) 1 [Nenhum prejuízo]\n",
    "- (b) 2\n",
    "- (c) 3\n",
    "- (d) 4\n",
    "- (e) 5 [Muito prejuízo]"
   ]
  },
  {
   "cell_type": "code",
   "execution_count": 191,
   "metadata": {},
   "outputs": [
    {
     "data": {
      "text/plain": [
       "((31,), (11,), (20,))"
      ]
     },
     "execution_count": 191,
     "metadata": {},
     "output_type": "execute_result"
    }
   ],
   "source": [
    "PA_5 = df['PA_5']\n",
    "PA_5_monday = monday_df['PA_5']\n",
    "PA_5_wednesday = wednesday_df['PA_5']\n",
    "\n",
    "PA_5.shape, PA_5_monday.shape, PA_5_wednesday.shape"
   ]
  },
  {
   "cell_type": "code",
   "execution_count": 192,
   "metadata": {},
   "outputs": [
    {
     "data": {
      "text/plain": [
       "(array([ 2.,  5., 10.,  8.,  6.]),\n",
       " array([1., 2., 3., 2., 3.]),\n",
       " array([1., 3., 7., 6., 3.]))"
      ]
     },
     "execution_count": 192,
     "metadata": {},
     "output_type": "execute_result"
    }
   ],
   "source": [
    "PA_5_counting = count_linkert(PA_5)\n",
    "PA_5_monday_counting = count_linkert(PA_5_monday)\n",
    "PA_5_wednesday_counting = count_linkert(PA_5_wednesday)\n",
    "\n",
    "PA_5_counting, PA_5_monday_counting, PA_5_wednesday_counting"
   ]
  },
  {
   "cell_type": "code",
   "execution_count": 193,
   "metadata": {},
   "outputs": [
    {
     "data": {
      "text/plain": [
       "(array([0.06451613, 0.16129032, 0.32258065, 0.25806452, 0.19354839]),\n",
       " array([0.09090909, 0.18181818, 0.27272727, 0.18181818, 0.27272727]),\n",
       " array([0.05, 0.15, 0.35, 0.3 , 0.15]))"
      ]
     },
     "execution_count": 193,
     "metadata": {},
     "output_type": "execute_result"
    }
   ],
   "source": [
    "PA_5_frequency = PA_5_counting/sum(PA_5_counting)\n",
    "PA_5_monday_frequency = PA_5_monday_counting/sum(PA_5_monday_counting)\n",
    "PA_5_wednesday_frequency = PA_5_wednesday_counting/sum(PA_5_wednesday_counting)\n",
    "\n",
    "PA_5_frequency, PA_5_monday_frequency, PA_5_wednesday_frequency"
   ]
  },
  {
   "cell_type": "code",
   "execution_count": 194,
   "metadata": {},
   "outputs": [
    {
     "data": {
      "image/png": "[encoded data removed]",
      "text/plain": [
       "<Figure size 800x600 with 1 Axes>"
      ]
     },
     "metadata": {},
     "output_type": "display_data"
    }
   ],
   "source": [
    "# plotting PA_5 (general)\n",
    "fig, axs = plt.subplots(figsize=fig_default_size)\n",
    "\n",
    "PA_5_categories = [\n",
    "    '1\\n[Nenhum prejuízo]',\n",
    "    '2',\n",
    "    '3',\n",
    "    '4',\n",
    "    '5\\n[Muito prejuízo]',\n",
    "]\n",
    "\n",
    "axs.bar(PA_5_categories, PA_5_counting, color=fig_default_color)\n",
    "\n",
    "# text in the top of the bars\n",
    "for i in range(5):\n",
    "    x = i\n",
    "    y = PA_5_counting[i] + top_bar_text_offset\n",
    "    percentage_str = get_percentage_str(fraction=PA_5_frequency[i])\n",
    "    \n",
    "    fig.text(x, y, percentage_str, ha='center', transform=plt.gca().transData)\n",
    "\n",
    "# axs setting\n",
    "axs.yaxis.set_major_locator(MaxNLocator(integer=True)) # restricts the y axis in to integer values\n",
    "axs.set_ylim(0, 12)\n",
    "axs.set_xlabel('Avaliações')\n",
    "axs.set_ylabel('Contagem')\n",
    "\n",
    "\n",
    "# save the figure in png format\n",
    "if save_all_figures:\n",
    "    plt.savefig('academic_imgs/PA_5_general')\n",
    "    \n",
    "# showing the figure\n",
    "plt.show()"
   ]
  },
  {
   "cell_type": "markdown",
   "metadata": {},
   "source": [
    "Binarização dos dados"
   ]
  },
  {
   "cell_type": "code",
   "execution_count": 195,
   "metadata": {},
   "outputs": [
    {
     "name": "stdout",
     "output_type": "stream",
     "text": [
      "PA_5 counting array: [ 2.  5. 10.  8.  6.]\n",
      "PA_5 yes count: 29.0\n",
      "PA_5 no count: 2.0\n",
      "PA_5 yes proportion: 0.9354838709677419\n"
     ]
    }
   ],
   "source": [
    "PA_5_bin_yes_counting = sum(PA_5_counting[1:5])\n",
    "PA_5_bin_no_counting = PA_5_counting[0]\n",
    "\n",
    "print(f'PA_5 counting array: {PA_5_counting}')\n",
    "print(f'PA_5 yes count: {PA_5_bin_yes_counting}')\n",
    "print(f'PA_5 no count: {PA_5_bin_no_counting}')\n",
    "print(f'PA_5 yes proportion: {PA_5_bin_yes_counting/PA_5.size}')"
   ]
  },
  {
   "cell_type": "code",
   "execution_count": 196,
   "metadata": {},
   "outputs": [
    {
     "name": "stdout",
     "output_type": "stream",
     "text": [
      "PA_5 confidence interval:\n",
      "(0.7928136326370187, 0.9821252164780855)\n"
     ]
    }
   ],
   "source": [
    "PA_5_ci_low, PA_5_ci_high = sm.stats.proportion_confint(\n",
    "    PA_5_bin_yes_counting,\n",
    "    PA_5.size,\n",
    "    alpha=0.05,\n",
    "    method='wilson'\n",
    "    )\n",
    "\n",
    "print(f'PA_5 confidence interval:\\n({PA_5_ci_low}, {PA_5_ci_high})')"
   ]
  },
  {
   "cell_type": "markdown",
   "metadata": {},
   "source": [
    "### PA_6\n",
    "Durante as semanas de experimentos, você sofreu algum prejuízo acadêmico nas outras disciplinas do quadrimestre?\n",
    "- (a) 1 [Nenhum prejuízo]\n",
    "- (b) 2\n",
    "- (c) 3\n",
    "- (d) 4\n",
    "- (e) 5 [Muito]"
   ]
  },
  {
   "cell_type": "code",
   "execution_count": 197,
   "metadata": {},
   "outputs": [
    {
     "data": {
      "text/plain": [
       "((31,), (11,), (20,))"
      ]
     },
     "execution_count": 197,
     "metadata": {},
     "output_type": "execute_result"
    }
   ],
   "source": [
    "PA_6 = df['PA_6']\n",
    "PA_6_monday = monday_df['PA_6']\n",
    "PA_6_wednesday = wednesday_df['PA_6']\n",
    "\n",
    "PA_6.shape, PA_6_monday.shape, PA_6_wednesday.shape"
   ]
  },
  {
   "cell_type": "code",
   "execution_count": 198,
   "metadata": {},
   "outputs": [
    {
     "data": {
      "text/plain": [
       "(array([ 8.,  8., 11.,  3.,  1.]),\n",
       " array([3., 4., 4., 0., 0.]),\n",
       " array([5., 4., 7., 3., 1.]))"
      ]
     },
     "execution_count": 198,
     "metadata": {},
     "output_type": "execute_result"
    }
   ],
   "source": [
    "PA_6_counting = count_linkert(PA_6)\n",
    "PA_6_monday_counting = count_linkert(PA_6_monday)\n",
    "PA_6_wednesday_counting = count_linkert(PA_6_wednesday)\n",
    "\n",
    "PA_6_counting, PA_6_monday_counting, PA_6_wednesday_counting"
   ]
  },
  {
   "cell_type": "code",
   "execution_count": 199,
   "metadata": {},
   "outputs": [
    {
     "data": {
      "text/plain": [
       "(array([0.25806452, 0.25806452, 0.35483871, 0.09677419, 0.03225806]),\n",
       " array([0.27272727, 0.36363636, 0.36363636, 0.        , 0.        ]),\n",
       " array([0.25, 0.2 , 0.35, 0.15, 0.05]))"
      ]
     },
     "execution_count": 199,
     "metadata": {},
     "output_type": "execute_result"
    }
   ],
   "source": [
    "PA_6_frequency = PA_6_counting/sum(PA_6_counting)\n",
    "PA_6_monday_frequency = PA_6_monday_counting/sum(PA_6_monday_counting)\n",
    "PA_6_wednesday_frequency = PA_6_wednesday_counting/sum(PA_6_wednesday_counting)\n",
    "\n",
    "PA_6_frequency, PA_6_monday_frequency, PA_6_wednesday_frequency"
   ]
  },
  {
   "cell_type": "code",
   "execution_count": 200,
   "metadata": {},
   "outputs": [
    {
     "data": {
      "image/png": "[encoded data removed]",
      "text/plain": [
       "<Figure size 800x600 with 1 Axes>"
      ]
     },
     "metadata": {},
     "output_type": "display_data"
    }
   ],
   "source": [
    "# plotting PA_6 (general)\n",
    "fig, axs = plt.subplots(figsize=fig_default_size)\n",
    "\n",
    "PA_6_categories = [\n",
    "    '1\\n[Nenhum prejuízo]',\n",
    "    '2',\n",
    "    '3',\n",
    "    '4',\n",
    "    '5\\n[Muito prejuízo]',\n",
    "]\n",
    "\n",
    "axs.bar(PA_6_categories, PA_6_counting, color=fig_default_color)\n",
    "\n",
    "# text in the top of the bars\n",
    "for i in range(5):\n",
    "    x = i\n",
    "    y = PA_6_counting[i] + top_bar_text_offset\n",
    "    percentage_str = get_percentage_str(fraction=PA_6_frequency[i])\n",
    "    \n",
    "    fig.text(x, y, percentage_str, ha='center', transform=plt.gca().transData)\n",
    "\n",
    "# axs setting\n",
    "axs.yaxis.set_major_locator(MaxNLocator(integer=True)) # restricts the y axis in to integer values\n",
    "axs.set_ylim(0, 12)\n",
    "axs.set_xlabel('Avaliações')\n",
    "axs.set_ylabel('Contagem')\n",
    "\n",
    "\n",
    "# save the figure in png format\n",
    "if save_all_figures:\n",
    "    plt.savefig('academic_imgs/PA_6_general')\n",
    "    \n",
    "# showing the figure\n",
    "plt.show()"
   ]
  },
  {
   "cell_type": "markdown",
   "metadata": {},
   "source": [
    "### PA_7\n",
    "Durante as semanas de projeto, você sofreu algum prejuízo acadêmico nas outras disciplinas do quadrimestre?\n",
    "- (a) 1 [Nenhum prejuízo]\n",
    "- (b) 2\n",
    "- (c) 3\n",
    "- (d) 4\n",
    "- (e) 5 [Muito]"
   ]
  },
  {
   "cell_type": "code",
   "execution_count": 201,
   "metadata": {},
   "outputs": [
    {
     "data": {
      "text/plain": [
       "((31,), (11,), (20,))"
      ]
     },
     "execution_count": 201,
     "metadata": {},
     "output_type": "execute_result"
    }
   ],
   "source": [
    "PA_7 = df['PA_7']\n",
    "PA_7_monday = monday_df['PA_7']\n",
    "PA_7_wednesday = wednesday_df['PA_7']\n",
    "\n",
    "PA_7.shape, PA_7_monday.shape, PA_7_wednesday.shape"
   ]
  },
  {
   "cell_type": "code",
   "execution_count": 202,
   "metadata": {},
   "outputs": [
    {
     "data": {
      "text/plain": [
       "(array([ 2.,  2.,  8.,  9., 10.]),\n",
       " array([1., 1., 4., 0., 5.]),\n",
       " array([1., 1., 4., 9., 5.]))"
      ]
     },
     "execution_count": 202,
     "metadata": {},
     "output_type": "execute_result"
    }
   ],
   "source": [
    "PA_7_counting = count_linkert(PA_7)\n",
    "PA_7_monday_counting = count_linkert(PA_7_monday)\n",
    "PA_7_wednesday_counting = count_linkert(PA_7_wednesday)\n",
    "\n",
    "PA_7_counting, PA_7_monday_counting, PA_7_wednesday_counting"
   ]
  },
  {
   "cell_type": "code",
   "execution_count": 203,
   "metadata": {},
   "outputs": [
    {
     "data": {
      "text/plain": [
       "(array([0.06451613, 0.06451613, 0.25806452, 0.29032258, 0.32258065]),\n",
       " array([0.09090909, 0.09090909, 0.36363636, 0.        , 0.45454545]),\n",
       " array([0.05, 0.05, 0.2 , 0.45, 0.25]))"
      ]
     },
     "execution_count": 203,
     "metadata": {},
     "output_type": "execute_result"
    }
   ],
   "source": [
    "PA_7_frequency = PA_7_counting/sum(PA_7_counting)\n",
    "PA_7_monday_frequency = PA_7_monday_counting/sum(PA_7_monday_counting)\n",
    "PA_7_wednesday_frequency = PA_7_wednesday_counting/sum(PA_7_wednesday_counting)\n",
    "\n",
    "PA_7_frequency, PA_7_monday_frequency, PA_7_wednesday_frequency"
   ]
  },
  {
   "cell_type": "code",
   "execution_count": 204,
   "metadata": {},
   "outputs": [
    {
     "data": {
      "image/png": "[encoded data removed]",
      "text/plain": [
       "<Figure size 800x600 with 1 Axes>"
      ]
     },
     "metadata": {},
     "output_type": "display_data"
    }
   ],
   "source": [
    "# plotting PA_6 (general)\n",
    "fig, axs = plt.subplots(figsize=fig_default_size)\n",
    "\n",
    "PA_7_categories = [\n",
    "    '1\\n[Nenhum prejuízo]',\n",
    "    '2',\n",
    "    '3',\n",
    "    '4',\n",
    "    '5\\n[Muito prejuízo]',\n",
    "]\n",
    "\n",
    "axs.bar(PA_7_categories, PA_7_counting, color=fig_default_color)\n",
    "\n",
    "# text in the top of the bars\n",
    "for i in range(5):\n",
    "    x = i\n",
    "    y = PA_7_counting[i] + top_bar_text_offset\n",
    "    percentage_str = get_percentage_str(fraction=PA_7_frequency[i])\n",
    "    \n",
    "    fig.text(x, y, percentage_str, ha='center', transform=plt.gca().transData)\n",
    "\n",
    "# axs setting\n",
    "axs.yaxis.set_major_locator(MaxNLocator(integer=True)) # restricts the y axis in to integer values\n",
    "axs.set_ylim(0, 12)\n",
    "axs.set_xlabel('Avaliações')\n",
    "axs.set_ylabel('Contagem')\n",
    "\n",
    "\n",
    "# save the figure in png format\n",
    "if save_all_figures:\n",
    "    plt.savefig('academic_imgs/PA_7_general')\n",
    "    \n",
    "# showing the figure\n",
    "plt.show()"
   ]
  },
  {
   "cell_type": "markdown",
   "metadata": {},
   "source": [
    "### PA_8\n",
    "Se você sofreu prejuízo acadêmico nas outras disciplinas, quais dos seguintes itens se enquadram no seu caso? (deixar em branco, caso contrário)\n",
    "- **[PA_8_1]** Se atrasar com o conteúdo outras disciplinas\n",
    "- **[PA_8_2]** Perder aula de outras disciplinas\n",
    "- **[PA_8_3]** Perda de desempenho nas provas\n",
    "- **[PA_8_4]** Perda de desempenho nos testinhos de [PTC3007] - Sistemas e Sinais\n",
    "- **[PA_8_5]** Falta de tempo para relatório de [MAP3122] - Cálculo Numérico\n",
    "- **[PA_8_6]** Falta de tempo para o EP de [PCS3616] Sistemas de Programação\n",
    "- **[PA_8_7]** Falta de tempo para o projeto de [PCS3623] Banco de Dados I\n",
    "- **[PA_8_8]** Dificuldades com matérias do curso semestral (DP ou outros casos)\n",
    "- **[PA_8_9]** Outros… [Texto Livre]"
   ]
  },
  {
   "cell_type": "code",
   "execution_count": 205,
   "metadata": {},
   "outputs": [],
   "source": [
    "PA_8 = [df[f'PA_8_{i+1}'] for i in range(9)]\n",
    "PA_8_monday = [monday_df[f'PA_8_{i+1}'] for i in range(9)]\n",
    "PA_8_wednesday = [wednesday_df[f'PA_8_{i+1}'] for i in range(9)]"
   ]
  },
  {
   "cell_type": "code",
   "execution_count": 206,
   "metadata": {},
   "outputs": [
    {
     "data": {
      "text/plain": [
       "29"
      ]
     },
     "execution_count": 206,
     "metadata": {},
     "output_type": "execute_result"
    }
   ],
   "source": [
    "PA_8_size = df['PA_8'].dropna().shape[0]\n",
    "\n",
    "PA_8_size"
   ]
  },
  {
   "cell_type": "code",
   "execution_count": 207,
   "metadata": {},
   "outputs": [
    {
     "data": {
      "text/plain": [
       "([24, 24, 14, 17, 17, 13, 21, 4, 1],\n",
       " [8, 9, 5, 5, 7, 5, 7, 1, 0],\n",
       " [16, 15, 9, 12, 10, 8, 14, 3, 1])"
      ]
     },
     "execution_count": 207,
     "metadata": {},
     "output_type": "execute_result"
    }
   ],
   "source": [
    "PS_8_counting = [sum(category) for category in PA_8]\n",
    "PA_8_monday = [sum(category) for category in PA_8_monday]\n",
    "PA_8_wednesday = [sum(category) for category in PA_8_wednesday]\n",
    "\n",
    "PS_8_counting, PA_8_monday, PA_8_wednesday"
   ]
  },
  {
   "cell_type": "code",
   "execution_count": 208,
   "metadata": {},
   "outputs": [
    {
     "data": {
      "text/plain": [
       "([24, 24, 14, 17, 17, 13, 21, 4, 1],\n",
       " [0.8275862068965517,\n",
       "  0.8275862068965517,\n",
       "  0.4827586206896552,\n",
       "  0.5862068965517241,\n",
       "  0.5862068965517241,\n",
       "  0.4482758620689655,\n",
       "  0.7241379310344828,\n",
       "  0.13793103448275862,\n",
       "  0.034482758620689655])"
      ]
     },
     "execution_count": 208,
     "metadata": {},
     "output_type": "execute_result"
    }
   ],
   "source": [
    "PS_8_counting = [sum(category) for category in PA_8]\n",
    "PS_8_frequency = [counting/PA_8_size for counting in PS_8_counting]\n",
    "\n",
    "PS_8_counting, PS_8_frequency"
   ]
  },
  {
   "cell_type": "code",
   "execution_count": 209,
   "metadata": {},
   "outputs": [
    {
     "data": {
      "image/png": "[encoded data removed]",
      "text/plain": [
       "<Figure size 640x480 with 1 Axes>"
      ]
     },
     "metadata": {},
     "output_type": "display_data"
    }
   ],
   "source": [
    "# plotting PA_8 (general)\n",
    "fig, axs = plt.subplots()\n",
    "\n",
    "PA_8_categories = [\n",
    "    'Se atrasar com o conteúdo \\noutras disciplinas',\n",
    "    'Perder aula de outras disciplinas',\n",
    "    'Perda de desempenho nas provas',\n",
    "    'Perda de desempenho nos testinhos\\n de [PTC3007] - Sistemas e Sinais',\n",
    "    'Falta de tempo para relatório de\\n[MAP3122] - Cálculo Numérico',\n",
    "    'Falta de tempo para o EP de\\n[PCS3616] Sistemas de Programação',\n",
    "    'Falta de tempo para o projeto\\n de [PCS3623] Banco de Dados I',\n",
    "    'Dificuldades com matérias do\\ncurso semestral (DP ou outros casos)',\n",
    "    'Outros… [Texto Livre]'\n",
    "]\n",
    "\n",
    "axs.barh(PA_8_categories, PS_8_counting, color=fig_default_color)\n",
    "axs.set_xlim(0, 28)\n",
    "\n",
    "# text in the right of the bars\n",
    "for i in range(9):\n",
    "    x = PS_8_counting[i] + right_bar_text_offset\n",
    "    y = i\n",
    "    percentage_str = get_percentage_str(fraction=PS_8_frequency[i])\n",
    "    \n",
    "    fig.text(x, y, percentage_str, ha='center', transform=plt.gca().transData)\n",
    "\n",
    "\n",
    "# save the figure in png format\n",
    "if save_all_figures:\n",
    "    plt.savefig('academic_imgs/PS_8_general')\n",
    "    \n",
    "# showing the figure\n",
    "plt.show()"
   ]
  },
  {
   "cell_type": "code",
   "execution_count": 210,
   "metadata": {},
   "outputs": [
    {
     "name": "stdout",
     "output_type": "stream",
     "text": [
      "[7 8 2 5 0 8 4 7 7 7 5 5 4 3 0 3 3 7 1 7 5 2 5 0 6 6 4 3 4 4 3]\n",
      "[7 8 0 7 5 0 1 5 5 6 3]\n",
      "[2 5 8 4 7 7 5 4 3 3 3 7 7 2 0 6 4 4 4 3]\n",
      "\n"
     ]
    }
   ],
   "source": [
    "PA_8_df = df[['PA_8_1', 'PA_8_2', 'PA_8_3', 'PA_8_4', 'PA_8_5', 'PA_8_6', 'PA_8_7', 'PA_8_8', 'PA_8_9']]\n",
    "PA_8_df_monday = monday_df[['PA_8_1', 'PA_8_2', 'PA_8_3', 'PA_8_4', 'PA_8_5', 'PA_8_6', 'PA_8_7', 'PA_8_8', 'PA_8_9']]\n",
    "PA_8_df_wednesay = wednesday_df[['PA_8_1', 'PA_8_2', 'PA_8_3', 'PA_8_4', 'PA_8_5', 'PA_8_6', 'PA_8_7', 'PA_8_8', 'PA_8_9']]\n",
    "\n",
    "PA_8_problems_per_person_counting = np.array(PA_8_df.apply(sum, axis=1))\n",
    "PA_8_monday_problems_per_person_counting = np.array(PA_8_df_monday.apply(sum, axis=1))\n",
    "PA_8_wednesday_problems_per_person_counting = np.array(PA_8_df_wednesay.apply(sum, axis=1))\n",
    "\n",
    "PA_8_data = [\n",
    "    PA_8_problems_per_person_counting,\n",
    "    PA_8_monday_problems_per_person_counting,\n",
    "    PA_8_wednesday_problems_per_person_counting\n",
    "    ]\n",
    "\n",
    "print(f'{PA_8_problems_per_person_counting}\\n{PA_8_monday_problems_per_person_counting}\\n{PA_8_wednesday_problems_per_person_counting}\\n')"
   ]
  },
  {
   "cell_type": "code",
   "execution_count": 211,
   "metadata": {},
   "outputs": [
    {
     "data": {
      "image/png": "[encoded data removed]",
      "text/plain": [
       "<Figure size 640x480 with 1 Axes>"
      ]
     },
     "metadata": {},
     "output_type": "display_data"
    }
   ],
   "source": [
    "fig, axs = plt.subplots()\n",
    "axs.boxplot(PA_8_data)\n",
    "plt.xticks([1, 2, 3], ['geral', 'segunda-feira', 'quarta-feira'])\n",
    "\n",
    "# save the figure in png format\n",
    "if save_all_figures:\n",
    "    plt.savefig('academic_imgs/PA_8_boxplot')\n",
    "    \n",
    "# showing the figure\n",
    "plt.show()"
   ]
  },
  {
   "cell_type": "code",
   "execution_count": 212,
   "metadata": {},
   "outputs": [
    {
     "data": {
      "image/png": "[encoded data removed]",
      "text/plain": [
       "<Figure size 640x480 with 1 Axes>"
      ]
     },
     "metadata": {},
     "output_type": "display_data"
    }
   ],
   "source": [
    "fig, axs = plt.subplots()\n",
    "axs.violinplot(PA_8_data)\n",
    "plt.xticks([1, 2, 3], ['geral', 'segunda-feira', 'quarta-feira'])\n",
    "\n",
    "# save the figure in png format\n",
    "if save_all_figures:\n",
    "    plt.savefig('academic_imgs/PA_8_violinplot')\n",
    "    \n",
    "# showing the figure\n",
    "plt.show()\n"
   ]
  },
  {
   "cell_type": "markdown",
   "metadata": {},
   "source": [
    "### PA_9\n",
    "Se você perdeu aulas para fazer o projeto da disciplina, diga uma estimativa da quantidade de aulas perdidas, caso você a tenha. [Texto Livre]"
   ]
  },
  {
   "cell_type": "code",
   "execution_count": 213,
   "metadata": {},
   "outputs": [
    {
     "data": {
      "text/plain": [
       "array([ 5., 10.,  0.,  0.,  0., 15.,  6., 12., 20.,  8., 15.,  4.,  0.,\n",
       "        3., 10.,  3.,  5.,  5., 30.,  0.,  8., 10., 16.,  6.,  4.,  5.,\n",
       "        6.,  6.])"
      ]
     },
     "execution_count": 213,
     "metadata": {},
     "output_type": "execute_result"
    }
   ],
   "source": [
    "PA_9 = df['PA_9'].dropna()\n",
    "\n",
    "np.array(PA_9)"
   ]
  },
  {
   "cell_type": "code",
   "execution_count": 214,
   "metadata": {},
   "outputs": [
    {
     "data": {
      "text/plain": [
       "(array([5., 8., 6., 3., 1., 3., 1., 0., 0., 1.]),\n",
       " array([ 0.,  3.,  6.,  9., 12., 15., 18., 21., 24., 27., 30.]),\n",
       " <BarContainer object of 10 artists>)"
      ]
     },
     "execution_count": 214,
     "metadata": {},
     "output_type": "execute_result"
    },
    {
     "data": {
      "image/png": "[encoded data removed]",
      "text/plain": [
       "<Figure size 640x480 with 1 Axes>"
      ]
     },
     "metadata": {},
     "output_type": "display_data"
    }
   ],
   "source": [
    "plt.hist(PA_9)"
   ]
  },
  {
   "cell_type": "markdown",
   "metadata": {},
   "source": [
    "### PA_10\n",
    "Numa escala de 1 a 5, qual o seu grau de satisfação geral com o tempo despendido em Lab Dig?\n",
    "- (a) 1 [Muito insatisfeita(o)]\n",
    "- (a) 2\n",
    "- (a) 3\n",
    "- (a) 4\n",
    "- (a) 5 [Muito satisfeita(o)]\n"
   ]
  },
  {
   "cell_type": "code",
   "execution_count": 215,
   "metadata": {},
   "outputs": [
    {
     "data": {
      "text/plain": [
       "((31,), (11,), (20,))"
      ]
     },
     "execution_count": 215,
     "metadata": {},
     "output_type": "execute_result"
    }
   ],
   "source": [
    "PA_10 = df['PA_10']\n",
    "PA_10_monday = monday_df['PA_10']\n",
    "PA_10_wednesday = wednesday_df['PA_10']\n",
    "\n",
    "PA_10.shape, PA_10_monday.shape, PA_10_wednesday.shape"
   ]
  },
  {
   "cell_type": "code",
   "execution_count": 216,
   "metadata": {},
   "outputs": [
    {
     "data": {
      "text/plain": [
       "(array([ 8., 12.,  6.,  5.,  0.]),\n",
       " array([3., 4., 1., 3., 0.]),\n",
       " array([5., 8., 5., 2., 0.]))"
      ]
     },
     "execution_count": 216,
     "metadata": {},
     "output_type": "execute_result"
    }
   ],
   "source": [
    "PA_10_counting = count_linkert(PA_10)\n",
    "PA_10_monday_counting = count_linkert(PA_10_monday)\n",
    "PA_10_wednesday_counting = count_linkert(PA_10_wednesday)\n",
    "\n",
    "PA_10_counting, PA_10_monday_counting, PA_10_wednesday_counting"
   ]
  },
  {
   "cell_type": "code",
   "execution_count": 217,
   "metadata": {},
   "outputs": [
    {
     "data": {
      "text/plain": [
       "(array([0.25806452, 0.38709677, 0.19354839, 0.16129032, 0.        ]),\n",
       " array([0.27272727, 0.36363636, 0.09090909, 0.27272727, 0.        ]),\n",
       " array([0.25, 0.4 , 0.25, 0.1 , 0.  ]))"
      ]
     },
     "execution_count": 217,
     "metadata": {},
     "output_type": "execute_result"
    }
   ],
   "source": [
    "PA_10_frequency = PA_10_counting/sum(PA_10_counting)\n",
    "PA_10_monday_frequency = PA_10_monday_counting/sum(PA_10_monday_counting)\n",
    "PA_10_wednesday_frequency = PA_10_wednesday_counting/sum(PA_10_wednesday_counting)\n",
    "\n",
    "PA_10_frequency, PA_10_monday_frequency, PA_10_wednesday_frequency"
   ]
  },
  {
   "cell_type": "code",
   "execution_count": 218,
   "metadata": {},
   "outputs": [
    {
     "data": {
      "image/png": "[encoded data removed]",
      "text/plain": [
       "<Figure size 800x600 with 1 Axes>"
      ]
     },
     "metadata": {},
     "output_type": "display_data"
    }
   ],
   "source": [
    "# plotting PA_6 (general)\n",
    "fig, axs = plt.subplots(figsize=fig_default_size)\n",
    "\n",
    "PA_10_categories = [\n",
    "    '1\\n[Nenhum prejuízo]',\n",
    "    '2',\n",
    "    '3',\n",
    "    '4',\n",
    "    '5\\n[Muito prejuízo]',\n",
    "]\n",
    "\n",
    "axs.bar(PA_10_categories, PA_10_counting, color=fig_default_color)\n",
    "\n",
    "# text in the top of the bars\n",
    "for i in range(5):\n",
    "    x = i\n",
    "    y = PA_10_counting[i] + top_bar_text_offset\n",
    "    percentage_str = get_percentage_str(fraction=PA_10_frequency[i])\n",
    "    \n",
    "    fig.text(x, y, percentage_str, ha='center', transform=plt.gca().transData)\n",
    "\n",
    "# axs setting\n",
    "axs.yaxis.set_major_locator(MaxNLocator(integer=True)) # restricts the y axis in to integer values\n",
    "axs.set_ylim(0, 14)\n",
    "axs.set_xlabel('Avaliações')\n",
    "axs.set_ylabel('Contagem')\n",
    "\n",
    "\n",
    "# save the figure in png format\n",
    "if save_all_figures:\n",
    "    plt.savefig('academic_imgs/PA_10_general')\n",
    "    \n",
    "# showing the figure\n",
    "plt.show()"
   ]
  },
  {
   "cell_type": "markdown",
   "metadata": {},
   "source": [
    "### PA_11\n",
    "Numa escala de 1 a 5, como você avalia a especificação de requisitos do projeto, nas semanas 0.1 e 0.2, nos aspectos abaixo? [Escala de 1 a 5 para cada item]\n",
    "- **PA_11_1** plausibilidade técnica, dentro do prazo proposto\t\n",
    "- **PA_11_2** coerência com o conteúdo dado na disciplina\t\n",
    "- **PA_11_3** flexibilidade com o projeto, para que o grupo pudesse optar por algo mais simples\t\n",
    "- **PA_11_4** clareza da orientação\t\n",
    "- **PA_11_5** comunicação dos docentes\t\n",
    "- **PA_11_6** complexidade do projeto, de forma geral\t\n"
   ]
  },
  {
   "cell_type": "markdown",
   "metadata": {},
   "source": [
    "### PA_12\n",
    "Qual o seu grau de satisfação com a disciplina quanto aos elementos abaixo? [respostas possíveis são Muito Insatisfeito(a), Insatisfeito(a), Neutro(a), Satisfeito(a) e Muito Satisfeito(a)]\n",
    "- **[PA_12_1]** A Disciplina em Geral\t\n",
    "- **[PA_12_2]** Semanas de Experimento\t\n",
    "- **[PA_12_3]** Semanas de Projeto\t\n",
    "- **[PA_12_4]** Quantidade de relatórios\t\n",
    "- **[PA_12_5]** Complexidade dos relatórios\t\n",
    "- **[PA_12_6]** Uso do tempo de sala\t\n",
    "- **[PA_12_7]** Uso do tempo fora de sala\t\n",
    "- **[PA_12_8]** Comunicação com os docentes\t\n",
    "- **[PA_12_9]** Flexibilidade dos docentes\t"
   ]
  },
  {
   "cell_type": "code",
   "execution_count": null,
   "metadata": {},
   "outputs": [],
   "source": []
  },
  {
   "cell_type": "markdown",
   "metadata": {},
   "source": [
    "## Pesquisa de Saúde"
   ]
  },
  {
   "cell_type": "markdown",
   "metadata": {},
   "source": [
    "### PS_1\n",
    "Você sentiu algum prejuízo em termos de saúde mental?\n",
    "- (a) 1 [Não, estou bem]\n",
    "- (b) 2\n",
    "- (c) 3\n",
    "- (d) 4\n",
    "- (e) 5 [Sim, e muito]\n",
    "\n",
    "    "
   ]
  },
  {
   "cell_type": "code",
   "execution_count": 219,
   "metadata": {},
   "outputs": [
    {
     "data": {
      "text/plain": [
       "((31,), (11,), (20,))"
      ]
     },
     "execution_count": 219,
     "metadata": {},
     "output_type": "execute_result"
    }
   ],
   "source": [
    "PS_1 = df['PS_1']\n",
    "PS_1_monday = monday_df['PS_1']\n",
    "PS_1_wednesday = wednesday_df['PS_1']\n",
    "\n",
    "PS_1.shape, PS_1_monday.shape, PS_1_wednesday.shape"
   ]
  },
  {
   "cell_type": "code",
   "execution_count": 220,
   "metadata": {},
   "outputs": [
    {
     "data": {
      "text/plain": [
       "(array([ 7., 11.,  5.,  5.,  3.]),\n",
       " array([4., 2., 1., 2., 2.]),\n",
       " array([3., 9., 4., 3., 1.]))"
      ]
     },
     "execution_count": 220,
     "metadata": {},
     "output_type": "execute_result"
    }
   ],
   "source": [
    "PS_1_counting = count_linkert(PS_1)\n",
    "PS_1_monday_counting = count_linkert(PS_1_monday)\n",
    "PS_1_wednesday_counting = count_linkert(PS_1_wednesday)\n",
    "\n",
    "PS_1_counting, PS_1_monday_counting, PS_1_wednesday_counting"
   ]
  },
  {
   "cell_type": "code",
   "execution_count": 221,
   "metadata": {},
   "outputs": [
    {
     "data": {
      "text/plain": [
       "(array([0.22580645, 0.35483871, 0.16129032, 0.16129032, 0.09677419]),\n",
       " array([0.36363636, 0.18181818, 0.09090909, 0.18181818, 0.18181818]),\n",
       " array([0.15, 0.45, 0.2 , 0.15, 0.05]))"
      ]
     },
     "execution_count": 221,
     "metadata": {},
     "output_type": "execute_result"
    }
   ],
   "source": [
    "PS_1_frequency = PS_1_counting/sum(PS_1_counting)\n",
    "PS_1_monday_frequency = PS_1_monday_counting/sum(PS_1_monday_counting)\n",
    "PS_1_wednesday_frequency = PS_1_wednesday_counting/sum(PS_1_wednesday_counting)\n",
    "\n",
    "PS_1_frequency, PS_1_monday_frequency, PS_1_wednesday_frequency"
   ]
  },
  {
   "cell_type": "code",
   "execution_count": 222,
   "metadata": {},
   "outputs": [
    {
     "data": {
      "image/png": "[encoded data removed]",
      "text/plain": [
       "<Figure size 800x600 with 1 Axes>"
      ]
     },
     "metadata": {},
     "output_type": "display_data"
    }
   ],
   "source": [
    "# plotting PS_1 (general)\n",
    "fig, axs = plt.subplots(figsize=fig_default_size)\n",
    "\n",
    "PS_1_categories = [\n",
    "    '1\\n[nenhum prejuízo]',\n",
    "    '2',\n",
    "    '3',\n",
    "    '4',\n",
    "    '5\\n[muito prejuízo]',\n",
    "]\n",
    "\n",
    "axs.bar(PS_1_categories, PS_1_counting, color=fig_default_color)\n",
    "\n",
    "# text in the top of the bars\n",
    "for i in range(5):\n",
    "    x = i\n",
    "    y = PS_1_counting[i] + top_bar_text_offset\n",
    "    percentage_str = get_percentage_str(fraction=PS_1_frequency[i])\n",
    "    \n",
    "    fig.text(x, y, percentage_str, ha='center', transform=plt.gca().transData)\n",
    "\n",
    "# axs setting\n",
    "axs.yaxis.set_major_locator(MaxNLocator(integer=True)) # restricts the y axis in to integer values\n",
    "axs.set_ylim(0, 12)\n",
    "axs.set_xlabel('Avaliações')\n",
    "axs.set_ylabel('Contagem')\n",
    "\n",
    "\n",
    "# save the figure in png format\n",
    "if save_all_figures:\n",
    "    plt.savefig('health_imgs/PS_1_general')\n",
    "    \n",
    "# showing the figure\n",
    "plt.show()"
   ]
  },
  {
   "cell_type": "markdown",
   "metadata": {},
   "source": [
    "### PS_2\n",
    "Você sentiu algum prejuízo em termos de saúde física?\n",
    "- (a) 1 [Não, estou bem]\n",
    "- (b) 2\n",
    "- (c) 3\n",
    "- (d) 4\n",
    "- (e) 5 [Sim, e muito]"
   ]
  },
  {
   "cell_type": "code",
   "execution_count": 223,
   "metadata": {},
   "outputs": [
    {
     "data": {
      "text/plain": [
       "((31,), (11,), (20,))"
      ]
     },
     "execution_count": 223,
     "metadata": {},
     "output_type": "execute_result"
    }
   ],
   "source": [
    "PS_2 = df['PS_2'].dropna()\n",
    "PS_2_monday = monday_df['PS_2'].dropna()\n",
    "PS_2_wednesday = wednesday_df['PS_2'].dropna()\n",
    "\n",
    "PS_2.shape, PS_2_monday.shape, PS_2_wednesday.shape"
   ]
  },
  {
   "cell_type": "code",
   "execution_count": 224,
   "metadata": {},
   "outputs": [
    {
     "data": {
      "text/plain": [
       "0     3\n",
       "1     4\n",
       "2     2\n",
       "3     2\n",
       "4     1\n",
       "5     4\n",
       "6     3\n",
       "7     3\n",
       "8     4\n",
       "9     4\n",
       "10    3\n",
       "11    1\n",
       "12    4\n",
       "13    2\n",
       "14    1\n",
       "15    3\n",
       "16    5\n",
       "17    2\n",
       "18    1\n",
       "19    2\n",
       "20    4\n",
       "21    1\n",
       "22    2\n",
       "23    1\n",
       "24    1\n",
       "25    1\n",
       "26    1\n",
       "27    4\n",
       "28    3\n",
       "29    1\n",
       "30    3\n",
       "Name: PS_2, dtype: int64"
      ]
     },
     "execution_count": 224,
     "metadata": {},
     "output_type": "execute_result"
    }
   ],
   "source": [
    "PS_2"
   ]
  },
  {
   "cell_type": "markdown",
   "metadata": {},
   "source": [
    "### PS_3\n",
    "Quais dos sintomas abaixo você apresentou e com que intensidade? [Respostas possíveis são: nenhuma manifestação, apresentei um pouco, moderado e apresentei muito]\n",
    "- **[PS_3_1]** Cansaço\t\n",
    "- **[PS_3_2]** Estresse\t\n",
    "- **[PS_3_3]** Ansiedade\t\n",
    "- **[PS_3_4]** Irritação\t\n",
    "- **[PS_3_5]** Depressão\t"
   ]
  },
  {
   "cell_type": "markdown",
   "metadata": {},
   "source": [
    "### PS_4\n",
    "Durante as semanas de projeto, como você avalia, a qualidade dos seguintes aspectos? [Respostas possíveis são: péssimo, ruim, neutro, bom e excelente]\n",
    "- **[PS_4_1]** sono\t\n",
    "- **[PS_4_2]** alimentação\t\n",
    "- **[PS_4_3]** concentração\t\n",
    "- **[PS_4_4]** humor\t\n",
    "- **[PS_4_5]** bem-estar geral\t"
   ]
  },
  {
   "cell_type": "markdown",
   "metadata": {},
   "source": [
    "### PS_5\n",
    "Em relação a alimentação, você conseguiu se alimentar adequadamente durante as semanas de projeto?\n",
    "- (a) Sim, me alimentei de forma saudável\n",
    "- (b) Sim, me alimentei normalmente\n",
    "- (c) Não, eu me alimentei mal\n",
    "- (d) Não, tive prejuízos na minha alimentação"
   ]
  },
  {
   "cell_type": "code",
   "execution_count": 225,
   "metadata": {},
   "outputs": [
    {
     "data": {
      "text/plain": [
       "((29,), (10,), (19,))"
      ]
     },
     "execution_count": 225,
     "metadata": {},
     "output_type": "execute_result"
    }
   ],
   "source": [
    "PS_5 = df['PS_5'].dropna()\n",
    "PS_5_monday = monday_df['PS_5'].dropna()\n",
    "PS_5_wednesday = wednesday_df['PS_5'].dropna()\n",
    "\n",
    "PS_5.shape, PS_5_monday.shape, PS_5_wednesday.shape"
   ]
  },
  {
   "cell_type": "code",
   "execution_count": 226,
   "metadata": {},
   "outputs": [
    {
     "data": {
      "text/plain": [
       "(0     -5.0\n",
       " 1      5.0\n",
       " 2      5.0\n",
       " 3      5.0\n",
       " 4     15.0\n",
       " 5    -15.0\n",
       " 6     -5.0\n",
       " 7     -5.0\n",
       " 8    -15.0\n",
       " 9    -15.0\n",
       " 10   -15.0\n",
       " 11     5.0\n",
       " 12    -5.0\n",
       " 13    -5.0\n",
       " 15    -5.0\n",
       " 16    15.0\n",
       " 17     5.0\n",
       " 18     5.0\n",
       " 19   -15.0\n",
       " 20    -5.0\n",
       " 21     5.0\n",
       " 22    -5.0\n",
       " 23    15.0\n",
       " 24    15.0\n",
       " 25     5.0\n",
       " 26     5.0\n",
       " 27     5.0\n",
       " 29     5.0\n",
       " 30   -15.0\n",
       " Name: PS_5, dtype: float64,\n",
       " 0     -5.0\n",
       " 1      5.0\n",
       " 4     15.0\n",
       " 8    -15.0\n",
       " 11     5.0\n",
       " 18     5.0\n",
       " 20    -5.0\n",
       " 22    -5.0\n",
       " 24    15.0\n",
       " 27     5.0\n",
       " Name: PS_5, dtype: float64,\n",
       " 2      5.0\n",
       " 3      5.0\n",
       " 5    -15.0\n",
       " 6     -5.0\n",
       " 7     -5.0\n",
       " 9    -15.0\n",
       " 10   -15.0\n",
       " 12    -5.0\n",
       " 13    -5.0\n",
       " 15    -5.0\n",
       " 16    15.0\n",
       " 17     5.0\n",
       " 19   -15.0\n",
       " 21     5.0\n",
       " 23    15.0\n",
       " 25     5.0\n",
       " 26     5.0\n",
       " 29     5.0\n",
       " 30   -15.0\n",
       " Name: PS_5, dtype: float64)"
      ]
     },
     "execution_count": 226,
     "metadata": {},
     "output_type": "execute_result"
    }
   ],
   "source": [
    "PS_5, PS_5_monday, PS_5_wednesday"
   ]
  },
  {
   "cell_type": "code",
   "execution_count": 227,
   "metadata": {},
   "outputs": [
    {
     "data": {
      "text/plain": [
       "(-0.5172413793103449, 2.0, -1.8421052631578947)"
      ]
     },
     "execution_count": 227,
     "metadata": {},
     "output_type": "execute_result"
    }
   ],
   "source": [
    "PS_5.mean(), PS_5_monday.mean(), PS_5_wednesday.mean()"
   ]
  },
  {
   "cell_type": "markdown",
   "metadata": {},
   "source": [
    "### PS_6\n",
    "Se você costuma se alimentar nos bandeijões, a frequência com que você os frequentava foi alterada?\n",
    "- (a) Sim\n",
    "- (b) Não\n",
    "\n"
   ]
  },
  {
   "cell_type": "code",
   "execution_count": 228,
   "metadata": {},
   "outputs": [
    {
     "data": {
      "text/plain": [
       "((27,), (9,), (18,))"
      ]
     },
     "execution_count": 228,
     "metadata": {},
     "output_type": "execute_result"
    }
   ],
   "source": [
    "PS_6 = df['PS_6']\n",
    "PS_6_monday = monday_df['PS_6']\n",
    "PS_6_wednesday = wednesday_df['PS_6']\n",
    "\n",
    "PS_6 = PS_6.dropna()\n",
    "PS_6_monday = PS_6_monday.dropna()\n",
    "PS_6_wednesday = PS_6_wednesday.dropna()\n",
    "\n",
    "PS_6.shape, PS_6_monday.shape, PS_6_wednesday.shape"
   ]
  },
  {
   "cell_type": "code",
   "execution_count": 229,
   "metadata": {},
   "outputs": [],
   "source": [
    "# getting the total number of ocurrencies\n",
    "PS_6_yes_count = PS_6[PS_6 == 1].size\n",
    "PS_6_no_count = PS_6.size - PS_6_yes_count\n",
    "\n",
    "PS_6_monday_yes_count = PS_6_monday[PS_6_monday == 1].size\n",
    "PS_6_monday_no_count = PS_6_monday.size - PS_6_monday_yes_count\n",
    "\n",
    "PS_6_wednesday_yes_count = PS_6_wednesday[PS_6_wednesday == 1].size\n",
    "PS_6_wednesday_no_count = PS_6_wednesday.size - PS_6_wednesday_yes_count\n",
    "\n",
    "# getting the proportions\n",
    "PS_6_yes_proportions = PS_6_yes_count/PS_6.size\n",
    "PS_6_no_proportions = 1 - PS_6_yes_proportions\n",
    "\n",
    "PS_6_monday_yes_proportions = PS_6_monday_yes_count/PS_6_monday.size\n",
    "PS_6_monday_no_proportions = 1 - PS_6_monday_yes_proportions\n",
    "\n",
    "PS_6_wednesday_yes_proportions = PS_6_wednesday_yes_count/PS_6_wednesday.size\n",
    "PS_6_wednesday_no_proportions = 1 - PS_6_wednesday_yes_proportions"
   ]
  },
  {
   "cell_type": "code",
   "execution_count": 230,
   "metadata": {},
   "outputs": [
    {
     "data": {
      "text/html": [
       "<div>\n",
       "<style scoped>\n",
       "    .dataframe tbody tr th:only-of-type {\n",
       "        vertical-align: middle;\n",
       "    }\n",
       "\n",
       "    .dataframe tbody tr th {\n",
       "        vertical-align: top;\n",
       "    }\n",
       "\n",
       "    .dataframe thead th {\n",
       "        text-align: right;\n",
       "    }\n",
       "</style>\n",
       "<table border=\"1\" class=\"dataframe\">\n",
       "  <thead>\n",
       "    <tr style=\"text-align: right;\">\n",
       "      <th></th>\n",
       "      <th>yes</th>\n",
       "      <th>no</th>\n",
       "      <th>yes(%)</th>\n",
       "      <th>no(%)</th>\n",
       "    </tr>\n",
       "  </thead>\n",
       "  <tbody>\n",
       "    <tr>\n",
       "      <th>general</th>\n",
       "      <td>17</td>\n",
       "      <td>10</td>\n",
       "      <td>0.629630</td>\n",
       "      <td>0.370370</td>\n",
       "    </tr>\n",
       "    <tr>\n",
       "      <th>monday</th>\n",
       "      <td>6</td>\n",
       "      <td>3</td>\n",
       "      <td>0.666667</td>\n",
       "      <td>0.333333</td>\n",
       "    </tr>\n",
       "    <tr>\n",
       "      <th>wednesday</th>\n",
       "      <td>11</td>\n",
       "      <td>7</td>\n",
       "      <td>0.611111</td>\n",
       "      <td>0.388889</td>\n",
       "    </tr>\n",
       "  </tbody>\n",
       "</table>\n",
       "</div>"
      ],
      "text/plain": [
       "           yes  no    yes(%)     no(%)\n",
       "general     17  10  0.629630  0.370370\n",
       "monday       6   3  0.666667  0.333333\n",
       "wednesday   11   7  0.611111  0.388889"
      ]
     },
     "execution_count": 230,
     "metadata": {},
     "output_type": "execute_result"
    }
   ],
   "source": [
    "PS_6_resume = [\n",
    "    {'yes': PS_6_yes_count, 'no': PS_6_no_count, 'yes(%)': PS_6_yes_proportions, 'no(%)': PS_6_no_proportions},\n",
    "    {'yes': PS_6_monday_yes_count, 'no': PS_6_monday_no_count, 'yes(%)': PS_6_monday_yes_proportions, 'no(%)': PS_6_monday_no_proportions},\n",
    "    {'yes': PS_6_wednesday_yes_count, 'no': PS_6_wednesday_no_count, 'yes(%)': PS_6_wednesday_yes_proportions, 'no(%)': PS_6_wednesday_no_proportions}\n",
    "]\n",
    "\n",
    "PA_6_indexes = ['general', 'monday', 'wednesday']\n",
    "\n",
    "PS_6_resume_table = pd.DataFrame(PS_6_resume, index=PA_6_indexes)\n",
    "PS_6_resume_table"
   ]
  },
  {
   "cell_type": "code",
   "execution_count": 231,
   "metadata": {},
   "outputs": [
    {
     "name": "stdout",
     "output_type": "stream",
     "text": [
      "PS_6 confidence intervals\n",
      "general:   0.3732032620080114, 0.7235709315403756\n",
      "monday:    0.05447271102650553, 0.33262406316704285\n",
      "wednesday: 0.18640970171722054, 0.5232677176376181\n"
     ]
    }
   ],
   "source": [
    "PS_6_ci_low, PS_6_ci_high = sm.stats.proportion_confint(\n",
    "    PS_6_yes_count,\n",
    "    PA_6.size,\n",
    "    alpha=0.05,\n",
    "    method='normal'\n",
    "    )\n",
    "\n",
    "PS_6_monday_ci_low, PS_6_monday_ci_high = sm.stats.proportion_confint(\n",
    "    PS_6_monday_yes_count,\n",
    "    PA_6.size,\n",
    "    alpha=0.05,\n",
    "    method='normal'\n",
    "    )\n",
    "\n",
    "PS_6_wednesday_ci_low, PS_6_wednesday_ci_high = sm.stats.proportion_confint(\n",
    "    PS_6_wednesday_yes_count,\n",
    "    PA_6.size,\n",
    "    alpha=0.05,\n",
    "    method='normal'\n",
    "    )\n",
    "\n",
    "print('PS_6 confidence intervals')\n",
    "print(f'general:   {PS_6_ci_low}, {PS_6_ci_high}')\n",
    "print(f'monday:    {PS_6_monday_ci_low}, {PS_6_monday_ci_high}')\n",
    "print(f'wednesday: {PS_6_wednesday_ci_low}, {PS_6_wednesday_ci_high}')"
   ]
  },
  {
   "cell_type": "markdown",
   "metadata": {},
   "source": [
    "### PS_7\n",
    "Você pulou refeições nas semanas de projetos? Com que frequência? [Respostas Possíveis são: não pulei, pulei às vezes e pulei frequentemente]\n",
    "- **[PS_7_1]** café da manhã\t\n",
    "- **[PS_7_2]** almoço\t\n",
    "- **[PS_7_3]** jantar\t"
   ]
  },
  {
   "cell_type": "code",
   "execution_count": 232,
   "metadata": {},
   "outputs": [
    {
     "data": {
      "text/plain": [
       "(    PS_7_1  PS_7_2  PS_7_3\n",
       " 0      2.0     1.0     0.0\n",
       " 1      0.0     2.0     1.0\n",
       " 2      0.0     0.0     0.0\n",
       " 3      0.0     0.0     0.0\n",
       " 4      0.0     0.0     0.0\n",
       " 5      0.0     2.0     1.0\n",
       " 6      2.0     2.0     1.0\n",
       " 7      0.0     0.0     0.0\n",
       " 8      2.0     1.0     1.0\n",
       " 9      2.0     2.0     1.0\n",
       " 10     2.0     2.0     2.0\n",
       " 11     0.0     0.0     0.0\n",
       " 12     1.0     0.0     2.0\n",
       " 13     1.0     1.0     1.0\n",
       " 15     0.0     1.0     1.0\n",
       " 16     1.0     0.0     0.0\n",
       " 17     1.0     1.0     0.0\n",
       " 18     0.0     0.0     0.0\n",
       " 19     2.0     0.0     0.0\n",
       " 20     0.0     1.0     0.0\n",
       " 21     0.0     2.0     0.0\n",
       " 22     0.0     1.0     0.0\n",
       " 23     0.0     1.0     0.0\n",
       " 24     0.0     1.0     0.0\n",
       " 25     0.0     0.0     1.0\n",
       " 26     0.0     1.0     0.0\n",
       " 27     0.0     1.0     1.0\n",
       " 29     0.0     1.0     0.0\n",
       " 30     0.0     1.0     1.0,\n",
       "     PS_7_1  PS_7_2  PS_7_3\n",
       " 0      2.0     1.0     0.0\n",
       " 1      0.0     2.0     1.0\n",
       " 4      0.0     0.0     0.0\n",
       " 8      2.0     1.0     1.0\n",
       " 11     0.0     0.0     0.0\n",
       " 18     0.0     0.0     0.0\n",
       " 20     0.0     1.0     0.0\n",
       " 22     0.0     1.0     0.0\n",
       " 24     0.0     1.0     0.0\n",
       " 27     0.0     1.0     1.0,\n",
       "     PS_7_1  PS_7_2  PS_7_3\n",
       " 2      0.0     0.0     0.0\n",
       " 3      0.0     0.0     0.0\n",
       " 5      0.0     2.0     1.0\n",
       " 6      2.0     2.0     1.0\n",
       " 7      0.0     0.0     0.0\n",
       " 9      2.0     2.0     1.0\n",
       " 10     2.0     2.0     2.0\n",
       " 12     1.0     0.0     2.0\n",
       " 13     1.0     1.0     1.0\n",
       " 15     0.0     1.0     1.0\n",
       " 16     1.0     0.0     0.0\n",
       " 17     1.0     1.0     0.0\n",
       " 19     2.0     0.0     0.0\n",
       " 21     0.0     2.0     0.0\n",
       " 23     0.0     1.0     0.0\n",
       " 25     0.0     0.0     1.0\n",
       " 26     0.0     1.0     0.0\n",
       " 29     0.0     1.0     0.0\n",
       " 30     0.0     1.0     1.0)"
      ]
     },
     "execution_count": 232,
     "metadata": {},
     "output_type": "execute_result"
    }
   ],
   "source": [
    "PS_7 = df[['PS_7_1', 'PS_7_2', 'PS_7_3']].dropna()\n",
    "PS_7_monday = monday_df[['PS_7_1', 'PS_7_2', 'PS_7_3']].dropna()\n",
    "PS_7_wednesday = wednesday_df[['PS_7_1', 'PS_7_2', 'PS_7_3']].dropna()\n",
    "\n",
    "PS_7, PS_7_monday, PS_7_wednesday"
   ]
  },
  {
   "cell_type": "code",
   "execution_count": 233,
   "metadata": {},
   "outputs": [],
   "source": [
    "def at_least_one_non_null(row: pd.Series) -> pd.Series:\n",
    "    \"\"\"\n",
    "    Verifies if the row has, at least, one non null value.\n",
    "\n",
    "    Args:\n",
    "        row (pandas.Series): a pandas dataframe or series\n",
    "\n",
    "    Returns:\n",
    "        bool: True if, at least, the row have a non null value, False otherwise.\n",
    "\n",
    "    Example:\n",
    "        >>> df = pd.DataFrame({'A': [1, 2, np.nan, 4],\n",
    "        ...                    'B': [np.nan, 2, 3, 4],\n",
    "        ...                    'C': [1, np.nan, 3, np.nan]})\n",
    "        \n",
    "        >>> df['new_column'] = df.apply(at_least_one_non_null, axis=1)\n",
    "        >>> print(df)\n",
    "           A    B    C   new_column\n",
    "        0  1  NaN  1.0   True\n",
    "        1  2  2.0  NaN   True\n",
    "        2  NaN  3.0  3.0   True\n",
    "        3  4  4.0  NaN   True\n",
    "    \"\"\"\n",
    "    for value in row:\n",
    "        if value != 0: return True\n",
    "    \n",
    "    return False"
   ]
  },
  {
   "cell_type": "code",
   "execution_count": 234,
   "metadata": {},
   "outputs": [
    {
     "data": {
      "text/plain": [
       "(    PS_7_1  PS_7_2  PS_7_3  altered\n",
       " 0      2.0     1.0     0.0     True\n",
       " 1      0.0     2.0     1.0     True\n",
       " 2      0.0     0.0     0.0    False\n",
       " 3      0.0     0.0     0.0    False\n",
       " 4      0.0     0.0     0.0    False\n",
       " 5      0.0     2.0     1.0     True\n",
       " 6      2.0     2.0     1.0     True\n",
       " 7      0.0     0.0     0.0    False\n",
       " 8      2.0     1.0     1.0     True\n",
       " 9      2.0     2.0     1.0     True\n",
       " 10     2.0     2.0     2.0     True\n",
       " 11     0.0     0.0     0.0    False\n",
       " 12     1.0     0.0     2.0     True\n",
       " 13     1.0     1.0     1.0     True\n",
       " 15     0.0     1.0     1.0     True\n",
       " 16     1.0     0.0     0.0     True\n",
       " 17     1.0     1.0     0.0     True\n",
       " 18     0.0     0.0     0.0    False\n",
       " 19     2.0     0.0     0.0     True\n",
       " 20     0.0     1.0     0.0     True\n",
       " 21     0.0     2.0     0.0     True\n",
       " 22     0.0     1.0     0.0     True\n",
       " 23     0.0     1.0     0.0     True\n",
       " 24     0.0     1.0     0.0     True\n",
       " 25     0.0     0.0     1.0     True\n",
       " 26     0.0     1.0     0.0     True\n",
       " 27     0.0     1.0     1.0     True\n",
       " 29     0.0     1.0     0.0     True\n",
       " 30     0.0     1.0     1.0     True,\n",
       "     PS_7_1  PS_7_2  PS_7_3  altered\n",
       " 0      2.0     1.0     0.0     True\n",
       " 1      0.0     2.0     1.0     True\n",
       " 4      0.0     0.0     0.0    False\n",
       " 8      2.0     1.0     1.0     True\n",
       " 11     0.0     0.0     0.0    False\n",
       " 18     0.0     0.0     0.0    False\n",
       " 20     0.0     1.0     0.0     True\n",
       " 22     0.0     1.0     0.0     True\n",
       " 24     0.0     1.0     0.0     True\n",
       " 27     0.0     1.0     1.0     True,\n",
       "     PS_7_1  PS_7_2  PS_7_3  altered\n",
       " 2      0.0     0.0     0.0    False\n",
       " 3      0.0     0.0     0.0    False\n",
       " 5      0.0     2.0     1.0     True\n",
       " 6      2.0     2.0     1.0     True\n",
       " 7      0.0     0.0     0.0    False\n",
       " 9      2.0     2.0     1.0     True\n",
       " 10     2.0     2.0     2.0     True\n",
       " 12     1.0     0.0     2.0     True\n",
       " 13     1.0     1.0     1.0     True\n",
       " 15     0.0     1.0     1.0     True\n",
       " 16     1.0     0.0     0.0     True\n",
       " 17     1.0     1.0     0.0     True\n",
       " 19     2.0     0.0     0.0     True\n",
       " 21     0.0     2.0     0.0     True\n",
       " 23     0.0     1.0     0.0     True\n",
       " 25     0.0     0.0     1.0     True\n",
       " 26     0.0     1.0     0.0     True\n",
       " 29     0.0     1.0     0.0     True\n",
       " 30     0.0     1.0     1.0     True)"
      ]
     },
     "execution_count": 234,
     "metadata": {},
     "output_type": "execute_result"
    }
   ],
   "source": [
    "PS_7['altered'] = PS_7.apply(at_least_one_non_null, axis=1)\n",
    "PS_7_monday['altered'] = PS_7_monday.apply(at_least_one_non_null, axis=1)\n",
    "PS_7_wednesday['altered'] = PS_7_wednesday.apply(at_least_one_non_null, axis=1)\n",
    "\n",
    "PS_7, PS_7_monday, PS_7_wednesday"
   ]
  },
  {
   "cell_type": "code",
   "execution_count": 235,
   "metadata": {},
   "outputs": [
    {
     "data": {
      "text/html": [
       "<div>\n",
       "<style scoped>\n",
       "    .dataframe tbody tr th:only-of-type {\n",
       "        vertical-align: middle;\n",
       "    }\n",
       "\n",
       "    .dataframe tbody tr th {\n",
       "        vertical-align: top;\n",
       "    }\n",
       "\n",
       "    .dataframe thead th {\n",
       "        text-align: right;\n",
       "    }\n",
       "</style>\n",
       "<table border=\"1\" class=\"dataframe\">\n",
       "  <thead>\n",
       "    <tr style=\"text-align: right;\">\n",
       "      <th></th>\n",
       "      <th>counting</th>\n",
       "      <th>proportion</th>\n",
       "    </tr>\n",
       "  </thead>\n",
       "  <tbody>\n",
       "    <tr>\n",
       "      <th>general</th>\n",
       "      <td>23</td>\n",
       "      <td>0.793103</td>\n",
       "    </tr>\n",
       "    <tr>\n",
       "      <th>monday</th>\n",
       "      <td>7</td>\n",
       "      <td>0.700000</td>\n",
       "    </tr>\n",
       "    <tr>\n",
       "      <th>wednesay</th>\n",
       "      <td>16</td>\n",
       "      <td>0.842105</td>\n",
       "    </tr>\n",
       "  </tbody>\n",
       "</table>\n",
       "</div>"
      ],
      "text/plain": [
       "          counting  proportion\n",
       "general         23    0.793103\n",
       "monday           7    0.700000\n",
       "wednesay        16    0.842105"
      ]
     },
     "execution_count": 235,
     "metadata": {},
     "output_type": "execute_result"
    }
   ],
   "source": [
    "PS_7_altered_frequency_counting = PS_7[PS_7['altered'] == True]['altered'].size\n",
    "PS_7_altered_frequency_proportion = PS_7_altered_frequency_counting/PS_7['altered'].size\n",
    "\n",
    "PS_7_monday_altered_frequency_counting = PS_7_monday[PS_7_monday['altered'] == True]['altered'].size\n",
    "PS_7_monday_altered_frequency_proportion = PS_7_monday_altered_frequency_counting/PS_7_monday['altered'].size\n",
    "\n",
    "PS_7_wednesday_altered_frequency_counting = PS_7_wednesday[PS_7_wednesday['altered'] == True]['altered'].size\n",
    "PS_7_wednesday_altered_frequency_proportion = PS_7_wednesday_altered_frequency_counting/PS_7_wednesday['altered'].size\n",
    "\n",
    "PS_7_resume = [\n",
    "    {'counting': PS_7_altered_frequency_counting, 'proportion': PS_7_altered_frequency_proportion},\n",
    "    {'counting': PS_7_monday_altered_frequency_counting, 'proportion': PS_7_monday_altered_frequency_proportion},\n",
    "    {'counting': PS_7_wednesday_altered_frequency_counting, 'proportion': PS_7_wednesday_altered_frequency_proportion}\n",
    "]\n",
    "\n",
    "PS_7_resume_indexes = ['general', 'monday', 'wednesay']\n",
    "\n",
    "pd.DataFrame(PS_7_resume, index=PS_7_resume_indexes)"
   ]
  },
  {
   "cell_type": "code",
   "execution_count": 236,
   "metadata": {},
   "outputs": [
    {
     "name": "stdout",
     "output_type": "stream",
     "text": [
      "PS_7 confidence intervals\n",
      "general:   0.5879022399247333, 0.8959687278172022\n",
      "monday:    0.07862259069286018, 0.37299031253294623\n",
      "wednesday: 0.3402106708541346, 0.6920473936619944\n"
     ]
    }
   ],
   "source": [
    "PS_7_ci_low, PS_7_ci_high = sm.stats.proportion_confint(\n",
    "    PS_7_altered_frequency_counting,\n",
    "    PA_7.size,\n",
    "    alpha=0.05,\n",
    "    method='normal'\n",
    "    )\n",
    "\n",
    "PS_7_monday_ci_low, PS_7_monday_ci_high = sm.stats.proportion_confint(\n",
    "    PS_7_monday_altered_frequency_counting,\n",
    "    PA_7.size,\n",
    "    alpha=0.05,\n",
    "    method='normal'\n",
    "    )\n",
    "\n",
    "PS_7_wednesday_ci_low, PS_7_wednesday_ci_high = sm.stats.proportion_confint(\n",
    "    PS_7_wednesday_altered_frequency_counting,\n",
    "    PA_7.size,\n",
    "    alpha=0.05,\n",
    "    method='normal'\n",
    "    )\n",
    "\n",
    "print('PS_7 confidence intervals')\n",
    "print(f'general:   {PS_7_ci_low}, {PS_7_ci_high}')\n",
    "print(f'monday:    {PS_7_monday_ci_low}, {PS_7_monday_ci_high}')\n",
    "print(f'wednesday: {PS_7_wednesday_ci_low}, {PS_7_wednesday_ci_high}')"
   ]
  },
  {
   "cell_type": "markdown",
   "metadata": {},
   "source": [
    "### PS_8\n",
    "Caso você se sinta confortável, use esse espaço para se expressar. Garantimos que a resposta será anônima e não será identificada por ninguém. Você pode contar seu relato com a disciplina e como se sentiu em relação a ela, ou dizer o que quiser, sob qualquer posicionamento. [Texto Livre]\n"
   ]
  },
  {
   "cell_type": "code",
   "execution_count": 237,
   "metadata": {},
   "outputs": [
    {
     "data": {
      "text/plain": [
       "((11,), (4,), (7,))"
      ]
     },
     "execution_count": 237,
     "metadata": {},
     "output_type": "execute_result"
    }
   ],
   "source": [
    "PS_8 = df['PS_8'].dropna()\n",
    "PS_8_monday = monday_df['PS_8'].dropna()\n",
    "PS_8_wednesday = wednesday_df['PS_8'].dropna()\n",
    "\n",
    "PS_8.shape, PS_8_monday.shape, PS_8_wednesday.shape"
   ]
  },
  {
   "cell_type": "code",
   "execution_count": 238,
   "metadata": {},
   "outputs": [
    {
     "name": "stdout",
     "output_type": "stream",
     "text": [
      "R_1_monday\n",
      "O fato de LabDig exigir mais tempo que o normal que qualquer outra matéria me fez entrar em uma bola de neve de pouco tempo de sono para estudar e fazer os outros projetos de outras matérias. O problema, nas três últimas semanas de Quadri cheguei a consumir por volta de 20L de energético\n",
      "\n",
      "Veredict:\n",
      "Confidence: \n",
      "\n",
      "\n",
      "\n",
      "\n",
      "R_2_monday\n",
      "Tive muito estresse com essa disciplina, que não consigo nem descrever. Eu passei incontáveis horas no openlab, perdi um monte de materias, me atrasei com tudo. O projeto foi mal orientado e todos foram impelidos a fazerem um projeto de complexidade bem pior que o tempo da disciplina permite. Tive muita ansiedade nas semanas de projeto e me alimentei muito mal; comia coxinha da minerva várias vezes, ao invés de bandecar. Dormi muito mal e tive bastante insônia. Odiei a experiência.\n",
      "O midorikawa só nos cobrou e não foi compreensivo. Na semana 3, ele viu que os projetos não estavam nem perto de serem finalizados, porque faltava a montagem física e todos estavam na protoboard. Então, ao invés de entender que o projeto foi irracional para o prazo dado, ele simplesmente cobrou que todos terminassem o projeto na semana seguinte: \"é uma feira de projetos, não de circuitos\".\n",
      "Essa disciplina foi um desastre. Estou agora é com medo de isso ser pior em labdigi 2.\n",
      "\n",
      "Veredict:\n",
      "Confidence: \n",
      "\n",
      "\n",
      "\n",
      "\n",
      "R_3_monday\n",
      "A disciplina é de fato desproporcional e acaba limitando o próprio aprendizado da matéria. É muito fácil perder a mão na quantidade de tempo dedicado, negligenciando o estudo das demais disciplinas. \n",
      "A primeira parte, de experimentos, é pouco mais adequada. Porém, nas semanas de projeto a disciplina desvia completamente seu propósito. Quase sem orientação sobre a dificuldade e necessidades do projeto, o aluno fica sem ideia do que irá enfrentar nas semanas dedicadas a ele. Prevendo isso, em meu grupo decidimos escolher um tema relativamente simples e que, mesmo assim, demandou muito esforço.\n",
      "Requisitos como montagem de maquete acabam desviando do escopo da disciplina. Em determinado ponto, é necessário escolher entre se dedicar totalmente ao projeto ou apenas fazer o mínimo que permita a manutenção da saúde e integridade pessoal, e isso é muito ruim em qualquer disciplina. Por isso, a capacidade e dedicação tão atribuídas aos alunos politécnicos acabam sendo desperdiçadas.\n",
      "Uma refatoração da disciplina, com auxílio dos alunos, seria realmente essencial para torná-la mais proveitosa e adequada.\n",
      "\n",
      "Veredict:\n",
      "Confidence: \n",
      "\n",
      "\n",
      "\n",
      "\n",
      "R_4_monday\n",
      "Achei que sim a disciplina foi bem difícil, mas o principal ponto que me incomodou foi a falta de orientação na hora de escolher o projeto, no sentido de não avisar os alunos caso o projeto fossem ambicioso demais, ou mesmo durante o mês de projeto, avisando os alunos caso fosse trabalho maior que o possível de ser feito. Isso além de deixar mais saudável traria ainda um ensinamento de dimensionamento e reformulacao de projeto.\n",
      "Por fim, também me incomodou disparidades de dificuldade entre as diferentes versões de prova e o fato de que erros aleatórios iriam afetar diretamente sua performance na prova, como foi o meu caso no qual o quartus teve um problema que nem o prof soube identificar, resultando em \"sorte\" definindo minha nota mais do que minha habilidade\n",
      "\n",
      "Veredict:\n",
      "Confidence: \n",
      "\n",
      "\n",
      "\n",
      "\n",
      "R_1_wednesday\n",
      "   A matéria em si foi exigente, foi puxada, porém também senti que aprendi muito com a matéria. Acho que o ponto negativo foi a exigência de que o projeto tivesse aplicabilidades além do que foi proposto pela disciplina( como comunicação serial, protocolo UART etc), até porque isso é assunto de labdig 2 e que foi muito mais custoso pesquisar do que o professor simplesmente explicando.\n",
      " Outro ponto foi que acho que os professores poderiam alertar e orientar os alunos que estavam planejando fazer um projeto muito complexo, dado que eles possuem maior noção da complexidade do que nós que na primeira semana de projeto escolhemos qual seria a ideia. \n",
      "  Por fim, acredito que a matéria em si foi positiva e o final gratificante, porém acho que a exigência e orientação dos professores poderiam ter sido melhores. Não acredito que tenha que mudar o formato da disciplina, no entanto acho que vale uma maior orientação de como executar um projeto no tempo estipulado e também exigir apenas conhecimentos próprios de labdig 1\n",
      "\n",
      "Veredict:\n",
      "Confidence: \n",
      "\n",
      "\n",
      "\n",
      "\n",
      "R_2_wednesday\n",
      "A disciplina no geral foi bastante trabalhosa e cansativa, e,  apesar de ter tido vários prejuízos com as demais disciplinas, foi bastante interessante desenvolver o projeto. O professor Midorikawa sempre se mostrou disposto a nos ajudar, entregando sempre feedbacks e dando dicas sobre implementações que não foram ensinadas oficialmente na disciplina. Acho que seria interessante encontrar um meio termo para não nos sobrecarregar quando juntamos tudo, pois apesar de ser mais divertido trabalhar com labdig, ainda temos muitas outras obrigações e de uma forma ou de outra, essa sobrecarga, quando juntamos labdig com todas as demais obrigações, causou prejuízos na alimentação, sono e saúde mental no geral. Acredito que seja uma ideia um pouco utópica, mas se fosse possível juntar todos os professores das disciplinas e pedirem para que eles montem um cronograma geral de um aluno X que está matriculado nas disciplinas do quadri, e que gaste uma parte considerável do dia com transporte, fila de bandejão, algum grupo de extensão e possíveis DPs, e fazerem com que eles montem um cronograma plausível com as aulas, todas as atividades extraclasse e as coisas citadas acima, reservando um tempo para esporte e lazer durante a semana, seria um grande passo. Na situação atual seria claro que nossas condições para realizar tudo isso é impossível. \n",
      "\n",
      "Veredict:\n",
      "Confidence: \n",
      "\n",
      "\n",
      "\n",
      "\n",
      "R_3_wednesday\n",
      "Não me leva a mal por favor Henrique mas eu particularmente acho que é meio inevitável o que aconteceu. Não tem como aprender tanta coisa em tão pouco tempo sem compromisso de saúde e estresse, etc. Acho que algumas orientações gerais poderiam facilitar o trabalho, por exemplo usar tecnologias de desenho e impressão de circuito para evitar estresse com mal contato de fio e etc mas não foge muito disso. No mais, eu sempre perco sono e pulo refeição pela poli então não senti uma  diferença assim tao grande sendo sincero\n",
      "\n",
      "Veredict:\n",
      "Confidence: \n",
      "\n",
      "\n",
      "\n",
      "\n",
      "R_4_wednesday\n",
      "Sinto que grande parte do problema vem do abandono por parte dos professores e monitores na semana de escolha dos projetos. Muitos grupos propuseram projetos muito complexos e, ao invés de aconselhar a simplificar, os monitores simplesmente deixaram na mão de Deus (ou do capeta) então na hora da implementação o barco ja tinha afundado\n",
      "\n",
      "Veredict:\n",
      "Confidence: \n",
      "\n",
      "\n",
      "\n",
      "\n",
      "R_5_wednesday\n",
      "Gostei que quase todos os grupos de esforçaram pra fazer algo caprichado do início ao fim. No entanto, acho que a parte de controles físicos e de maquete exigiu mais da metade de tempo do projeto e foi a parte que não tinha a ver com o conteúdo da disciplina. Se o projeto fosse somente utilizando a fpga, teria demandado o tempo de aula e poucos openlabs, já que seria exatamente o que foi aprendido. A ajuda dos monitores e professores foi satisfatória e ajudou a concluir essa parte extra.\n",
      "\n",
      "Veredict:\n",
      "Confidence: \n",
      "\n",
      "\n",
      "\n",
      "\n",
      "R_6_wednesday\n",
      "Na primeira apresentação da disciplina nos foi informado que ela teria uma carga de trabalho fora do horário de aula. Nos foi passado que isso compreendia principalmente a preparação de um \"planejamento\" para que, no laboratório, apenas chegássemos e fizéssemos o que era necessário. A dimensão desse trabalho, porém, cresceu de forma descontrolada ao passo que houve planejamentos que precisaram de um dia inteiro para serem feitos, com mais de 60 páginas. O que deveria ser algo preparatório se tornou um trabalho por si só. A disciplina, na parte dos experimentos, resumiu-se à fazer um planejamento extenso, pois no laboratório por diversas vezes as atividades eram concluídas rapidamente. Vale ressaltar que, nesse quesito, havia sim cobrança dos professores para que os documentos feitos atingissem esse nível, o qual foge da proposta inicial e, na minha opinião, também foge do que é necessário. \n",
      "\n",
      "Após a P1, quando se iniciou a etapa do projeto, a disciplina virou de ponta cabeça. Nas semanas 0.1 e 0.2, de construção da proposta do projeto, fomos mal orientados e mal comunicados. De fato, deu-se a entender que os projetos, para atingirem o 10, necessitavam implementar muitas coisas que iam além do que tínhamos ou íamos aprender na disciplina. Soube de um grupo que propôs um projeto mais simples de início e que foi orientado a aumentar a complexidade. Os alunos, obviamente inexperientes, não sabiam que estavam propondo projetos complexos, porém acreditavam que seria possível e viável terminá-los.\n",
      "\n",
      "Durante as semanas, os professores chegaram a orientar sobre a complexidade e a aconselhar decisões de projetos que abandonavam certos requisitos. Na minha opinião, porém, a essa altura muitos grupos já estavam envolvidos em suas implementações e não jogariam fora 1 ou 2 semanas de trabalho, com a sensação de que perderiam nota por isso. Tentava-se fugir da frustação de dedicar muito tempo, desistir da ideia e, mesmo com algo mais simples funcionando, não receber uma nota que representasse o esforço. \n",
      "\n",
      "Além de tudo isso, ainda haviam ideias forçadas nos alunos. As apresentações dos pitch eram desnecessárias e tomavam tempo do laboratório. Considerando todo o cenário que envolvia o projeto, os pitches eram um incomodo que, embora sempre possa ser justificado, trouxe mais malefícios do que benefícios. A persistência das entregas de planejamentos e relatórios nas semanas de projeto também representaram isso. Por muitas vezes meu grupo simplesmente optou por ignorar essas entregas para poder focar no que realmente importava, já que elas contribuíam em nada no desenvolvimento geral do projeto.\n",
      "\n",
      "Os professores, apesar de tudo, realmente falaram e alertaram da complexidade do projeto, principalmente nas semanas 3 e 4. Nesse momento, porém, muitos grupos já estavam encaminhados nas suas ideias principais e não retornariam. O ponto que defendo sobre tudo isso é: o problema ocorreu nas semanas de especificação. Os grupos deveriam ser orientados pelos professores na confecção da proposta. Devia-se ter deixado claro que a ideia original era implementar \"features\" a mais no circuito base do Genius. Devia-se ter deixado claro qual era o mínimo para o 10, sendo o resto considerando um \"bônus muito bem vindo\". \n",
      "\n",
      "Para o laboratório digital 2, espero que isso seja feito com clareza e responsabilidade. Além disso, espero que os planejamentos e relatórios sejam exatamente o que eles se propõem a ser, sem extensões desnecessárias. Sinceramente, está fora de questões voltar a gastar de 6 a 8 horas por semana fazendo um planejamento. Os docentes precisam ter noção de contexto e entenderem que labdigi não é a única disciplina de um quadrimestre, que temos uma grade horária apertada, que as outras disciplinas exigem cargas de trabalho e estudo altas e que, principalmente, os alunos são pessoas que não podem abrir mão de suas vidas pessoais e de sua saúde. \n",
      "\n",
      "Veredict:\n",
      "Confidence: \n",
      "\n",
      "\n",
      "\n",
      "\n",
      "R_7_wednesday\n",
      "Acredito que o maior problema foi a maneira como foram colocados os bônus durante a apresentação do projeto. Posso estar enganado, mas sinto que os bônus foram apresentados como se fossem algo mais tranquilo do que de fato eram e também como algo essencial para que o projeto ficasse bom (não para nota, mas para um bom projeto), o que acabou levando muitos alunos a se dedicarem quase que exclusivamente a implementá-los.\n",
      "\n",
      "Veredict:\n",
      "Confidence: \n",
      "\n",
      "\n",
      "\n",
      "\n"
     ]
    }
   ],
   "source": [
    "for i, x in enumerate(PS_8_monday): print(f'R_{i+1}_monday\\n{x}\\n\\nVeredict:\\nConfidence: \\n\\n\\n\\n')\n",
    "for i, x in enumerate(PS_8_wednesday): print(f'R_{i+1}_wednesday\\n{x}\\n\\nVeredict:\\nConfidence: \\n\\n\\n\\n')"
   ]
  },
  {
   "cell_type": "markdown",
   "metadata": {},
   "source": [
    "R_1_monday\n",
    "Verdict: Negative\n",
    "Confidence: 75.8%\n",
    "\n",
    "R_2_monday\n",
    "Verdict: Negative\n",
    "Confidence: 94.3%\n",
    "\n",
    "R_3_monday\n",
    "Verdict: Negative\n",
    "Confidence: 75.3%\n",
    "\n",
    "R_4_monday\n",
    "Verdict: Positive\n",
    "Confidence: 46.5%\n",
    "\n",
    "R_1_wednesday\n",
    "Verdict: Neutral\n",
    "Confidence: 45.4%\n",
    "\n",
    "R_2_wednesday\n",
    "Verdict: Neutral\n",
    "Confidence: 46.9%\n",
    "\n",
    "R_3_wednesday\n",
    "Verdict: Negative\n",
    "Confidence: 56.1%\n",
    "\n",
    "R_4_wednesday\n",
    "Verdict: Negative\n",
    "Confidence: 80.3%\n",
    "\n",
    "R_5_wednesday\n",
    "Verdict: Neutral\n",
    "Confidence: 46.7%\n",
    "\n",
    "R_6_wednesday\n",
    "Verdict: Negative\n",
    "Confidence: 35.9%"
   ]
  },
  {
   "cell_type": "code",
   "execution_count": 239,
   "metadata": {},
   "outputs": [
    {
     "data": {
      "text/html": [
       "<div>\n",
       "<style scoped>\n",
       "    .dataframe tbody tr th:only-of-type {\n",
       "        vertical-align: middle;\n",
       "    }\n",
       "\n",
       "    .dataframe tbody tr th {\n",
       "        vertical-align: top;\n",
       "    }\n",
       "\n",
       "    .dataframe thead th {\n",
       "        text-align: right;\n",
       "    }\n",
       "</style>\n",
       "<table border=\"1\" class=\"dataframe\">\n",
       "  <thead>\n",
       "    <tr style=\"text-align: right;\">\n",
       "      <th></th>\n",
       "      <th>verdict</th>\n",
       "      <th>confidence</th>\n",
       "    </tr>\n",
       "  </thead>\n",
       "  <tbody>\n",
       "    <tr>\n",
       "      <th>0</th>\n",
       "      <td>negative</td>\n",
       "      <td>0.758</td>\n",
       "    </tr>\n",
       "    <tr>\n",
       "      <th>1</th>\n",
       "      <td>negative</td>\n",
       "      <td>0.943</td>\n",
       "    </tr>\n",
       "    <tr>\n",
       "      <th>2</th>\n",
       "      <td>negative</td>\n",
       "      <td>0.753</td>\n",
       "    </tr>\n",
       "    <tr>\n",
       "      <th>3</th>\n",
       "      <td>positive</td>\n",
       "      <td>0.465</td>\n",
       "    </tr>\n",
       "    <tr>\n",
       "      <th>4</th>\n",
       "      <td>neutral</td>\n",
       "      <td>0.454</td>\n",
       "    </tr>\n",
       "    <tr>\n",
       "      <th>5</th>\n",
       "      <td>neutral</td>\n",
       "      <td>0.469</td>\n",
       "    </tr>\n",
       "    <tr>\n",
       "      <th>6</th>\n",
       "      <td>negative</td>\n",
       "      <td>0.561</td>\n",
       "    </tr>\n",
       "    <tr>\n",
       "      <th>7</th>\n",
       "      <td>negative</td>\n",
       "      <td>0.803</td>\n",
       "    </tr>\n",
       "    <tr>\n",
       "      <th>8</th>\n",
       "      <td>neutral</td>\n",
       "      <td>0.467</td>\n",
       "    </tr>\n",
       "    <tr>\n",
       "      <th>9</th>\n",
       "      <td>negative</td>\n",
       "      <td>0.359</td>\n",
       "    </tr>\n",
       "  </tbody>\n",
       "</table>\n",
       "</div>"
      ],
      "text/plain": [
       "    verdict  confidence\n",
       "0  negative       0.758\n",
       "1  negative       0.943\n",
       "2  negative       0.753\n",
       "3  positive       0.465\n",
       "4   neutral       0.454\n",
       "5   neutral       0.469\n",
       "6  negative       0.561\n",
       "7  negative       0.803\n",
       "8   neutral       0.467\n",
       "9  negative       0.359"
      ]
     },
     "execution_count": 239,
     "metadata": {},
     "output_type": "execute_result"
    }
   ],
   "source": [
    "PS_8 = [    \n",
    "    {'verdict': 'negative', 'confidence': 0.758},\n",
    "    {'verdict': 'negative', 'confidence': 0.943},\n",
    "    {'verdict': 'negative', 'confidence': 0.753},\n",
    "    {'verdict': 'positive', 'confidence': 0.465},\n",
    "    {'verdict': 'neutral', 'confidence': 0.454},\n",
    "    {'verdict': 'neutral', 'confidence': 0.469},\n",
    "    {'verdict': 'negative', 'confidence': 0.561},\n",
    "    {'verdict': 'negative', 'confidence': 0.803},\n",
    "    {'verdict': 'neutral', 'confidence': 0.467},\n",
    "    {'verdict': 'negative', 'confidence': 0.359},\n",
    "]\n",
    "\n",
    "PS_8_df = pd.DataFrame(PS_8)\n",
    "PS_8_df"
   ]
  },
  {
   "cell_type": "code",
   "execution_count": 240,
   "metadata": {},
   "outputs": [
    {
     "data": {
      "text/html": [
       "<div>\n",
       "<style scoped>\n",
       "    .dataframe tbody tr th:only-of-type {\n",
       "        vertical-align: middle;\n",
       "    }\n",
       "\n",
       "    .dataframe tbody tr th {\n",
       "        vertical-align: top;\n",
       "    }\n",
       "\n",
       "    .dataframe thead th {\n",
       "        text-align: right;\n",
       "    }\n",
       "</style>\n",
       "<table border=\"1\" class=\"dataframe\">\n",
       "  <thead>\n",
       "    <tr style=\"text-align: right;\">\n",
       "      <th></th>\n",
       "      <th>verdict</th>\n",
       "      <th>confidence</th>\n",
       "      <th>score</th>\n",
       "    </tr>\n",
       "  </thead>\n",
       "  <tbody>\n",
       "    <tr>\n",
       "      <th>0</th>\n",
       "      <td>negative</td>\n",
       "      <td>0.758</td>\n",
       "      <td>-0.758</td>\n",
       "    </tr>\n",
       "    <tr>\n",
       "      <th>1</th>\n",
       "      <td>negative</td>\n",
       "      <td>0.943</td>\n",
       "      <td>-0.943</td>\n",
       "    </tr>\n",
       "    <tr>\n",
       "      <th>2</th>\n",
       "      <td>negative</td>\n",
       "      <td>0.753</td>\n",
       "      <td>-0.753</td>\n",
       "    </tr>\n",
       "    <tr>\n",
       "      <th>3</th>\n",
       "      <td>positive</td>\n",
       "      <td>0.465</td>\n",
       "      <td>0.465</td>\n",
       "    </tr>\n",
       "    <tr>\n",
       "      <th>4</th>\n",
       "      <td>neutral</td>\n",
       "      <td>0.454</td>\n",
       "      <td>0.000</td>\n",
       "    </tr>\n",
       "    <tr>\n",
       "      <th>5</th>\n",
       "      <td>neutral</td>\n",
       "      <td>0.469</td>\n",
       "      <td>0.000</td>\n",
       "    </tr>\n",
       "    <tr>\n",
       "      <th>6</th>\n",
       "      <td>negative</td>\n",
       "      <td>0.561</td>\n",
       "      <td>-0.561</td>\n",
       "    </tr>\n",
       "    <tr>\n",
       "      <th>7</th>\n",
       "      <td>negative</td>\n",
       "      <td>0.803</td>\n",
       "      <td>-0.803</td>\n",
       "    </tr>\n",
       "    <tr>\n",
       "      <th>8</th>\n",
       "      <td>neutral</td>\n",
       "      <td>0.467</td>\n",
       "      <td>0.000</td>\n",
       "    </tr>\n",
       "    <tr>\n",
       "      <th>9</th>\n",
       "      <td>negative</td>\n",
       "      <td>0.359</td>\n",
       "      <td>-0.359</td>\n",
       "    </tr>\n",
       "  </tbody>\n",
       "</table>\n",
       "</div>"
      ],
      "text/plain": [
       "    verdict  confidence  score\n",
       "0  negative       0.758 -0.758\n",
       "1  negative       0.943 -0.943\n",
       "2  negative       0.753 -0.753\n",
       "3  positive       0.465  0.465\n",
       "4   neutral       0.454  0.000\n",
       "5   neutral       0.469  0.000\n",
       "6  negative       0.561 -0.561\n",
       "7  negative       0.803 -0.803\n",
       "8   neutral       0.467  0.000\n",
       "9  negative       0.359 -0.359"
      ]
     },
     "execution_count": 240,
     "metadata": {},
     "output_type": "execute_result"
    }
   ],
   "source": [
    "PS_8_sentiment_scores = {\n",
    "    'negative': -1,\n",
    "    'neutral': 0,\n",
    "    'positive': 1\n",
    "}\n",
    "\n",
    "def sentiment_score(row: pd.Series) -> pd.Series:\n",
    "    verdict = row['verdict']\n",
    "    confidence = row['confidence']\n",
    "    score = PS_8_sentiment_scores[verdict] * confidence\n",
    "    \n",
    "    return score\n",
    "\n",
    "PS_8_df['score'] = PS_8_df.apply(sentiment_score, axis=1)\n",
    "PS_8_df"
   ]
  },
  {
   "cell_type": "code",
   "execution_count": 241,
   "metadata": {},
   "outputs": [
    {
     "data": {
      "text/plain": [
       "(-0.6153846153846154, 6.032, -3.712)"
      ]
     },
     "execution_count": 241,
     "metadata": {},
     "output_type": "execute_result"
    }
   ],
   "source": [
    "PS_8_confidence_sum = sum(PS_8_df['confidence'])\n",
    "PS_8_score_sum = sum(PS_8_df['score'])\n",
    "PS_8_average_feeling = PS_8_score_sum/PS_8_confidence_sum\n",
    "\n",
    "PS_8_average_feeling, PS_8_confidence_sum, PS_8_score_sum"
   ]
  },
  {
   "cell_type": "code",
   "execution_count": 242,
   "metadata": {},
   "outputs": [
    {
     "name": "stdout",
     "output_type": "stream",
     "text": [
      "average feeling: -0.6153846153846154 (-1 to 1 scale)\n"
     ]
    }
   ],
   "source": [
    "print(f'average feeling: {PS_8_average_feeling} (-1 to 1 scale)')"
   ]
  }
 ],
 "metadata": {
  "kernelspec": {
   "display_name": "Python 3",
   "language": "python",
   "name": "python3"
  },
  "language_info": {
   "codemirror_mode": {
    "name": "ipython",
    "version": 3
   },
   "file_extension": ".py",
   "mimetype": "text/x-python",
   "name": "python",
   "nbconvert_exporter": "python",
   "pygments_lexer": "ipython3",
   "version": "3.10.11"
  }
 },
 "nbformat": 4,
 "nbformat_minor": 2
}
