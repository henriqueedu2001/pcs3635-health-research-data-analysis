{
 "cells": [
  {
   "cell_type": "markdown",
   "metadata": {},
   "source": [
    "# [PCS3635] Análise de Dados"
   ]
  },
  {
   "cell_type": "code",
   "execution_count": 481,
   "metadata": {},
   "outputs": [],
   "source": [
    "import pandas as pd\n",
    "import numpy as np\n",
    "from matplotlib import pyplot as plt\n",
    "from matplotlib.ticker import MaxNLocator"
   ]
  },
  {
   "cell_type": "markdown",
   "metadata": {},
   "source": [
    "## Funções Estatísticas"
   ]
  },
  {
   "cell_type": "code",
   "execution_count": 482,
   "metadata": {},
   "outputs": [],
   "source": [
    "def get_percentage_str(fraction: float) -> str:\n",
    "    \"\"\"Converts an fraction in to a percentage\n",
    "\n",
    "    Args:\n",
    "        fraction (float): _description_\n",
    "\n",
    "    Returns:\n",
    "        str: _description_\n",
    "    \n",
    "    Examples:\n",
    "        >>> get_percentage_str(0.01537)\n",
    "        54.23 %\n",
    "        \n",
    "        >>> get_percentage_str(0.5672434)\n",
    "        56.72 %\n",
    "    \"\"\"\n",
    "    percentage_str = 100*fraction\n",
    "    percentage_str = f'{percentage_str:.2f}%'\n",
    "    \n",
    "    return percentage_str"
   ]
  },
  {
   "cell_type": "code",
   "execution_count": 483,
   "metadata": {},
   "outputs": [],
   "source": [
    "df = pd.read_csv('encoded_data.csv')"
   ]
  },
  {
   "cell_type": "markdown",
   "metadata": {},
   "source": [
    "## Descrição Básica do Dataframe "
   ]
  },
  {
   "cell_type": "code",
   "execution_count": 484,
   "metadata": {},
   "outputs": [
    {
     "data": {
      "text/html": [
       "<div>\n",
       "<style scoped>\n",
       "    .dataframe tbody tr th:only-of-type {\n",
       "        vertical-align: middle;\n",
       "    }\n",
       "\n",
       "    .dataframe tbody tr th {\n",
       "        vertical-align: top;\n",
       "    }\n",
       "\n",
       "    .dataframe thead th {\n",
       "        text-align: right;\n",
       "    }\n",
       "</style>\n",
       "<table border=\"1\" class=\"dataframe\">\n",
       "  <thead>\n",
       "    <tr style=\"text-align: right;\">\n",
       "      <th></th>\n",
       "      <th>date</th>\n",
       "      <th>PA_1</th>\n",
       "      <th>PA_2</th>\n",
       "      <th>PA_3</th>\n",
       "      <th>PA_4</th>\n",
       "      <th>PA_5</th>\n",
       "      <th>PA_6</th>\n",
       "      <th>PA_7</th>\n",
       "      <th>PA_8</th>\n",
       "      <th>PA_8_1</th>\n",
       "      <th>...</th>\n",
       "      <th>PS_4_2</th>\n",
       "      <th>PS_4_3</th>\n",
       "      <th>PS_4_4</th>\n",
       "      <th>PS_4_5</th>\n",
       "      <th>PS_5</th>\n",
       "      <th>PS_6</th>\n",
       "      <th>PS_7_1</th>\n",
       "      <th>PS_7_2</th>\n",
       "      <th>PS_7_3</th>\n",
       "      <th>PS_8</th>\n",
       "    </tr>\n",
       "  </thead>\n",
       "  <tbody>\n",
       "    <tr>\n",
       "      <th>0</th>\n",
       "      <td>22/04/2024 15:22:50</td>\n",
       "      <td>1</td>\n",
       "      <td>4</td>\n",
       "      <td>8.0</td>\n",
       "      <td>12.0</td>\n",
       "      <td>4</td>\n",
       "      <td>3</td>\n",
       "      <td>5</td>\n",
       "      <td>Se atrasar com o conteúdo outras disciplinas, ...</td>\n",
       "      <td>1.0</td>\n",
       "      <td>...</td>\n",
       "      <td>2.0</td>\n",
       "      <td>2.0</td>\n",
       "      <td>1.0</td>\n",
       "      <td>1.0</td>\n",
       "      <td>-5.0</td>\n",
       "      <td>1.0</td>\n",
       "      <td>2.0</td>\n",
       "      <td>1.0</td>\n",
       "      <td>0.0</td>\n",
       "      <td>NaN</td>\n",
       "    </tr>\n",
       "    <tr>\n",
       "      <th>1</th>\n",
       "      <td>22/04/2024 15:23:42</td>\n",
       "      <td>1</td>\n",
       "      <td>1</td>\n",
       "      <td>12.0</td>\n",
       "      <td>40.0</td>\n",
       "      <td>4</td>\n",
       "      <td>1</td>\n",
       "      <td>5</td>\n",
       "      <td>Se atrasar com o conteúdo outras disciplinas, ...</td>\n",
       "      <td>1.0</td>\n",
       "      <td>...</td>\n",
       "      <td>3.0</td>\n",
       "      <td>2.0</td>\n",
       "      <td>2.0</td>\n",
       "      <td>2.0</td>\n",
       "      <td>5.0</td>\n",
       "      <td>1.0</td>\n",
       "      <td>0.0</td>\n",
       "      <td>2.0</td>\n",
       "      <td>1.0</td>\n",
       "      <td>O fato de LabDig exigir mais tempo que o norma...</td>\n",
       "    </tr>\n",
       "    <tr>\n",
       "      <th>2</th>\n",
       "      <td>22/04/2024 15:24:48</td>\n",
       "      <td>2</td>\n",
       "      <td>4</td>\n",
       "      <td>8.0</td>\n",
       "      <td>9.0</td>\n",
       "      <td>2</td>\n",
       "      <td>1</td>\n",
       "      <td>2</td>\n",
       "      <td>Falta de tempo para o EP de [PCS3616] Sistemas...</td>\n",
       "      <td>0.0</td>\n",
       "      <td>...</td>\n",
       "      <td>3.0</td>\n",
       "      <td>3.0</td>\n",
       "      <td>4.0</td>\n",
       "      <td>3.0</td>\n",
       "      <td>5.0</td>\n",
       "      <td>0.0</td>\n",
       "      <td>0.0</td>\n",
       "      <td>0.0</td>\n",
       "      <td>0.0</td>\n",
       "      <td>NaN</td>\n",
       "    </tr>\n",
       "    <tr>\n",
       "      <th>3</th>\n",
       "      <td>22/04/2024 15:29:14</td>\n",
       "      <td>2</td>\n",
       "      <td>4</td>\n",
       "      <td>6.0</td>\n",
       "      <td>30.0</td>\n",
       "      <td>4</td>\n",
       "      <td>3</td>\n",
       "      <td>4</td>\n",
       "      <td>Se atrasar com o conteúdo outras disciplinas, ...</td>\n",
       "      <td>1.0</td>\n",
       "      <td>...</td>\n",
       "      <td>4.0</td>\n",
       "      <td>4.0</td>\n",
       "      <td>4.0</td>\n",
       "      <td>4.0</td>\n",
       "      <td>5.0</td>\n",
       "      <td>1.0</td>\n",
       "      <td>0.0</td>\n",
       "      <td>0.0</td>\n",
       "      <td>0.0</td>\n",
       "      <td>A matéria em si foi exigente, foi puxada, p...</td>\n",
       "    </tr>\n",
       "    <tr>\n",
       "      <th>4</th>\n",
       "      <td>22/04/2024 15:43:26</td>\n",
       "      <td>1</td>\n",
       "      <td>5</td>\n",
       "      <td>1.0</td>\n",
       "      <td>10.0</td>\n",
       "      <td>1</td>\n",
       "      <td>1</td>\n",
       "      <td>1</td>\n",
       "      <td>NaN</td>\n",
       "      <td>0.0</td>\n",
       "      <td>...</td>\n",
       "      <td>5.0</td>\n",
       "      <td>5.0</td>\n",
       "      <td>5.0</td>\n",
       "      <td>5.0</td>\n",
       "      <td>15.0</td>\n",
       "      <td>0.0</td>\n",
       "      <td>0.0</td>\n",
       "      <td>0.0</td>\n",
       "      <td>0.0</td>\n",
       "      <td>NaN</td>\n",
       "    </tr>\n",
       "  </tbody>\n",
       "</table>\n",
       "<p>5 rows × 53 columns</p>\n",
       "</div>"
      ],
      "text/plain": [
       "                  date  PA_1  PA_2  PA_3  PA_4  PA_5  PA_6  PA_7  \\\n",
       "0  22/04/2024 15:22:50     1     4   8.0  12.0     4     3     5   \n",
       "1  22/04/2024 15:23:42     1     1  12.0  40.0     4     1     5   \n",
       "2  22/04/2024 15:24:48     2     4   8.0   9.0     2     1     2   \n",
       "3  22/04/2024 15:29:14     2     4   6.0  30.0     4     3     4   \n",
       "4  22/04/2024 15:43:26     1     5   1.0  10.0     1     1     1   \n",
       "\n",
       "                                                PA_8  PA_8_1  ...  PS_4_2  \\\n",
       "0  Se atrasar com o conteúdo outras disciplinas, ...     1.0  ...     2.0   \n",
       "1  Se atrasar com o conteúdo outras disciplinas, ...     1.0  ...     3.0   \n",
       "2  Falta de tempo para o EP de [PCS3616] Sistemas...     0.0  ...     3.0   \n",
       "3  Se atrasar com o conteúdo outras disciplinas, ...     1.0  ...     4.0   \n",
       "4                                                NaN     0.0  ...     5.0   \n",
       "\n",
       "   PS_4_3  PS_4_4  PS_4_5  PS_5  PS_6  PS_7_1  PS_7_2  PS_7_3  \\\n",
       "0     2.0     1.0     1.0  -5.0   1.0     2.0     1.0     0.0   \n",
       "1     2.0     2.0     2.0   5.0   1.0     0.0     2.0     1.0   \n",
       "2     3.0     4.0     3.0   5.0   0.0     0.0     0.0     0.0   \n",
       "3     4.0     4.0     4.0   5.0   1.0     0.0     0.0     0.0   \n",
       "4     5.0     5.0     5.0  15.0   0.0     0.0     0.0     0.0   \n",
       "\n",
       "                                                PS_8  \n",
       "0                                                NaN  \n",
       "1  O fato de LabDig exigir mais tempo que o norma...  \n",
       "2                                                NaN  \n",
       "3     A matéria em si foi exigente, foi puxada, p...  \n",
       "4                                                NaN  \n",
       "\n",
       "[5 rows x 53 columns]"
      ]
     },
     "execution_count": 484,
     "metadata": {},
     "output_type": "execute_result"
    }
   ],
   "source": [
    "df.head()"
   ]
  },
  {
   "cell_type": "code",
   "execution_count": 485,
   "metadata": {},
   "outputs": [
    {
     "name": "stdout",
     "output_type": "stream",
     "text": [
      "<class 'pandas.core.frame.DataFrame'>\n",
      "RangeIndex: 31 entries, 0 to 30\n",
      "Data columns (total 53 columns):\n",
      " #   Column   Non-Null Count  Dtype  \n",
      "---  ------   --------------  -----  \n",
      " 0   date     31 non-null     object \n",
      " 1   PA_1     31 non-null     int64  \n",
      " 2   PA_2     31 non-null     int64  \n",
      " 3   PA_3     29 non-null     float64\n",
      " 4   PA_4     28 non-null     float64\n",
      " 5   PA_5     31 non-null     int64  \n",
      " 6   PA_6     31 non-null     int64  \n",
      " 7   PA_7     31 non-null     int64  \n",
      " 8   PA_8     29 non-null     object \n",
      " 9   PA_8_1   27 non-null     float64\n",
      " 10  PA_8_2   31 non-null     int64  \n",
      " 11  PA_8_3   31 non-null     int64  \n",
      " 12  PA_8_4   31 non-null     int64  \n",
      " 13  PA_8_5   30 non-null     float64\n",
      " 14  PA_8_6   31 non-null     int64  \n",
      " 15  PA_8_7   31 non-null     int64  \n",
      " 16  PA_8_8   31 non-null     int64  \n",
      " 17  PA_8_9   31 non-null     int64  \n",
      " 18  PA_9     28 non-null     float64\n",
      " 19  PA_10    31 non-null     int64  \n",
      " 20  PA_11_1  29 non-null     float64\n",
      " 21  PA_11_2  29 non-null     float64\n",
      " 22  PA_11_3  29 non-null     float64\n",
      " 23  PA_11_4  29 non-null     float64\n",
      " 24  PA_11_5  29 non-null     float64\n",
      " 25  PA_11_6  29 non-null     float64\n",
      " 26  PA_12_1  31 non-null     int64  \n",
      " 27  PA_12_2  31 non-null     int64  \n",
      " 28  PA_12_3  31 non-null     int64  \n",
      " 29  PA_12_4  31 non-null     int64  \n",
      " 30  PA_12_5  31 non-null     int64  \n",
      " 31  PA_12_6  31 non-null     int64  \n",
      " 32  PA_12_7  31 non-null     int64  \n",
      " 33  PA_12_8  31 non-null     int64  \n",
      " 34  PA_12_9  31 non-null     int64  \n",
      " 35  PS_1     31 non-null     int64  \n",
      " 36  PS_2     31 non-null     int64  \n",
      " 37  PS_3_1   30 non-null     float64\n",
      " 38  PS_3_2   29 non-null     float64\n",
      " 39  PS_3_3   30 non-null     float64\n",
      " 40  PS_3_4   30 non-null     float64\n",
      " 41  PS_3_5   30 non-null     float64\n",
      " 42  PS_4_1   30 non-null     float64\n",
      " 43  PS_4_2   30 non-null     float64\n",
      " 44  PS_4_3   30 non-null     float64\n",
      " 45  PS_4_4   30 non-null     float64\n",
      " 46  PS_4_5   30 non-null     float64\n",
      " 47  PS_5     29 non-null     float64\n",
      " 48  PS_6     27 non-null     float64\n",
      " 49  PS_7_1   29 non-null     float64\n",
      " 50  PS_7_2   29 non-null     float64\n",
      " 51  PS_7_3   29 non-null     float64\n",
      " 52  PS_8     11 non-null     object \n",
      "dtypes: float64(26), int64(24), object(3)\n",
      "memory usage: 13.0+ KB\n"
     ]
    }
   ],
   "source": [
    "df.info()"
   ]
  },
  {
   "cell_type": "code",
   "execution_count": 486,
   "metadata": {},
   "outputs": [
    {
     "data": {
      "text/plain": [
       "(31, 53)"
      ]
     },
     "execution_count": 486,
     "metadata": {},
     "output_type": "execute_result"
    }
   ],
   "source": [
    "df.shape"
   ]
  },
  {
   "cell_type": "markdown",
   "metadata": {},
   "source": [
    "## Configuração das Figuras"
   ]
  },
  {
   "cell_type": "code",
   "execution_count": 487,
   "metadata": {},
   "outputs": [],
   "source": [
    "# if this variable is True, when the notebook is fully executed, all the figures will be replaced\n",
    "# by the new figures of this notebook\n",
    "save_all_figures = True"
   ]
  },
  {
   "cell_type": "code",
   "execution_count": 488,
   "metadata": {},
   "outputs": [],
   "source": [
    "fig_default_size = (8, 6)\n",
    "fig_default_color = 'darkblue'\n",
    "top_bar_text_offset = 0.5\n",
    "\n",
    "fig_2_subplots_default_size = (12, 8)"
   ]
  },
  {
   "cell_type": "markdown",
   "metadata": {},
   "source": [
    "## Pesquisa Acadêmica"
   ]
  },
  {
   "cell_type": "markdown",
   "metadata": {},
   "source": [
    "### PA_1\n",
    "De qual turma você faz parte?<br>\n",
    "- (a) Segunda-Feira<br>\n",
    "- (b) Quarta-Feira"
   ]
  },
  {
   "cell_type": "code",
   "execution_count": 489,
   "metadata": {},
   "outputs": [
    {
     "data": {
      "text/plain": [
       "((31,), (11, 53), (20, 53))"
      ]
     },
     "execution_count": 489,
     "metadata": {},
     "output_type": "execute_result"
    }
   ],
   "source": [
    "PA_1 = df['PA_1']\n",
    "\n",
    "# separation by groups\n",
    "monday_df = df[df['PA_1'] == 1]\n",
    "wednesday_df = df[df['PA_1'] == 2]\n",
    "\n",
    "PA_1.shape, monday_df.shape, wednesday_df.shape"
   ]
  },
  {
   "cell_type": "code",
   "execution_count": 490,
   "metadata": {},
   "outputs": [
    {
     "data": {
      "text/plain": [
       "{'monday_total_n': 38,\n",
       " 'wednesday_total_n': 27,\n",
       " 'monday_total_n_answered': 11,\n",
       " 'wednesday_total_n_answered': 20,\n",
       " 'monday_fraction_answered': 0.2894736842105263,\n",
       " 'wednesday_fraction_answered': 0.7407407407407407,\n",
       " 'monday_fraction_answered_percentage': 28.947368421052634,\n",
       " 'wednesday_fraction_answered_percentage': 74.07407407407408}"
      ]
     },
     "execution_count": 490,
     "metadata": {},
     "output_type": "execute_result"
    }
   ],
   "source": [
    "# total number of students per group\n",
    "monday_total_n = 38\n",
    "wednesday_total_n = 27\n",
    "\n",
    "# total number of students that answered the research per group\n",
    "monday_total_n_answered = monday_df.shape[0]\n",
    "wednesday_total_n_answered = wednesday_df.shape[0]\n",
    "\n",
    "# n answers / n students per group\n",
    "monday_fraction_answered = monday_total_n_answered/monday_total_n\n",
    "wednesday_fraction_answered = wednesday_total_n_answered/wednesday_total_n\n",
    "\n",
    "# n answers / n students per group in percentage\n",
    "monday_fraction_answered_percentage = 100*monday_fraction_answered\n",
    "wednesday_fraction_answered_percentage = 100*wednesday_fraction_answered\n",
    "\n",
    "groups = {\n",
    "    'monday_total_n': monday_total_n,\n",
    "    'wednesday_total_n': wednesday_total_n,\n",
    "    'monday_total_n_answered': monday_total_n_answered,\n",
    "    'wednesday_total_n_answered': wednesday_total_n_answered,\n",
    "    'monday_fraction_answered': monday_fraction_answered,\n",
    "    'wednesday_fraction_answered': wednesday_fraction_answered,\n",
    "    'monday_fraction_answered_percentage': monday_fraction_answered_percentage,\n",
    "    'wednesday_fraction_answered_percentage': wednesday_fraction_answered_percentage\n",
    "}\n",
    "\n",
    "groups"
   ]
  },
  {
   "cell_type": "code",
   "execution_count": 491,
   "metadata": {},
   "outputs": [
    {
     "data": {
      "text/html": [
       "<div>\n",
       "<style scoped>\n",
       "    .dataframe tbody tr th:only-of-type {\n",
       "        vertical-align: middle;\n",
       "    }\n",
       "\n",
       "    .dataframe tbody tr th {\n",
       "        vertical-align: top;\n",
       "    }\n",
       "\n",
       "    .dataframe thead th {\n",
       "        text-align: right;\n",
       "    }\n",
       "</style>\n",
       "<table border=\"1\" class=\"dataframe\">\n",
       "  <thead>\n",
       "    <tr style=\"text-align: right;\">\n",
       "      <th></th>\n",
       "      <th>turma</th>\n",
       "      <th>total de alunos</th>\n",
       "      <th>quantidade de respostas</th>\n",
       "      <th>quantidade de respostas (%)</th>\n",
       "    </tr>\n",
       "  </thead>\n",
       "  <tbody>\n",
       "    <tr>\n",
       "      <th>0</th>\n",
       "      <td>segunda</td>\n",
       "      <td>38</td>\n",
       "      <td>11</td>\n",
       "      <td>28.947368</td>\n",
       "    </tr>\n",
       "    <tr>\n",
       "      <th>1</th>\n",
       "      <td>quarta</td>\n",
       "      <td>27</td>\n",
       "      <td>20</td>\n",
       "      <td>74.074074</td>\n",
       "    </tr>\n",
       "  </tbody>\n",
       "</table>\n",
       "</div>"
      ],
      "text/plain": [
       "     turma  total de alunos  quantidade de respostas  \\\n",
       "0  segunda               38                       11   \n",
       "1   quarta               27                       20   \n",
       "\n",
       "   quantidade de respostas (%)  \n",
       "0                    28.947368  \n",
       "1                    74.074074  "
      ]
     },
     "execution_count": 491,
     "metadata": {},
     "output_type": "execute_result"
    }
   ],
   "source": [
    "# resume\n",
    "PA_1_resume = {\n",
    "    'turma': ['segunda', 'quarta'],\n",
    "    'total de alunos': [groups['monday_total_n'], groups['wednesday_total_n']],\n",
    "    'quantidade de respostas': [groups['monday_total_n_answered'], groups['wednesday_total_n_answered']],\n",
    "    'quantidade de respostas (%)': [groups['monday_fraction_answered_percentage'], groups['wednesday_fraction_answered_percentage']]\n",
    "}\n",
    "\n",
    "PA_1_resume_table = pd.DataFrame(PA_1_resume)\n",
    "\n",
    "PA_1_resume_table"
   ]
  },
  {
   "cell_type": "markdown",
   "metadata": {},
   "source": [
    "### PA_2\n",
    "A disciplina possuiu dois créditos de trabalho (3h20/semana). O tempo gasto por você com a disciplina, em período fora de sala de aula, ficou dentro desse limite?\n",
    "- (a) Foi muito abaixo desse limite\n",
    "- (b) Foi abaixo do limite\n",
    "- (c) Foi adequado\n",
    "- (d) Foi acima desse limite\n",
    "- (e) Foi muito acima do limite"
   ]
  },
  {
   "cell_type": "code",
   "execution_count": 492,
   "metadata": {},
   "outputs": [
    {
     "data": {
      "text/plain": [
       "((31,), (11,), (20,))"
      ]
     },
     "execution_count": 492,
     "metadata": {},
     "output_type": "execute_result"
    }
   ],
   "source": [
    "PA_2 = df['PA_2']\n",
    "PA_2_monday = monday_df['PA_2']\n",
    "PA_2_wednesday = wednesday_df['PA_2']\n",
    "\n",
    "PA_2.shape, PA_2_monday.shape, PA_2_wednesday.shape"
   ]
  },
  {
   "cell_type": "code",
   "execution_count": 493,
   "metadata": {},
   "outputs": [
    {
     "name": "stdout",
     "output_type": "stream",
     "text": [
      "PA_2_counting\n",
      "n_answers: 31\n",
      "array: [ 1  0  0 13 17]\n",
      "\n",
      "PA_2_monday_counting\n",
      "n_answers: 11\n",
      "array: [1 0 0 5 5]\n",
      "\n",
      "PA_2_wednesday_counting\n",
      "n_answers: 20\n",
      "array: [ 0  0  0  8 12]\n",
      "\n"
     ]
    }
   ],
   "source": [
    "PA_2_classes = [1, 2, 3, 4, 5]\n",
    "\n",
    "# index mapping\n",
    "PA_2_categories_mapping = {\n",
    "    1: 'muito abaixo',\n",
    "    2: 'abaixo',\n",
    "    3: 'adequado', \n",
    "    4: 'acima',\n",
    "    5: 'muito acima'\n",
    "}\n",
    "\n",
    "# categories\n",
    "PA_2_categories = [PA_2_categories_mapping[PA_2_class] for PA_2_class in PA_2_classes]\n",
    "\n",
    "# counting categories\n",
    "PA_2_counting = PA_2.value_counts()\n",
    "PA_2_monday_counting = PA_2_monday.value_counts()\n",
    "PA_2_wednesday_counting = PA_2_wednesday.value_counts()\n",
    "\n",
    "# n = quantity of answers per dataframe\n",
    "PA_2_n_answers = PA_2.shape[0]\n",
    "PA_2_monday_n_answers = PA_2_monday.shape[0]\n",
    "PA_2_wednesday_n_answers = PA_2_wednesday.shape[0]\n",
    "\n",
    "# filling with 0 non observed categories\n",
    "PA_2_counting = PA_2_counting.reindex(PA_2_classes, fill_value=0)\n",
    "PA_2_monday_counting = PA_2_monday_counting.reindex(PA_2_classes, fill_value=0)\n",
    "PA_2_wednesday_counting = PA_2_wednesday_counting.reindex(PA_2_classes, fill_value=0)\n",
    "\n",
    "# casting in numpy arrays\n",
    "PA_2_counting = np.array(PA_2_counting)\n",
    "PA_2_monday_counting = np.array(PA_2_monday_counting)\n",
    "PA_2_wednesday_counting = np.array(PA_2_wednesday_counting)\n",
    "\n",
    "# resume\n",
    "print(f'PA_2_counting\\nn_answers: {PA_2_n_answers}\\narray: {PA_2_counting}\\n')\n",
    "print(f'PA_2_monday_counting\\nn_answers: {PA_2_monday_n_answers}\\narray: {PA_2_monday_counting}\\n')\n",
    "print(f'PA_2_wednesday_counting\\nn_answers: {PA_2_wednesday_n_answers}\\narray: {PA_2_wednesday_counting}\\n')"
   ]
  },
  {
   "cell_type": "code",
   "execution_count": 494,
   "metadata": {},
   "outputs": [
    {
     "name": "stdout",
     "output_type": "stream",
     "text": [
      "general: [0.03225806 0.         0.         0.41935484 0.5483871 ]\n",
      "monday: [0.09090909 0.         0.         0.45454545 0.45454545]\n",
      "wednesday: [0.  0.  0.  0.4 0.6]\n"
     ]
    }
   ],
   "source": [
    "# frequencies calculation\n",
    "PA_2_frequency = PA_2_counting/sum(PA_2_counting)\n",
    "PA_2_monday_frequency = PA_2_monday_counting/sum(PA_2_monday_counting)\n",
    "PA_2_wednesday_frequency = PA_2_wednesday_counting/sum(PA_2_wednesday_counting)\n",
    "\n",
    "print(f'general: {PA_2_frequency}\\nmonday: {PA_2_monday_frequency}\\nwednesday: {PA_2_wednesday_frequency}')"
   ]
  },
  {
   "cell_type": "code",
   "execution_count": 495,
   "metadata": {},
   "outputs": [
    {
     "data": {
      "image/png": "[encoded data removed]",
      "text/plain": [
       "<Figure size 800x600 with 1 Axes>"
      ]
     },
     "metadata": {},
     "output_type": "display_data"
    }
   ],
   "source": [
    "# plotting PA_2 for general counting (monday + wednesday)\n",
    "fig, axs = plt.subplots(figsize=fig_default_size)\n",
    "\n",
    "axs.bar(PA_2_categories, PA_2_counting, color=fig_default_color)\n",
    "\n",
    "# axs setting\n",
    "axs.yaxis.set_major_locator(MaxNLocator(integer=True)) # restricts the y axis in to integer values\n",
    "axs.set_ylim(0, 20)\n",
    "axs.set_xlabel('Avaliações')\n",
    "axs.set_ylabel('Contagem')\n",
    "\n",
    "# text in the top of the bars\n",
    "for i in range(5):\n",
    "    x = i\n",
    "    y = PA_2_counting[i] + top_bar_text_offset\n",
    "    percentage_str = get_percentage_str(fraction=PA_2_frequency[i])\n",
    "    \n",
    "    fig.text(x, y, percentage_str, ha='center', transform=plt.gca().transData)\n",
    "\n",
    "# save the figure in png format\n",
    "if save_all_figures:\n",
    "    plt.savefig('academic_imgs/PA_2_general_classes')\n",
    "    \n",
    "# showing the figure\n",
    "plt.show()"
   ]
  },
  {
   "cell_type": "code",
   "execution_count": 496,
   "metadata": {},
   "outputs": [
    {
     "data": {
      "image/png": "[encoded data removed]",
      "text/plain": [
       "<Figure size 800x600 with 1 Axes>"
      ]
     },
     "metadata": {},
     "output_type": "display_data"
    }
   ],
   "source": [
    "# plotting PA_2 for general counting in monday\n",
    "fig, axs = plt.subplots(figsize=fig_default_size)\n",
    "\n",
    "axs.bar(PA_2_categories, PA_2_monday_counting, color=fig_default_color)\n",
    "\n",
    "# axs setting\n",
    "axs.yaxis.set_major_locator(MaxNLocator(integer=True)) # restricts the y axis in to integer values\n",
    "axs.set_ylim(0, 6)\n",
    "axs.set_xlabel('Avaliações')\n",
    "axs.set_ylabel('Contagem')\n",
    "\n",
    "# text in the top of the bars\n",
    "for i in range(5):\n",
    "    x = i\n",
    "    y = PA_2_monday_counting[i] + 0.3*top_bar_text_offset\n",
    "    percentage_str = get_percentage_str(fraction=PA_2_monday_frequency[i])\n",
    "    \n",
    "    fig.text(x, y, percentage_str, ha='center', transform=plt.gca().transData)\n",
    "\n",
    "# save the figure in png format\n",
    "if save_all_figures:\n",
    "    plt.savefig('academic_imgs/PA_2_monday_classes')\n",
    "    \n",
    "# showing the figure\n",
    "plt.show()"
   ]
  },
  {
   "cell_type": "code",
   "execution_count": 497,
   "metadata": {},
   "outputs": [
    {
     "data": {
      "image/png": "[encoded data removed]",
      "text/plain": [
       "<Figure size 800x600 with 1 Axes>"
      ]
     },
     "metadata": {},
     "output_type": "display_data"
    }
   ],
   "source": [
    "# plotting PA_2 for general counting in wednesday\n",
    "fig, axs = plt.subplots(figsize=fig_default_size)\n",
    "\n",
    "axs.bar(PA_2_categories, PA_2_wednesday_counting, color=fig_default_color)\n",
    "\n",
    "# axs setting\n",
    "axs.yaxis.set_major_locator(MaxNLocator(integer=True)) # restricts the y axis in to integer values\n",
    "axs.set_ylim(0, 14)\n",
    "axs.set_xlabel('Avaliações')\n",
    "axs.set_ylabel('Contagem')\n",
    "\n",
    "# text in the top of the bars\n",
    "for i in range(5):\n",
    "    x = i\n",
    "    y = PA_2_wednesday_counting[i] + 0.3*top_bar_text_offset\n",
    "    percentage_str = get_percentage_str(fraction=PA_2_wednesday_frequency[i])\n",
    "    \n",
    "    fig.text(x, y, percentage_str, ha='center', transform=plt.gca().transData)\n",
    "\n",
    "# save the figure in png format\n",
    "if save_all_figures:\n",
    "    plt.savefig('academic_imgs/PA_2_wednesday_classes')\n",
    "    \n",
    "# showing the figure\n",
    "plt.show()"
   ]
  },
  {
   "cell_type": "markdown",
   "metadata": {},
   "source": [
    "Binarização dos dados"
   ]
  },
  {
   "cell_type": "code",
   "execution_count": 498,
   "metadata": {},
   "outputs": [
    {
     "data": {
      "text/plain": [
       "(array([ 1, 30]), array([ 1, 10]), array([ 0, 20]))"
      ]
     },
     "execution_count": 498,
     "metadata": {},
     "output_type": "execute_result"
    }
   ],
   "source": [
    "# binarization of the data\n",
    "\n",
    "# general\n",
    "PA_2_bin_counting_under = sum(PA_2_counting[0:2])\n",
    "PA_2_bin_counting_over = sum(PA_2_counting[3:5])\n",
    "PA_2_bin_counting = np.array([PA_2_bin_counting_under, PA_2_bin_counting_over])\n",
    "\n",
    "# monday\n",
    "PA_2_monday_bin_counting_under = sum(PA_2_monday_counting[0:2])\n",
    "PA_2_monday_bin_counting_over = sum(PA_2_monday_counting[3:5])\n",
    "PA_2_monday_bin_counting = np.array([PA_2_monday_bin_counting_under, PA_2_monday_bin_counting_over])\n",
    "\n",
    "# wednesday\n",
    "PA_2_wednesday_bin_counting_under = sum(PA_2_wednesday_counting[0:2])\n",
    "PA_2_wednesday_bin_counting_over = sum(PA_2_wednesday_counting[3:5])\n",
    "PA_2_wednesday_bin_counting = np.array([PA_2_wednesday_bin_counting_under, PA_2_wednesday_bin_counting_over])\n",
    "\n",
    "PA_2_bin_counting, PA_2_monday_bin_counting, PA_2_wednesday_bin_counting"
   ]
  },
  {
   "cell_type": "code",
   "execution_count": 499,
   "metadata": {},
   "outputs": [
    {
     "data": {
      "text/plain": [
       "(array([0.03225806, 0.96774194]),\n",
       " array([0.09090909, 0.90909091]),\n",
       " array([0., 1.]))"
      ]
     },
     "execution_count": 499,
     "metadata": {},
     "output_type": "execute_result"
    }
   ],
   "source": [
    "# frequency couting for the binary data\n",
    "PA_2_bin_frequency = PA_2_bin_counting/sum(PA_2_bin_counting)\n",
    "PA_2_monday_bin_frequency = PA_2_monday_bin_counting/sum(PA_2_monday_bin_counting)\n",
    "PA_2_wednesday_bin_frequency = PA_2_wednesday_bin_counting/sum(PA_2_wednesday_bin_counting)\n",
    "\n",
    "PA_2_bin_frequency, PA_2_monday_bin_frequency, PA_2_wednesday_bin_frequency"
   ]
  },
  {
   "cell_type": "code",
   "execution_count": 500,
   "metadata": {},
   "outputs": [
    {
     "data": {
      "text/html": [
       "<div>\n",
       "<style scoped>\n",
       "    .dataframe tbody tr th:only-of-type {\n",
       "        vertical-align: middle;\n",
       "    }\n",
       "\n",
       "    .dataframe tbody tr th {\n",
       "        vertical-align: top;\n",
       "    }\n",
       "\n",
       "    .dataframe thead th {\n",
       "        text-align: right;\n",
       "    }\n",
       "</style>\n",
       "<table border=\"1\" class=\"dataframe\">\n",
       "  <thead>\n",
       "    <tr style=\"text-align: right;\">\n",
       "      <th></th>\n",
       "      <th>geral (contagem)</th>\n",
       "      <th>segunda (contagem)</th>\n",
       "      <th>quarta (contagem)</th>\n",
       "      <th>geral (frequência)</th>\n",
       "      <th>segunda (frequência)</th>\n",
       "      <th>quarta (frequência)</th>\n",
       "    </tr>\n",
       "  </thead>\n",
       "  <tbody>\n",
       "    <tr>\n",
       "      <th>0</th>\n",
       "      <td>1</td>\n",
       "      <td>1</td>\n",
       "      <td>0</td>\n",
       "      <td>0.032258</td>\n",
       "      <td>0.090909</td>\n",
       "      <td>0.0</td>\n",
       "    </tr>\n",
       "    <tr>\n",
       "      <th>1</th>\n",
       "      <td>30</td>\n",
       "      <td>10</td>\n",
       "      <td>20</td>\n",
       "      <td>0.967742</td>\n",
       "      <td>0.909091</td>\n",
       "      <td>1.0</td>\n",
       "    </tr>\n",
       "  </tbody>\n",
       "</table>\n",
       "</div>"
      ],
      "text/plain": [
       "   geral (contagem)  segunda (contagem)  quarta (contagem)  \\\n",
       "0                 1                   1                  0   \n",
       "1                30                  10                 20   \n",
       "\n",
       "   geral (frequência)  segunda (frequência)  quarta (frequência)  \n",
       "0            0.032258              0.090909                  0.0  \n",
       "1            0.967742              0.909091                  1.0  "
      ]
     },
     "execution_count": 500,
     "metadata": {},
     "output_type": "execute_result"
    }
   ],
   "source": [
    "# resume\n",
    "\n",
    "PA_2_resume = {\n",
    "    'geral (contagem)': PA_2_bin_counting,\n",
    "    'segunda (contagem)': PA_2_monday_bin_counting,\n",
    "    'quarta (contagem)': PA_2_wednesday_bin_counting,\n",
    "    'geral (frequência)': PA_2_bin_frequency, \n",
    "    'segunda (frequência)': PA_2_monday_bin_frequency, \n",
    "    'quarta (frequência)': PA_2_wednesday_bin_frequency\n",
    "}\n",
    "\n",
    "PA_2_resume_table = pd.DataFrame(PA_2_resume)\n",
    "\n",
    "PA_2_resume_table"
   ]
  },
  {
   "cell_type": "markdown",
   "metadata": {},
   "source": [
    "### PA_3\n",
    "Durante as semanas de projeto, você participou do openlab com que frequência? Favor, indicar quantas vezes você foi e por quanto tempo costumava ficar nele."
   ]
  },
  {
   "cell_type": "code",
   "execution_count": 501,
   "metadata": {},
   "outputs": [
    {
     "data": {
      "text/plain": [
       "((29,), (11,), (18,))"
      ]
     },
     "execution_count": 501,
     "metadata": {},
     "output_type": "execute_result"
    }
   ],
   "source": [
    "PA_3 = df['PA_3']\n",
    "PA_3_monday = monday_df['PA_3']\n",
    "PA_3_wednesday = wednesday_df['PA_3']\n",
    "\n",
    "PA_3 = PA_3.dropna()\n",
    "PA_3_monday = PA_3_monday.dropna()\n",
    "PA_3_wednesday = PA_3_wednesday.dropna()\n",
    "\n",
    "PA_3.shape, PA_3_monday.shape, PA_3_wednesday.shape"
   ]
  },
  {
   "cell_type": "code",
   "execution_count": 502,
   "metadata": {},
   "outputs": [
    {
     "data": {
      "image/png": "[encoded data removed]",
      "text/plain": [
       "<Figure size 800x600 with 1 Axes>"
      ]
     },
     "metadata": {},
     "output_type": "display_data"
    }
   ],
   "source": [
    "# plotting PA_3 histogram for general counting (monday + wednesday)\n",
    "fig, axs = plt.subplots(figsize=fig_default_size)\n",
    "\n",
    "# axs setting\n",
    "axs.hist(PA_3, bins=6, color=fig_default_color, align='left', edgecolor='black')\n",
    "axs.set_xlabel('Quantidade de visitas por aluno')\n",
    "axs.set_ylabel('Densidade de frequência')\n",
    "\n",
    "# save the figure in png format\n",
    "if save_all_figures:\n",
    "    plt.savefig('academic_imgs/PA_3_histogram')\n",
    "    \n",
    "# showing the figure\n",
    "plt.show()"
   ]
  },
  {
   "cell_type": "code",
   "execution_count": 503,
   "metadata": {},
   "outputs": [
    {
     "data": {
      "image/png": "[encoded data removed]",
      "text/plain": [
       "<Figure size 800x600 with 1 Axes>"
      ]
     },
     "metadata": {},
     "output_type": "display_data"
    }
   ],
   "source": [
    "# plotting PA_3 histogram for monday\n",
    "fig, axs = plt.subplots(figsize=fig_default_size)\n",
    "\n",
    "# axs setting\n",
    "axs.hist(PA_3_monday, bins=6, color=fig_default_color, align='left', edgecolor='black')\n",
    "axs.set_xlabel('Quantidade de visitas por aluno')\n",
    "axs.set_ylabel('Densidade de frequência')\n",
    "\n",
    "# save the figure in png format\n",
    "if save_all_figures:\n",
    "    plt.savefig('academic_imgs/PA_3_monday_histogram')\n",
    "    \n",
    "# showing the figure\n",
    "plt.show()"
   ]
  },
  {
   "cell_type": "code",
   "execution_count": 504,
   "metadata": {},
   "outputs": [
    {
     "data": {
      "image/png": "[encoded data removed]",
      "text/plain": [
       "<Figure size 800x600 with 1 Axes>"
      ]
     },
     "metadata": {},
     "output_type": "display_data"
    }
   ],
   "source": [
    "# plotting PA_3 histogram for wednesday\n",
    "fig, axs = plt.subplots(figsize=fig_default_size)\n",
    "\n",
    "# axs setting\n",
    "axs.hist(PA_3_wednesday, bins=6, color=fig_default_color, align='left', edgecolor='black')\n",
    "axs.set_xlabel('Quantidade de visitas por aluno')\n",
    "axs.set_ylabel('Densidade de frequência')\n",
    "\n",
    "# save the figure in png format\n",
    "if save_all_figures:\n",
    "    plt.savefig('academic_imgs/PA_3_wednesday_histogram')\n",
    "    \n",
    "# showing the figure\n",
    "plt.show()"
   ]
  },
  {
   "cell_type": "code",
   "execution_count": 505,
   "metadata": {},
   "outputs": [
    {
     "data": {
      "image/png": "[encoded data removed]",
      "text/plain": [
       "<Figure size 800x600 with 1 Axes>"
      ]
     },
     "metadata": {},
     "output_type": "display_data"
    }
   ],
   "source": [
    "# plotting PA_3 density frequency for general counting (monday + wednesday)\n",
    "fig, axs = plt.subplots(figsize=fig_default_size)\n",
    "hist, bins = np.histogram(PA_3, bins=30, density=True)\n",
    "\n",
    "\n",
    "# plotting the density frequency\n",
    "PA_3_interval_width = bins[1] - bins[0]\n",
    "PA_3_frequency_density = hist / (len(PA_3) * PA_3_interval_width)\n",
    "plt.plot(bins[:-1], PA_3_frequency_density, color=fig_default_color, lw=2)\n",
    "plt.xlabel('Quantidade de visitas por aluno')\n",
    "plt.ylabel('Densidade de frequência')\n",
    "plt.grid(True)\n",
    "\n",
    "# axs setting\n",
    "axs.set_xlabel('Avaliações')\n",
    "axs.set_ylabel('Contagem')\n",
    "\n",
    "# save the figure in png format\n",
    "if save_all_figures:\n",
    "    plt.savefig('academic_imgs/PA_3_density_frequency')\n",
    "    \n",
    "# showing the figure\n",
    "plt.show()"
   ]
  },
  {
   "cell_type": "markdown",
   "metadata": {},
   "source": [
    "### PA_4\n",
    "Quantas horas aproximadamente, você investiu no projeto, somente de tempo fora de sala de aula por semana? (openlab + tempo na poli ou em casa, desenvolvendo o projeto)"
   ]
  },
  {
   "cell_type": "code",
   "execution_count": 506,
   "metadata": {},
   "outputs": [
    {
     "data": {
      "text/plain": [
       "((28,), (11,), (17,))"
      ]
     },
     "execution_count": 506,
     "metadata": {},
     "output_type": "execute_result"
    }
   ],
   "source": [
    "PA_4 = df['PA_4']\n",
    "PA_4_monday = monday_df['PA_4']\n",
    "PA_4_wednesday = wednesday_df['PA_4']\n",
    "\n",
    "PA_4 = PA_4.dropna()\n",
    "PA_4_monday = PA_4_monday.dropna()\n",
    "PA_4_wednesday = PA_4_wednesday.dropna()\n",
    "\n",
    "PA_4.shape, PA_4_monday.shape, PA_4_wednesday.shape"
   ]
  },
  {
   "cell_type": "markdown",
   "metadata": {},
   "source": [
    "### PA_5\n",
    "De forma geral, você sofreu algum prejuízo acadêmico nas outras disciplinas do quadrimestre?\n",
    "- (a) 1 [Nenhum prejuízo]\n",
    "- (b) 2\n",
    "- (c) 3\n",
    "- (d) 4\n",
    "- (e) 5 [Muito prejuízo]"
   ]
  },
  {
   "cell_type": "markdown",
   "metadata": {},
   "source": [
    "### PA_6\n",
    "Durante as semanas de experimentos, você sofreu algum prejuízo acadêmico nas outras disciplinas do quadrimestre?\n",
    "- (a) 1 [Nenhum prejuízo]\n",
    "- (b) 2\n",
    "- (c) 3\n",
    "- (d) 4\n",
    "- (e) 5 [Muito]"
   ]
  },
  {
   "cell_type": "markdown",
   "metadata": {},
   "source": [
    "### PA_7\n",
    "Durante as semanas de projeto, você sofreu algum prejuízo acadêmico nas outras disciplinas do quadrimestre?\n",
    "- (a) 1 [Nenhum prejuízo]\n",
    "- (b) 2\n",
    "- (c) 3\n",
    "- (d) 4\n",
    "- (e) 5 [Muito]"
   ]
  },
  {
   "cell_type": "markdown",
   "metadata": {},
   "source": [
    "### PA_8\n",
    "Se você sofreu prejuízo acadêmico nas outras disciplinas, quais dos seguintes itens se enquadram no seu caso? (deixar em branco, caso contrário)\n",
    "- **[PA_8_1]** Se atrasar com o conteúdo outras disciplinas\n",
    "- **[PA_8_2]** Perder aula de outras disciplinas\n",
    "- **[PA_8_3]** Perda de desempenho nas provas\n",
    "- **[PA_8_4]** Perda de desempenho nos testinhos de [PTC3007] - Sistemas e Sinais\n",
    "- **[PA_8_5]** Falta de tempo para relatório de [MAP3122] - Cálculo Numérico\n",
    "- **[PA_8_6]** Falta de tempo para o EP de [PCS3616] Sistemas de Programação\n",
    "- **[PA_8_7]** Falta de tempo para o projeto de [PCS3623] Banco de Dados I\n",
    "- **[PA_8_8]** Dificuldades com matérias do curso semestral (DP ou outros casos)\n",
    "- **[PA_8_9]** Outros… [Texto Livre]"
   ]
  },
  {
   "cell_type": "markdown",
   "metadata": {},
   "source": [
    "### PA_9\n",
    "Se você perdeu aulas para fazer o projeto da disciplina, diga uma estimativa da quantidade de aulas perdidas, caso você a tenha. [Texto Livre]"
   ]
  },
  {
   "cell_type": "markdown",
   "metadata": {},
   "source": [
    "### PA_10\n",
    "Numa escala de 1 a 5, qual o seu grau de satisfação geral com o tempo despendido em Lab Dig?\n",
    "- (a) 1 [Muito insatisfeita(o)]\n",
    "- (a) 2\n",
    "- (a) 3\n",
    "- (a) 4\n",
    "- (a) 5 [Muito satisfeita(o)]\n"
   ]
  },
  {
   "cell_type": "markdown",
   "metadata": {},
   "source": [
    "### PA_11\n",
    "Numa escala de 1 a 5, como você avalia a especificação de requisitos do projeto, nas semanas 0.1 e 0.2, nos aspectos abaixo? [Escala de 1 a 5 para cada item]\n",
    "- **PA_11_1** plausibilidade técnica, dentro do prazo proposto\t\n",
    "- **PA_11_2** coerência com o conteúdo dado na disciplina\t\n",
    "- **PA_11_3** flexibilidade com o projeto, para que o grupo pudesse optar por algo mais simples\t\n",
    "- **PA_11_4** clareza da orientação\t\n",
    "- **PA_11_5** comunicação dos docentes\t\n",
    "- **PA_11_6** complexidade do projeto, de forma geral\t\n"
   ]
  },
  {
   "cell_type": "markdown",
   "metadata": {},
   "source": [
    "### PA_12\n",
    "Qual o seu grau de satisfação com a disciplina quanto aos elementos abaixo? [respostas possíveis são Muito Insatisfeito(a), Insatisfeito(a), Neutro(a), Satisfeito(a) e Muito Satisfeito(a)]\n",
    "- **[PA_12_1]** A Disciplina em Geral\t\n",
    "- **[PA_12_2]** Semanas de Experimento\t\n",
    "- **[PA_12_3]** Semanas de Projeto\t\n",
    "- **[PA_12_4]** Quantidade de relatórios\t\n",
    "- **[PA_12_5]** Complexidade dos relatórios\t\n",
    "- **[PA_12_6]** Uso do tempo de sala\t\n",
    "- **[PA_12_7]** Uso do tempo fora de sala\t\n",
    "- **[PA_12_8]** Comunicação com os docentes\t\n",
    "- **[PA_12_9]** Flexibilidade dos docentes\t"
   ]
  },
  {
   "cell_type": "markdown",
   "metadata": {},
   "source": [
    "## Pesquisa de Saúde"
   ]
  },
  {
   "cell_type": "markdown",
   "metadata": {},
   "source": [
    "### PS_1\n",
    "Você sentiu algum prejuízo em termos de saúde mental?\n",
    "- (a) 1 [Não, estou bem]\n",
    "- (b) 2\n",
    "- (c) 3\n",
    "- (d) 4\n",
    "- (e) 5 [Sim, e muito]\n",
    "\n",
    "    "
   ]
  },
  {
   "cell_type": "markdown",
   "metadata": {},
   "source": [
    "### PS_2\n",
    "Você sentiu algum prejuízo em termos de saúde física?\n",
    "- (a) 1 [Não, estou bem]\n",
    "- (b) 2\n",
    "- (c) 3\n",
    "- (d) 4\n",
    "- (e) 5 [Sim, e muito]"
   ]
  },
  {
   "cell_type": "markdown",
   "metadata": {},
   "source": [
    "### PS_3\n",
    "Quais dos sintomas abaixo você apresentou e com que intensidade? [Respostas possíveis são: nenhuma manifestação, apresentei um pouco, moderado e apresentei muito]\n",
    "- **[PS_3_1]** Cansaço\t\n",
    "- **[PS_3_2]** Estresse\t\n",
    "- **[PS_3_3]** Ansiedade\t\n",
    "- **[PS_3_4]** Irritação\t\n",
    "- **[PS_3_5]** Depressão\t"
   ]
  },
  {
   "cell_type": "markdown",
   "metadata": {},
   "source": [
    "### PS_4\n",
    "Durante as semanas de projeto, como você avalia, a qualidade dos seguintes aspectos? [Respostas possíveis são: péssimo, ruim, neutro, bom e excelente]\n",
    "- **[PS_4_1]** sono\t\n",
    "- **[PS_4_2]** alimentação\t\n",
    "- **[PS_4_3]** concentração\t\n",
    "- **[PS_4_4]** humor\t\n",
    "- **[PS_4_5]** bem-estar geral\t"
   ]
  },
  {
   "cell_type": "markdown",
   "metadata": {},
   "source": [
    "### PS_5\n",
    "Em relação a alimentação, você conseguiu se alimentar adequadamente durante as semanas de projeto?\n",
    "- **[PS_5_1]** Sim, me alimentei de forma saudável\n",
    "- **[PS_5_2]** Sim, me alimentei normalmente\n",
    "- **[PS_5_3]** Não, eu me alimentei mal\n",
    "- **[PS_5_4]** Não, tive prejuízos na minha alimentação"
   ]
  },
  {
   "cell_type": "markdown",
   "metadata": {},
   "source": [
    "### PS_6\n",
    "Se você costuma se alimentar nos bandeijões, a frequência com que você os frequentava foi alterada?\n",
    "- (a) Sim\n",
    "- (b) Não\n",
    "\n"
   ]
  },
  {
   "cell_type": "markdown",
   "metadata": {},
   "source": [
    "### PS_7\n",
    "Você pulou refeições nas semanas de projetos? Com que frequência? [Respostas Possíveis são: não pulei, pulei às vezes e pulei frequentemente]\n",
    "- **[PS_7_1]** café da manhã\t\n",
    "- **[PS_7_2]** almoço\t\n",
    "- **[PS_7_3]** jantar\t"
   ]
  },
  {
   "cell_type": "markdown",
   "metadata": {},
   "source": [
    "### PS_8\n",
    "Caso você se sinta confortável, use esse espaço para se expressar. Garantimos que a resposta será anônima e não será identificada por ninguém. Você pode contar seu relato com a disciplina e como se sentiu em relação a ela, ou dizer o que quiser, sob qualquer posicionamento. [Texto Livre]\n"
   ]
  },
  {
   "cell_type": "code",
   "execution_count": null,
   "metadata": {},
   "outputs": [],
   "source": []
  }
 ],
 "metadata": {
  "kernelspec": {
   "display_name": "Python 3",
   "language": "python",
   "name": "python3"
  },
  "language_info": {
   "codemirror_mode": {
    "name": "ipython",
    "version": 3
   },
   "file_extension": ".py",
   "mimetype": "text/x-python",
   "name": "python",
   "nbconvert_exporter": "python",
   "pygments_lexer": "ipython3",
   "version": "3.10.11"
  }
 },
 "nbformat": 4,
 "nbformat_minor": 2
}
