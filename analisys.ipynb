{
 "cells": [
  {
   "cell_type": "markdown",
   "metadata": {},
   "source": [
    "# [PCS3635] Análise de Dados"
   ]
  },
  {
   "cell_type": "code",
   "execution_count": 65,
   "metadata": {},
   "outputs": [],
   "source": [
    "import pandas as pd\n",
    "import numpy as np\n",
    "from matplotlib import pyplot as plt"
   ]
  },
  {
   "cell_type": "code",
   "execution_count": 14,
   "metadata": {},
   "outputs": [],
   "source": [
    "df = pd.read_csv('encoded_data.csv')"
   ]
  },
  {
   "cell_type": "markdown",
   "metadata": {},
   "source": [
    "## Descrição Básica do Dataframe "
   ]
  },
  {
   "cell_type": "code",
   "execution_count": 15,
   "metadata": {},
   "outputs": [
    {
     "data": {
      "text/html": [
       "<div>\n",
       "<style scoped>\n",
       "    .dataframe tbody tr th:only-of-type {\n",
       "        vertical-align: middle;\n",
       "    }\n",
       "\n",
       "    .dataframe tbody tr th {\n",
       "        vertical-align: top;\n",
       "    }\n",
       "\n",
       "    .dataframe thead th {\n",
       "        text-align: right;\n",
       "    }\n",
       "</style>\n",
       "<table border=\"1\" class=\"dataframe\">\n",
       "  <thead>\n",
       "    <tr style=\"text-align: right;\">\n",
       "      <th></th>\n",
       "      <th>date</th>\n",
       "      <th>PA_1</th>\n",
       "      <th>PA_2</th>\n",
       "      <th>PA_3</th>\n",
       "      <th>PA_4</th>\n",
       "      <th>PA_5</th>\n",
       "      <th>PA_6</th>\n",
       "      <th>PA_7</th>\n",
       "      <th>PA_8</th>\n",
       "      <th>PA_8_1</th>\n",
       "      <th>...</th>\n",
       "      <th>PS_4_2</th>\n",
       "      <th>PS_4_3</th>\n",
       "      <th>PS_4_4</th>\n",
       "      <th>PS_4_5</th>\n",
       "      <th>PS_5</th>\n",
       "      <th>PS_6</th>\n",
       "      <th>PS_7_1</th>\n",
       "      <th>PS_7_2</th>\n",
       "      <th>PS_7_3</th>\n",
       "      <th>PS_8</th>\n",
       "    </tr>\n",
       "  </thead>\n",
       "  <tbody>\n",
       "    <tr>\n",
       "      <th>0</th>\n",
       "      <td>22/04/2024 15:22:50</td>\n",
       "      <td>1</td>\n",
       "      <td>4</td>\n",
       "      <td>8.0</td>\n",
       "      <td>12.0</td>\n",
       "      <td>4</td>\n",
       "      <td>3</td>\n",
       "      <td>5</td>\n",
       "      <td>Se atrasar com o conteúdo outras disciplinas, ...</td>\n",
       "      <td>1.0</td>\n",
       "      <td>...</td>\n",
       "      <td>2.0</td>\n",
       "      <td>2.0</td>\n",
       "      <td>1.0</td>\n",
       "      <td>1.0</td>\n",
       "      <td>-5.0</td>\n",
       "      <td>1.0</td>\n",
       "      <td>2.0</td>\n",
       "      <td>1.0</td>\n",
       "      <td>0.0</td>\n",
       "      <td>NaN</td>\n",
       "    </tr>\n",
       "    <tr>\n",
       "      <th>1</th>\n",
       "      <td>22/04/2024 15:23:42</td>\n",
       "      <td>1</td>\n",
       "      <td>1</td>\n",
       "      <td>12.0</td>\n",
       "      <td>40.0</td>\n",
       "      <td>4</td>\n",
       "      <td>1</td>\n",
       "      <td>5</td>\n",
       "      <td>Se atrasar com o conteúdo outras disciplinas, ...</td>\n",
       "      <td>1.0</td>\n",
       "      <td>...</td>\n",
       "      <td>3.0</td>\n",
       "      <td>2.0</td>\n",
       "      <td>2.0</td>\n",
       "      <td>2.0</td>\n",
       "      <td>5.0</td>\n",
       "      <td>1.0</td>\n",
       "      <td>0.0</td>\n",
       "      <td>2.0</td>\n",
       "      <td>1.0</td>\n",
       "      <td>O fato de LabDig exigir mais tempo que o norma...</td>\n",
       "    </tr>\n",
       "    <tr>\n",
       "      <th>2</th>\n",
       "      <td>22/04/2024 15:24:48</td>\n",
       "      <td>2</td>\n",
       "      <td>4</td>\n",
       "      <td>8.0</td>\n",
       "      <td>9.0</td>\n",
       "      <td>2</td>\n",
       "      <td>1</td>\n",
       "      <td>2</td>\n",
       "      <td>Falta de tempo para o EP de [PCS3616] Sistemas...</td>\n",
       "      <td>0.0</td>\n",
       "      <td>...</td>\n",
       "      <td>3.0</td>\n",
       "      <td>3.0</td>\n",
       "      <td>4.0</td>\n",
       "      <td>3.0</td>\n",
       "      <td>5.0</td>\n",
       "      <td>0.0</td>\n",
       "      <td>0.0</td>\n",
       "      <td>0.0</td>\n",
       "      <td>0.0</td>\n",
       "      <td>NaN</td>\n",
       "    </tr>\n",
       "    <tr>\n",
       "      <th>3</th>\n",
       "      <td>22/04/2024 15:29:14</td>\n",
       "      <td>2</td>\n",
       "      <td>4</td>\n",
       "      <td>6.0</td>\n",
       "      <td>30.0</td>\n",
       "      <td>4</td>\n",
       "      <td>3</td>\n",
       "      <td>4</td>\n",
       "      <td>Se atrasar com o conteúdo outras disciplinas, ...</td>\n",
       "      <td>1.0</td>\n",
       "      <td>...</td>\n",
       "      <td>4.0</td>\n",
       "      <td>4.0</td>\n",
       "      <td>4.0</td>\n",
       "      <td>4.0</td>\n",
       "      <td>5.0</td>\n",
       "      <td>1.0</td>\n",
       "      <td>0.0</td>\n",
       "      <td>0.0</td>\n",
       "      <td>0.0</td>\n",
       "      <td>A matéria em si foi exigente, foi puxada, p...</td>\n",
       "    </tr>\n",
       "    <tr>\n",
       "      <th>4</th>\n",
       "      <td>22/04/2024 15:43:26</td>\n",
       "      <td>1</td>\n",
       "      <td>5</td>\n",
       "      <td>1.0</td>\n",
       "      <td>10.0</td>\n",
       "      <td>1</td>\n",
       "      <td>1</td>\n",
       "      <td>1</td>\n",
       "      <td>NaN</td>\n",
       "      <td>0.0</td>\n",
       "      <td>...</td>\n",
       "      <td>5.0</td>\n",
       "      <td>5.0</td>\n",
       "      <td>5.0</td>\n",
       "      <td>5.0</td>\n",
       "      <td>15.0</td>\n",
       "      <td>0.0</td>\n",
       "      <td>0.0</td>\n",
       "      <td>0.0</td>\n",
       "      <td>0.0</td>\n",
       "      <td>NaN</td>\n",
       "    </tr>\n",
       "  </tbody>\n",
       "</table>\n",
       "<p>5 rows × 53 columns</p>\n",
       "</div>"
      ],
      "text/plain": [
       "                  date  PA_1  PA_2  PA_3  PA_4  PA_5  PA_6  PA_7  \\\n",
       "0  22/04/2024 15:22:50     1     4   8.0  12.0     4     3     5   \n",
       "1  22/04/2024 15:23:42     1     1  12.0  40.0     4     1     5   \n",
       "2  22/04/2024 15:24:48     2     4   8.0   9.0     2     1     2   \n",
       "3  22/04/2024 15:29:14     2     4   6.0  30.0     4     3     4   \n",
       "4  22/04/2024 15:43:26     1     5   1.0  10.0     1     1     1   \n",
       "\n",
       "                                                PA_8  PA_8_1  ...  PS_4_2  \\\n",
       "0  Se atrasar com o conteúdo outras disciplinas, ...     1.0  ...     2.0   \n",
       "1  Se atrasar com o conteúdo outras disciplinas, ...     1.0  ...     3.0   \n",
       "2  Falta de tempo para o EP de [PCS3616] Sistemas...     0.0  ...     3.0   \n",
       "3  Se atrasar com o conteúdo outras disciplinas, ...     1.0  ...     4.0   \n",
       "4                                                NaN     0.0  ...     5.0   \n",
       "\n",
       "   PS_4_3  PS_4_4  PS_4_5  PS_5  PS_6  PS_7_1  PS_7_2  PS_7_3  \\\n",
       "0     2.0     1.0     1.0  -5.0   1.0     2.0     1.0     0.0   \n",
       "1     2.0     2.0     2.0   5.0   1.0     0.0     2.0     1.0   \n",
       "2     3.0     4.0     3.0   5.0   0.0     0.0     0.0     0.0   \n",
       "3     4.0     4.0     4.0   5.0   1.0     0.0     0.0     0.0   \n",
       "4     5.0     5.0     5.0  15.0   0.0     0.0     0.0     0.0   \n",
       "\n",
       "                                                PS_8  \n",
       "0                                                NaN  \n",
       "1  O fato de LabDig exigir mais tempo que o norma...  \n",
       "2                                                NaN  \n",
       "3     A matéria em si foi exigente, foi puxada, p...  \n",
       "4                                                NaN  \n",
       "\n",
       "[5 rows x 53 columns]"
      ]
     },
     "execution_count": 15,
     "metadata": {},
     "output_type": "execute_result"
    }
   ],
   "source": [
    "df.head()"
   ]
  },
  {
   "cell_type": "code",
   "execution_count": 16,
   "metadata": {},
   "outputs": [
    {
     "name": "stdout",
     "output_type": "stream",
     "text": [
      "<class 'pandas.core.frame.DataFrame'>\n",
      "RangeIndex: 31 entries, 0 to 30\n",
      "Data columns (total 53 columns):\n",
      " #   Column   Non-Null Count  Dtype  \n",
      "---  ------   --------------  -----  \n",
      " 0   date     31 non-null     object \n",
      " 1   PA_1     31 non-null     int64  \n",
      " 2   PA_2     31 non-null     int64  \n",
      " 3   PA_3     29 non-null     float64\n",
      " 4   PA_4     28 non-null     float64\n",
      " 5   PA_5     31 non-null     int64  \n",
      " 6   PA_6     31 non-null     int64  \n",
      " 7   PA_7     31 non-null     int64  \n",
      " 8   PA_8     29 non-null     object \n",
      " 9   PA_8_1   27 non-null     float64\n",
      " 10  PA_8_2   31 non-null     int64  \n",
      " 11  PA_8_3   31 non-null     int64  \n",
      " 12  PA_8_4   31 non-null     int64  \n",
      " 13  PA_8_5   30 non-null     float64\n",
      " 14  PA_8_6   31 non-null     int64  \n",
      " 15  PA_8_7   31 non-null     int64  \n",
      " 16  PA_8_8   31 non-null     int64  \n",
      " 17  PA_8_9   31 non-null     int64  \n",
      " 18  PA_9     28 non-null     float64\n",
      " 19  PA_10    31 non-null     int64  \n",
      " 20  PA_11_1  29 non-null     float64\n",
      " 21  PA_11_2  29 non-null     float64\n",
      " 22  PA_11_3  29 non-null     float64\n",
      " 23  PA_11_4  29 non-null     float64\n",
      " 24  PA_11_5  29 non-null     float64\n",
      " 25  PA_11_6  29 non-null     float64\n",
      " 26  PA_12_1  31 non-null     int64  \n",
      " 27  PA_12_2  31 non-null     int64  \n",
      " 28  PA_12_3  31 non-null     int64  \n",
      " 29  PA_12_4  31 non-null     int64  \n",
      " 30  PA_12_5  31 non-null     int64  \n",
      " 31  PA_12_6  31 non-null     int64  \n",
      " 32  PA_12_7  31 non-null     int64  \n",
      " 33  PA_12_8  31 non-null     int64  \n",
      " 34  PA_12_9  31 non-null     int64  \n",
      " 35  PS_1     31 non-null     int64  \n",
      " 36  PS_2     31 non-null     int64  \n",
      " 37  PS_3_1   30 non-null     float64\n",
      " 38  PS_3_2   29 non-null     float64\n",
      " 39  PS_3_3   30 non-null     float64\n",
      " 40  PS_3_4   30 non-null     float64\n",
      " 41  PS_3_5   30 non-null     float64\n",
      " 42  PS_4_1   30 non-null     float64\n",
      " 43  PS_4_2   30 non-null     float64\n",
      " 44  PS_4_3   30 non-null     float64\n",
      " 45  PS_4_4   30 non-null     float64\n",
      " 46  PS_4_5   30 non-null     float64\n",
      " 47  PS_5     29 non-null     float64\n",
      " 48  PS_6     27 non-null     float64\n",
      " 49  PS_7_1   29 non-null     float64\n",
      " 50  PS_7_2   29 non-null     float64\n",
      " 51  PS_7_3   29 non-null     float64\n",
      " 52  PS_8     11 non-null     object \n",
      "dtypes: float64(26), int64(24), object(3)\n",
      "memory usage: 13.0+ KB\n"
     ]
    }
   ],
   "source": [
    "df.info()"
   ]
  },
  {
   "cell_type": "code",
   "execution_count": 19,
   "metadata": {},
   "outputs": [
    {
     "data": {
      "text/plain": [
       "(31, 53)"
      ]
     },
     "execution_count": 19,
     "metadata": {},
     "output_type": "execute_result"
    }
   ],
   "source": [
    "df.shape"
   ]
  },
  {
   "cell_type": "markdown",
   "metadata": {},
   "source": [
    "## Configuração das Figuras"
   ]
  },
  {
   "cell_type": "code",
   "execution_count": 20,
   "metadata": {},
   "outputs": [],
   "source": [
    "size = (6, 8)"
   ]
  },
  {
   "cell_type": "markdown",
   "metadata": {},
   "source": [
    "## Pesquisa Acadêmica"
   ]
  },
  {
   "cell_type": "markdown",
   "metadata": {},
   "source": [
    "### PA_1\n",
    "De qual turma você faz parte?<br>\n",
    "- (a) Segunda-Feira<br>\n",
    "- (b) Quarta-Feira"
   ]
  },
  {
   "cell_type": "code",
   "execution_count": 47,
   "metadata": {},
   "outputs": [
    {
     "data": {
      "text/plain": [
       "((31,), (11, 53), (20, 53))"
      ]
     },
     "execution_count": 47,
     "metadata": {},
     "output_type": "execute_result"
    }
   ],
   "source": [
    "PA_1 = df['PA_1']\n",
    "\n",
    "# separation by groups\n",
    "monday_df = df[df['PA_1'] == 1]\n",
    "wednesday_df = df[df['PA_1'] == 2]\n",
    "\n",
    "PA_1.shape, monday_df.shape, wednesday_df.shape"
   ]
  },
  {
   "cell_type": "code",
   "execution_count": 41,
   "metadata": {},
   "outputs": [
    {
     "data": {
      "text/plain": [
       "{'monday_total_n': 38,\n",
       " 'wednesday_total_n': 27,\n",
       " 'monday_total_n_answered': 11,\n",
       " 'wednesday_total_n_answered': 20,\n",
       " 'monday_fraction_answered': 0.2894736842105263,\n",
       " 'wednesday_fraction_answered': 0.7407407407407407,\n",
       " 'monday_fraction_answered_percentage': 28.947368421052634,\n",
       " 'wednesday_fraction_answered_percentage': 74.07407407407408}"
      ]
     },
     "execution_count": 41,
     "metadata": {},
     "output_type": "execute_result"
    }
   ],
   "source": [
    "# total number of students per group\n",
    "monday_total_n = 38\n",
    "wednesday_total_n = 27\n",
    "\n",
    "# total number of students that answered the research per group\n",
    "monday_total_n_answered = monday_df.shape[0]\n",
    "wednesday_total_n_answered = wednesday_df.shape[0]\n",
    "\n",
    "# n answers / n students per group\n",
    "monday_fraction_answered = monday_total_n_answered/monday_total_n\n",
    "wednesday_fraction_answered = wednesday_total_n_answered/wednesday_total_n\n",
    "\n",
    "# n answers / n students per group in percentage\n",
    "monday_fraction_answered_percentage = 100*monday_fraction_answered\n",
    "wednesday_fraction_answered_percentage = 100*wednesday_fraction_answered\n",
    "\n",
    "groups = {\n",
    "    'monday_total_n': monday_total_n,\n",
    "    'wednesday_total_n': wednesday_total_n,\n",
    "    'monday_total_n_answered': monday_total_n_answered,\n",
    "    'wednesday_total_n_answered': wednesday_total_n_answered,\n",
    "    'monday_fraction_answered': monday_fraction_answered,\n",
    "    'wednesday_fraction_answered': wednesday_fraction_answered,\n",
    "    'monday_fraction_answered_percentage': monday_fraction_answered_percentage,\n",
    "    'wednesday_fraction_answered_percentage': wednesday_fraction_answered_percentage\n",
    "}\n",
    "\n",
    "groups"
   ]
  },
  {
   "cell_type": "code",
   "execution_count": 43,
   "metadata": {},
   "outputs": [
    {
     "data": {
      "text/html": [
       "<div>\n",
       "<style scoped>\n",
       "    .dataframe tbody tr th:only-of-type {\n",
       "        vertical-align: middle;\n",
       "    }\n",
       "\n",
       "    .dataframe tbody tr th {\n",
       "        vertical-align: top;\n",
       "    }\n",
       "\n",
       "    .dataframe thead th {\n",
       "        text-align: right;\n",
       "    }\n",
       "</style>\n",
       "<table border=\"1\" class=\"dataframe\">\n",
       "  <thead>\n",
       "    <tr style=\"text-align: right;\">\n",
       "      <th></th>\n",
       "      <th>turma</th>\n",
       "      <th>total de alunos</th>\n",
       "      <th>quantidade de respostas</th>\n",
       "      <th>quantidade de respostas (%)</th>\n",
       "    </tr>\n",
       "  </thead>\n",
       "  <tbody>\n",
       "    <tr>\n",
       "      <th>0</th>\n",
       "      <td>monday</td>\n",
       "      <td>38</td>\n",
       "      <td>11</td>\n",
       "      <td>28.947368</td>\n",
       "    </tr>\n",
       "    <tr>\n",
       "      <th>1</th>\n",
       "      <td>wednesday</td>\n",
       "      <td>27</td>\n",
       "      <td>20</td>\n",
       "      <td>74.074074</td>\n",
       "    </tr>\n",
       "  </tbody>\n",
       "</table>\n",
       "</div>"
      ],
      "text/plain": [
       "       turma  total de alunos  quantidade de respostas  \\\n",
       "0     monday               38                       11   \n",
       "1  wednesday               27                       20   \n",
       "\n",
       "   quantidade de respostas (%)  \n",
       "0                    28.947368  \n",
       "1                    74.074074  "
      ]
     },
     "execution_count": 43,
     "metadata": {},
     "output_type": "execute_result"
    }
   ],
   "source": [
    "# resume\n",
    "PA_1_resume = {\n",
    "    'turma': ['monday', 'wednesday'],\n",
    "    'total de alunos': [groups['monday_total_n'], groups['wednesday_total_n']],\n",
    "    'quantidade de respostas': [groups['monday_total_n_answered'], groups['wednesday_total_n_answered']],\n",
    "    'quantidade de respostas (%)': [groups['monday_fraction_answered_percentage'], groups['wednesday_fraction_answered_percentage']]\n",
    "}\n",
    "\n",
    "PA_1_resume_table = pd.DataFrame(PA_1_resume)\n",
    "\n",
    "PA_1_resume_table"
   ]
  },
  {
   "cell_type": "markdown",
   "metadata": {},
   "source": [
    "### PA_2\n",
    "A disciplina possuiu dois créditos de trabalho (3h20/semana). O tempo gasto por você com a disciplina, em período fora de sala de aula, ficou dentro desse limite?\n",
    "- (a) Foi muito abaixo desse limite\n",
    "- (b) Foi abaixo do limite\n",
    "- (c) Foi adequado\n",
    "- (d) Foi acima desse limite\n",
    "- (e) Foi muito acima do limite"
   ]
  },
  {
   "cell_type": "code",
   "execution_count": 48,
   "metadata": {},
   "outputs": [
    {
     "data": {
      "text/plain": [
       "((31,), (11,), (20,))"
      ]
     },
     "execution_count": 48,
     "metadata": {},
     "output_type": "execute_result"
    }
   ],
   "source": [
    "PA_2 = df['PA_2']\n",
    "PA_2_monday = monday_df['PA_2']\n",
    "PA_2_wednesday = wednesday_df['PA_2']\n",
    "\n",
    "PA_2.shape, PA_2_monday.shape, PA_2_wednesday.shape"
   ]
  },
  {
   "cell_type": "code",
   "execution_count": 77,
   "metadata": {},
   "outputs": [
    {
     "name": "stdout",
     "output_type": "stream",
     "text": [
      "PA_2_counting\n",
      "lenght: 5\n",
      "array: 1     1\n",
      "2     0\n",
      "3     0\n",
      "4    13\n",
      "5    17\n",
      "Name: PA_2, dtype: int64\n",
      "\n",
      "PA_2_monday_counting\n",
      "lenght: 5\n",
      "array: 1    1\n",
      "2    0\n",
      "3    0\n",
      "4    5\n",
      "5    5\n",
      "Name: PA_2, dtype: int64\n",
      "\n",
      "PA_2_wednesday_counting\n",
      "lenght: 5\n",
      "array: 1     0\n",
      "2     0\n",
      "3     0\n",
      "4     8\n",
      "5    12\n",
      "Name: PA_2, dtype: int64\n",
      "\n"
     ]
    }
   ],
   "source": [
    "PA_2_classes = [1, 2, 3, 4, 5]\n",
    "\n",
    "# index mapping\n",
    "PA_2_categories_mapping = {\n",
    "    1: 'muito abaixo',\n",
    "    2: 'abaixo',\n",
    "    3: 'adequado', \n",
    "    4: 'acima',\n",
    "    5: 'muito acima'\n",
    "}\n",
    "\n",
    "# categories\n",
    "PA_2_categories = [PA_2_categories_mapping[PA_2_class] for PA_2_class in PA_2_classes]\n",
    "\n",
    "# counting categories\n",
    "PA_2_counting = PA_2.value_counts()\n",
    "PA_2_monday_counting = PA_2_monday.value_counts()\n",
    "PA_2_wednesday_counting = PA_2_wednesday.value_counts()\n",
    "\n",
    "# filling with 0 non observed categories\n",
    "PA_2_counting = PA_2_counting.reindex(PA_2_classes, fill_value=0)\n",
    "PA_2_monday_counting = PA_2_monday_counting.reindex(PA_2_classes, fill_value=0)\n",
    "PA_2_wednesday_counting = PA_2_wednesday_counting.reindex(PA_2_classes, fill_value=0)\n",
    "\n",
    "print(f'PA_2_counting\\nlenght: {len(PA_2_counting)}\\narray: {PA_2_counting}\\n')\n",
    "print(f'PA_2_monday_counting\\nlenght: {len(PA_2_monday_counting)}\\narray: {PA_2_monday_counting}\\n')\n",
    "print(f'PA_2_wednesday_counting\\nlenght: {len(PA_2_wednesday_counting)}\\narray: {PA_2_wednesday_counting}\\n')"
   ]
  },
  {
   "cell_type": "code",
   "execution_count": 74,
   "metadata": {},
   "outputs": [
    {
     "data": {
      "image/png": "[encoded data removed]",
      "text/plain": [
       "<Figure size 640x480 with 1 Axes>"
      ]
     },
     "metadata": {},
     "output_type": "display_data"
    }
   ],
   "source": [
    "plt.bar(PA_2_classes, PA_2_counting)\n",
    "\n",
    "plt.xlabel('Categorias')\n",
    "plt.ylabel('Contagem')\n",
    "plt.title('Contagem de Categorias')\n",
    "\n",
    "# Exibindo o gráfico\n",
    "plt.show()"
   ]
  },
  {
   "cell_type": "markdown",
   "metadata": {},
   "source": [
    "### PA_3"
   ]
  },
  {
   "cell_type": "markdown",
   "metadata": {},
   "source": [
    "### PA_4"
   ]
  },
  {
   "cell_type": "markdown",
   "metadata": {},
   "source": [
    "### PA_5"
   ]
  },
  {
   "cell_type": "markdown",
   "metadata": {},
   "source": [
    "### PA_6"
   ]
  },
  {
   "cell_type": "markdown",
   "metadata": {},
   "source": [
    "### PA_7"
   ]
  },
  {
   "cell_type": "markdown",
   "metadata": {},
   "source": [
    "### PA_8"
   ]
  },
  {
   "cell_type": "markdown",
   "metadata": {},
   "source": [
    "### PA_9"
   ]
  },
  {
   "cell_type": "markdown",
   "metadata": {},
   "source": [
    "### PA_10"
   ]
  },
  {
   "cell_type": "markdown",
   "metadata": {},
   "source": [
    "### PA_11"
   ]
  },
  {
   "cell_type": "markdown",
   "metadata": {},
   "source": [
    "### PA_12"
   ]
  },
  {
   "cell_type": "markdown",
   "metadata": {},
   "source": [
    "## Pesquisa de Saúde"
   ]
  },
  {
   "cell_type": "markdown",
   "metadata": {},
   "source": [
    "### PS_1"
   ]
  },
  {
   "cell_type": "markdown",
   "metadata": {},
   "source": [
    "### PS_1"
   ]
  },
  {
   "cell_type": "markdown",
   "metadata": {},
   "source": [
    "### PS_2"
   ]
  },
  {
   "cell_type": "markdown",
   "metadata": {},
   "source": [
    "### PS_3"
   ]
  },
  {
   "cell_type": "markdown",
   "metadata": {},
   "source": [
    "### PS_4"
   ]
  },
  {
   "cell_type": "markdown",
   "metadata": {},
   "source": [
    "### PS_5"
   ]
  },
  {
   "cell_type": "markdown",
   "metadata": {},
   "source": [
    "### PS_6"
   ]
  },
  {
   "cell_type": "markdown",
   "metadata": {},
   "source": [
    "### PS_7"
   ]
  },
  {
   "cell_type": "markdown",
   "metadata": {},
   "source": [
    "### PS_8"
   ]
  },
  {
   "cell_type": "code",
   "execution_count": null,
   "metadata": {},
   "outputs": [],
   "source": []
  }
 ],
 "metadata": {
  "kernelspec": {
   "display_name": "Python 3",
   "language": "python",
   "name": "python3"
  },
  "language_info": {
   "codemirror_mode": {
    "name": "ipython",
    "version": 3
   },
   "file_extension": ".py",
   "mimetype": "text/x-python",
   "name": "python",
   "nbconvert_exporter": "python",
   "pygments_lexer": "ipython3",
   "version": "3.10.11"
  }
 },
 "nbformat": 4,
 "nbformat_minor": 2
}
